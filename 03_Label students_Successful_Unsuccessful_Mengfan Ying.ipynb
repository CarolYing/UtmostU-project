{
 "cells": [
  {
   "cell_type": "code",
   "execution_count": 1,
   "metadata": {},
   "outputs": [],
   "source": [
    "import pandas as pd\n",
    "import numpy as np\n",
    "import matplotlib.pyplot as plt\n",
    "import seaborn as sns\n",
    "%matplotlib inline\n",
    "sns.set_style(\"darkgrid\")\n",
    "sns.set(rc={'figure.figsize':(8,6)}) # adjust figure size\\\n",
    "\n",
    "import re\n",
    "\n",
    "from scipy.stats import norm\n",
    "from sklearn.preprocessing import StandardScaler\n",
    "from scipy import stats\n",
    "import warnings\n",
    "warnings.filterwarnings('ignore')\n",
    "\n",
    "from datetime import datetime\n",
    "import matplotlib.pyplot as plt"
   ]
  },
  {
   "cell_type": "markdown",
   "metadata": {},
   "source": [
    "# Enrollment -- Successful V.S. Unsuccessful Student"
   ]
  },
  {
   "cell_type": "code",
   "execution_count": 2,
   "metadata": {},
   "outputs": [],
   "source": [
    "#read the csv document\n",
    "enrollment = pd.read_csv('df_Enrollment.csv')"
   ]
  },
  {
   "cell_type": "code",
   "execution_count": 3,
   "metadata": {},
   "outputs": [
    {
     "data": {
      "text/plain": [
       "<matplotlib.axes._subplots.AxesSubplot at 0x7fbe9c99f090>"
      ]
     },
     "execution_count": 3,
     "metadata": {},
     "output_type": "execute_result"
    },
    {
     "data": {
      "image/png": "[encoded data removed]",
      "text/plain": [
       "<Figure size 432x288 with 1 Axes>"
      ]
     },
     "metadata": {
      "needs_background": "light"
     },
     "output_type": "display_data"
    }
   ],
   "source": [
    "sns.heatmap(enrollment.isnull(), cbar=False)"
   ]
  },
  {
   "cell_type": "code",
   "execution_count": 4,
   "metadata": {},
   "outputs": [
    {
     "data": {
      "text/html": [
       "<div>\n",
       "<style scoped>\n",
       "    .dataframe tbody tr th:only-of-type {\n",
       "        vertical-align: middle;\n",
       "    }\n",
       "\n",
       "    .dataframe tbody tr th {\n",
       "        vertical-align: top;\n",
       "    }\n",
       "\n",
       "    .dataframe thead th {\n",
       "        text-align: right;\n",
       "    }\n",
       "</style>\n",
       "<table border=\"1\" class=\"dataframe\">\n",
       "  <thead>\n",
       "    <tr style=\"text-align: right;\">\n",
       "      <th></th>\n",
       "      <th>Total Missing</th>\n",
       "      <th>Percent</th>\n",
       "    </tr>\n",
       "  </thead>\n",
       "  <tbody>\n",
       "    <tr>\n",
       "      <td>Major_Text__c</td>\n",
       "      <td>1899</td>\n",
       "      <td>0.921397</td>\n",
       "    </tr>\n",
       "    <tr>\n",
       "      <td>Withdrawal_code__c</td>\n",
       "      <td>1427</td>\n",
       "      <td>0.692382</td>\n",
       "    </tr>\n",
       "    <tr>\n",
       "      <td>End_Date__c</td>\n",
       "      <td>541</td>\n",
       "      <td>0.262494</td>\n",
       "    </tr>\n",
       "    <tr>\n",
       "      <td>Date_Last_Verified__c</td>\n",
       "      <td>136</td>\n",
       "      <td>0.065987</td>\n",
       "    </tr>\n",
       "    <tr>\n",
       "      <td>Degree_Type__c</td>\n",
       "      <td>63</td>\n",
       "      <td>0.030568</td>\n",
       "    </tr>\n",
       "    <tr>\n",
       "      <td>Start_Date__c</td>\n",
       "      <td>59</td>\n",
       "      <td>0.028627</td>\n",
       "    </tr>\n",
       "    <tr>\n",
       "      <td>Status__c</td>\n",
       "      <td>0</td>\n",
       "      <td>0.000000</td>\n",
       "    </tr>\n",
       "    <tr>\n",
       "      <td>College__c</td>\n",
       "      <td>0</td>\n",
       "      <td>0.000000</td>\n",
       "    </tr>\n",
       "    <tr>\n",
       "      <td>CreatedDate</td>\n",
       "      <td>0</td>\n",
       "      <td>0.000000</td>\n",
       "    </tr>\n",
       "    <tr>\n",
       "      <td>Id</td>\n",
       "      <td>0</td>\n",
       "      <td>0.000000</td>\n",
       "    </tr>\n",
       "    <tr>\n",
       "      <td>Student__c</td>\n",
       "      <td>0</td>\n",
       "      <td>0.000000</td>\n",
       "    </tr>\n",
       "  </tbody>\n",
       "</table>\n",
       "</div>"
      ],
      "text/plain": [
       "                       Total Missing   Percent\n",
       "Major_Text__c                   1899  0.921397\n",
       "Withdrawal_code__c              1427  0.692382\n",
       "End_Date__c                      541  0.262494\n",
       "Date_Last_Verified__c            136  0.065987\n",
       "Degree_Type__c                    63  0.030568\n",
       "Start_Date__c                     59  0.028627\n",
       "Status__c                          0  0.000000\n",
       "College__c                         0  0.000000\n",
       "CreatedDate                        0  0.000000\n",
       "Id                                 0  0.000000\n",
       "Student__c                         0  0.000000"
      ]
     },
     "execution_count": 4,
     "metadata": {},
     "output_type": "execute_result"
    }
   ],
   "source": [
    "total = enrollment.isnull().sum().sort_values(ascending=False)\n",
    "percent = (enrollment.isnull().sum()/enrollment.isnull().count()).sort_values(ascending=False)\n",
    "missing_data = pd.concat([total, percent], axis=1, keys=['Total Missing', 'Percent'])\n",
    "missing_data"
   ]
  },
  {
   "cell_type": "code",
   "execution_count": 5,
   "metadata": {},
   "outputs": [],
   "source": [
    "# remove rows where Start_Date__c is NULL\n",
    "df = enrollment[['Student__c', 'Status__c','Start_Date__c']].dropna()"
   ]
  },
  {
   "cell_type": "code",
   "execution_count": 6,
   "metadata": {},
   "outputs": [
    {
     "data": {
      "text/html": [
       "<div>\n",
       "<style scoped>\n",
       "    .dataframe tbody tr th:only-of-type {\n",
       "        vertical-align: middle;\n",
       "    }\n",
       "\n",
       "    .dataframe tbody tr th {\n",
       "        vertical-align: top;\n",
       "    }\n",
       "\n",
       "    .dataframe thead th {\n",
       "        text-align: right;\n",
       "    }\n",
       "</style>\n",
       "<table border=\"1\" class=\"dataframe\">\n",
       "  <thead>\n",
       "    <tr style=\"text-align: right;\">\n",
       "      <th></th>\n",
       "      <th>Student__c</th>\n",
       "      <th>Status__c</th>\n",
       "      <th>Start_Date__c</th>\n",
       "    </tr>\n",
       "  </thead>\n",
       "  <tbody>\n",
       "    <tr>\n",
       "      <td>0</td>\n",
       "      <td>00346000002iXakAAE</td>\n",
       "      <td>Attending</td>\n",
       "      <td>8/21/17 0:00</td>\n",
       "    </tr>\n",
       "    <tr>\n",
       "      <td>1</td>\n",
       "      <td>0034600000iXknRAAS</td>\n",
       "      <td>Withdrew</td>\n",
       "      <td>6/3/19 0:00</td>\n",
       "    </tr>\n",
       "    <tr>\n",
       "      <td>2</td>\n",
       "      <td>0034600000iXknDAAS</td>\n",
       "      <td>Attending</td>\n",
       "      <td>8/28/17 0:00</td>\n",
       "    </tr>\n",
       "    <tr>\n",
       "      <td>3</td>\n",
       "      <td>0034600000iXknZAAS</td>\n",
       "      <td>Attending</td>\n",
       "      <td>8/21/17 0:00</td>\n",
       "    </tr>\n",
       "    <tr>\n",
       "      <td>4</td>\n",
       "      <td>0034600000iXkmXAAS</td>\n",
       "      <td>Attending</td>\n",
       "      <td>8/15/17 0:00</td>\n",
       "    </tr>\n",
       "  </tbody>\n",
       "</table>\n",
       "</div>"
      ],
      "text/plain": [
       "           Student__c  Status__c Start_Date__c\n",
       "0  00346000002iXakAAE  Attending  8/21/17 0:00\n",
       "1  0034600000iXknRAAS   Withdrew   6/3/19 0:00\n",
       "2  0034600000iXknDAAS  Attending  8/28/17 0:00\n",
       "3  0034600000iXknZAAS  Attending  8/21/17 0:00\n",
       "4  0034600000iXkmXAAS  Attending  8/15/17 0:00"
      ]
     },
     "execution_count": 6,
     "metadata": {},
     "output_type": "execute_result"
    }
   ],
   "source": [
    "df.head()"
   ]
  },
  {
   "cell_type": "code",
   "execution_count": 7,
   "metadata": {},
   "outputs": [
    {
     "data": {
      "text/plain": [
       "(2002, 3)"
      ]
     },
     "execution_count": 7,
     "metadata": {},
     "output_type": "execute_result"
    }
   ],
   "source": [
    "df.shape"
   ]
  },
  {
   "cell_type": "code",
   "execution_count": 8,
   "metadata": {},
   "outputs": [
    {
     "data": {
      "text/plain": [
       "1087"
      ]
     },
     "execution_count": 8,
     "metadata": {},
     "output_type": "execute_result"
    }
   ],
   "source": [
    "df['Student__c'].nunique()"
   ]
  },
  {
   "cell_type": "code",
   "execution_count": 9,
   "metadata": {},
   "outputs": [],
   "source": [
    "# change to datetime format for further ranking\n",
    "df['Start_Date__c'] =  pd.to_datetime(df['Start_Date__c'], format=\"%m/%d/%y %H:%M\")"
   ]
  },
  {
   "cell_type": "code",
   "execution_count": 10,
   "metadata": {},
   "outputs": [
    {
     "data": {
      "text/plain": [
       "Text(0.5, 1.0, 'Count of status')"
      ]
     },
     "execution_count": 10,
     "metadata": {},
     "output_type": "execute_result"
    },
    {
     "data": {
      "image/png": "[encoded data removed]",
      "text/plain": [
       "<Figure size 432x288 with 1 Axes>"
      ]
     },
     "metadata": {
      "needs_background": "light"
     },
     "output_type": "display_data"
    }
   ],
   "source": [
    "# different status\n",
    "ax = sns.countplot(y=\"Status__c\", data=enrollment)\n",
    "\n",
    "plt.xlabel(\"Count\", fontsize= 12)\n",
    "plt.ylabel(\"status\", fontsize= 12)\n",
    "plt.title(\"Count of status\", fontsize= 15)"
   ]
  },
  {
   "cell_type": "code",
   "execution_count": 11,
   "metadata": {},
   "outputs": [
    {
     "data": {
      "text/html": [
       "<div>\n",
       "<style scoped>\n",
       "    .dataframe tbody tr th:only-of-type {\n",
       "        vertical-align: middle;\n",
       "    }\n",
       "\n",
       "    .dataframe tbody tr th {\n",
       "        vertical-align: top;\n",
       "    }\n",
       "\n",
       "    .dataframe thead th {\n",
       "        text-align: right;\n",
       "    }\n",
       "</style>\n",
       "<table border=\"1\" class=\"dataframe\">\n",
       "  <thead>\n",
       "    <tr style=\"text-align: right;\">\n",
       "      <th></th>\n",
       "      <th>Student__c</th>\n",
       "      <th>Id</th>\n",
       "      <th>CreatedDate</th>\n",
       "      <th>Date_Last_Verified__c</th>\n",
       "      <th>Degree_Type__c</th>\n",
       "      <th>End_Date__c</th>\n",
       "      <th>Start_Date__c</th>\n",
       "      <th>Status__c</th>\n",
       "      <th>Withdrawal_code__c</th>\n",
       "    </tr>\n",
       "  </thead>\n",
       "  <tbody>\n",
       "    <tr>\n",
       "      <td>330</td>\n",
       "      <td>00346000002iXekAAE</td>\n",
       "      <td>a0046000001UcJdAAK</td>\n",
       "      <td>3/15/17 15:46</td>\n",
       "      <td>11/18/19 0:00</td>\n",
       "      <td>Associate's or Certificate (TBD)</td>\n",
       "      <td>5/10/15 0:00</td>\n",
       "      <td>1/12/15 0:00</td>\n",
       "      <td>Transferred out</td>\n",
       "      <td>NaN</td>\n",
       "    </tr>\n",
       "    <tr>\n",
       "      <td>553</td>\n",
       "      <td>00346000002iXekAAE</td>\n",
       "      <td>a0046000004Ipk5AAC</td>\n",
       "      <td>12/20/17 23:53</td>\n",
       "      <td>11/18/19 0:00</td>\n",
       "      <td>Associate's or Certificate (TBD)</td>\n",
       "      <td>12/16/17 0:00</td>\n",
       "      <td>1/17/17 0:00</td>\n",
       "      <td>Withdrew</td>\n",
       "      <td>NaN</td>\n",
       "    </tr>\n",
       "    <tr>\n",
       "      <td>1201</td>\n",
       "      <td>00346000002iXekAAE</td>\n",
       "      <td>a0046000001Uep8AAC</td>\n",
       "      <td>3/15/17 15:48</td>\n",
       "      <td>11/18/19 0:00</td>\n",
       "      <td>Bachelor's</td>\n",
       "      <td>12/19/14 0:00</td>\n",
       "      <td>9/2/14 0:00</td>\n",
       "      <td>Transferred out</td>\n",
       "      <td>Academic</td>\n",
       "    </tr>\n",
       "    <tr>\n",
       "      <td>1266</td>\n",
       "      <td>00346000002iXekAAE</td>\n",
       "      <td>a0046000001UemeAAC</td>\n",
       "      <td>3/15/17 15:48</td>\n",
       "      <td>11/18/19 0:00</td>\n",
       "      <td>Bachelor's</td>\n",
       "      <td>12/22/16 0:00</td>\n",
       "      <td>9/8/15 0:00</td>\n",
       "      <td>Transferred out</td>\n",
       "      <td>NaN</td>\n",
       "    </tr>\n",
       "  </tbody>\n",
       "</table>\n",
       "</div>"
      ],
      "text/plain": [
       "              Student__c                  Id     CreatedDate  \\\n",
       "330   00346000002iXekAAE  a0046000001UcJdAAK   3/15/17 15:46   \n",
       "553   00346000002iXekAAE  a0046000004Ipk5AAC  12/20/17 23:53   \n",
       "1201  00346000002iXekAAE  a0046000001Uep8AAC   3/15/17 15:48   \n",
       "1266  00346000002iXekAAE  a0046000001UemeAAC   3/15/17 15:48   \n",
       "\n",
       "     Date_Last_Verified__c                    Degree_Type__c    End_Date__c  \\\n",
       "330          11/18/19 0:00  Associate's or Certificate (TBD)   5/10/15 0:00   \n",
       "553          11/18/19 0:00  Associate's or Certificate (TBD)  12/16/17 0:00   \n",
       "1201         11/18/19 0:00                        Bachelor's  12/19/14 0:00   \n",
       "1266         11/18/19 0:00                        Bachelor's  12/22/16 0:00   \n",
       "\n",
       "     Start_Date__c        Status__c Withdrawal_code__c  \n",
       "330   1/12/15 0:00  Transferred out                NaN  \n",
       "553   1/17/17 0:00         Withdrew                NaN  \n",
       "1201   9/2/14 0:00  Transferred out           Academic  \n",
       "1266   9/8/15 0:00  Transferred out                NaN  "
      ]
     },
     "execution_count": 11,
     "metadata": {},
     "output_type": "execute_result"
    }
   ],
   "source": [
    "# unsuccessful student\n",
    "enrollment[enrollment['Student__c'] == '00346000002iXekAAE'].loc[:, ~enrollment.columns.isin(['Major_Text__c', 'College__c'])]"
   ]
  },
  {
   "cell_type": "code",
   "execution_count": 12,
   "metadata": {},
   "outputs": [
    {
     "data": {
      "text/html": [
       "<div>\n",
       "<style scoped>\n",
       "    .dataframe tbody tr th:only-of-type {\n",
       "        vertical-align: middle;\n",
       "    }\n",
       "\n",
       "    .dataframe tbody tr th {\n",
       "        vertical-align: top;\n",
       "    }\n",
       "\n",
       "    .dataframe thead th {\n",
       "        text-align: right;\n",
       "    }\n",
       "</style>\n",
       "<table border=\"1\" class=\"dataframe\">\n",
       "  <thead>\n",
       "    <tr style=\"text-align: right;\">\n",
       "      <th></th>\n",
       "      <th>Student__c</th>\n",
       "      <th>Id</th>\n",
       "      <th>CreatedDate</th>\n",
       "      <th>Date_Last_Verified__c</th>\n",
       "      <th>Degree_Type__c</th>\n",
       "      <th>End_Date__c</th>\n",
       "      <th>Start_Date__c</th>\n",
       "      <th>Status__c</th>\n",
       "      <th>Withdrawal_code__c</th>\n",
       "    </tr>\n",
       "  </thead>\n",
       "  <tbody>\n",
       "    <tr>\n",
       "      <td>1</td>\n",
       "      <td>0034600000iXknRAAS</td>\n",
       "      <td>a004p000007OakbAAC</td>\n",
       "      <td>11/21/19 20:29</td>\n",
       "      <td>11/21/19 0:00</td>\n",
       "      <td>Associate's</td>\n",
       "      <td>8/6/19 0:00</td>\n",
       "      <td>6/3/19 0:00</td>\n",
       "      <td>Withdrew</td>\n",
       "      <td>Summer Academics</td>\n",
       "    </tr>\n",
       "    <tr>\n",
       "      <td>241</td>\n",
       "      <td>0034600000iXknRAAS</td>\n",
       "      <td>a004p000007OdGUAA0</td>\n",
       "      <td>12/5/19 23:05</td>\n",
       "      <td>11/18/19 0:00</td>\n",
       "      <td>Associate's or Certificate (TBD)</td>\n",
       "      <td>NaN</td>\n",
       "      <td>8/26/19 0:00</td>\n",
       "      <td>Attending</td>\n",
       "      <td>NaN</td>\n",
       "    </tr>\n",
       "    <tr>\n",
       "      <td>1640</td>\n",
       "      <td>0034600000iXknRAAS</td>\n",
       "      <td>a0046000002cWQPAA2</td>\n",
       "      <td>6/26/17 14:21</td>\n",
       "      <td>11/18/19 0:00</td>\n",
       "      <td>Bachelor's</td>\n",
       "      <td>12/15/18 0:00</td>\n",
       "      <td>8/23/17 0:00</td>\n",
       "      <td>Withdrew</td>\n",
       "      <td>Academic</td>\n",
       "    </tr>\n",
       "  </tbody>\n",
       "</table>\n",
       "</div>"
      ],
      "text/plain": [
       "              Student__c                  Id     CreatedDate  \\\n",
       "1     0034600000iXknRAAS  a004p000007OakbAAC  11/21/19 20:29   \n",
       "241   0034600000iXknRAAS  a004p000007OdGUAA0   12/5/19 23:05   \n",
       "1640  0034600000iXknRAAS  a0046000002cWQPAA2   6/26/17 14:21   \n",
       "\n",
       "     Date_Last_Verified__c                    Degree_Type__c    End_Date__c  \\\n",
       "1            11/21/19 0:00                       Associate's    8/6/19 0:00   \n",
       "241          11/18/19 0:00  Associate's or Certificate (TBD)            NaN   \n",
       "1640         11/18/19 0:00                        Bachelor's  12/15/18 0:00   \n",
       "\n",
       "     Start_Date__c  Status__c Withdrawal_code__c  \n",
       "1      6/3/19 0:00   Withdrew   Summer Academics  \n",
       "241   8/26/19 0:00  Attending                NaN  \n",
       "1640  8/23/17 0:00   Withdrew           Academic  "
      ]
     },
     "execution_count": 12,
     "metadata": {},
     "output_type": "execute_result"
    }
   ],
   "source": [
    "# attending student (do not consider)\n",
    "enrollment[enrollment['Student__c'] == '0034600000iXknRAAS'].loc[:, ~enrollment.columns.isin(['Major_Text__c', 'College__c'])]"
   ]
  },
  {
   "cell_type": "code",
   "execution_count": 13,
   "metadata": {},
   "outputs": [
    {
     "data": {
      "text/html": [
       "<div>\n",
       "<style scoped>\n",
       "    .dataframe tbody tr th:only-of-type {\n",
       "        vertical-align: middle;\n",
       "    }\n",
       "\n",
       "    .dataframe tbody tr th {\n",
       "        vertical-align: top;\n",
       "    }\n",
       "\n",
       "    .dataframe thead th {\n",
       "        text-align: right;\n",
       "    }\n",
       "</style>\n",
       "<table border=\"1\" class=\"dataframe\">\n",
       "  <thead>\n",
       "    <tr style=\"text-align: right;\">\n",
       "      <th></th>\n",
       "      <th>Student__c</th>\n",
       "      <th>Id</th>\n",
       "      <th>CreatedDate</th>\n",
       "      <th>Date_Last_Verified__c</th>\n",
       "      <th>Degree_Type__c</th>\n",
       "      <th>End_Date__c</th>\n",
       "      <th>Start_Date__c</th>\n",
       "      <th>Status__c</th>\n",
       "      <th>Withdrawal_code__c</th>\n",
       "    </tr>\n",
       "  </thead>\n",
       "  <tbody>\n",
       "    <tr>\n",
       "      <td>316</td>\n",
       "      <td>00346000002iXaWAAU</td>\n",
       "      <td>a0046000001UcHYAA0</td>\n",
       "      <td>3/15/17 15:46</td>\n",
       "      <td>11/18/19 0:00</td>\n",
       "      <td>Associate's or Certificate (TBD)</td>\n",
       "      <td>7/26/15 0:00</td>\n",
       "      <td>6/3/15 0:00</td>\n",
       "      <td>Transferred out</td>\n",
       "      <td>Summer Academics</td>\n",
       "    </tr>\n",
       "    <tr>\n",
       "      <td>925</td>\n",
       "      <td>00346000002iXaWAAU</td>\n",
       "      <td>a0046000001Uf27AAC</td>\n",
       "      <td>3/15/17 15:48</td>\n",
       "      <td>11/18/19 0:00</td>\n",
       "      <td>Bachelor's</td>\n",
       "      <td>5/11/19 0:00</td>\n",
       "      <td>8/25/14 0:00</td>\n",
       "      <td>Graduated</td>\n",
       "      <td>NaN</td>\n",
       "    </tr>\n",
       "  </tbody>\n",
       "</table>\n",
       "</div>"
      ],
      "text/plain": [
       "             Student__c                  Id    CreatedDate  \\\n",
       "316  00346000002iXaWAAU  a0046000001UcHYAA0  3/15/17 15:46   \n",
       "925  00346000002iXaWAAU  a0046000001Uf27AAC  3/15/17 15:48   \n",
       "\n",
       "    Date_Last_Verified__c                    Degree_Type__c   End_Date__c  \\\n",
       "316         11/18/19 0:00  Associate's or Certificate (TBD)  7/26/15 0:00   \n",
       "925         11/18/19 0:00                        Bachelor's  5/11/19 0:00   \n",
       "\n",
       "    Start_Date__c        Status__c Withdrawal_code__c  \n",
       "316   6/3/15 0:00  Transferred out   Summer Academics  \n",
       "925  8/25/14 0:00        Graduated                NaN  "
      ]
     },
     "execution_count": 13,
     "metadata": {},
     "output_type": "execute_result"
    }
   ],
   "source": [
    "# successful student\n",
    "enrollment[enrollment['Student__c'] == '00346000002iXaWAAU'].loc[:, ~enrollment.columns.isin(['Major_Text__c', 'College__c'])]"
   ]
  },
  {
   "cell_type": "code",
   "execution_count": 14,
   "metadata": {},
   "outputs": [
    {
     "data": {
      "text/plain": [
       "(67, 11)"
      ]
     },
     "execution_count": 14,
     "metadata": {},
     "output_type": "execute_result"
    }
   ],
   "source": [
    "# some exploration about students whose status is \"Did not matriculate\"\n",
    "temp = enrollment[enrollment['Status__c'] == 'Did not matriculate']\n",
    "temp.shape"
   ]
  },
  {
   "cell_type": "code",
   "execution_count": 15,
   "metadata": {},
   "outputs": [
    {
     "data": {
      "text/plain": [
       "(64, 10)"
      ]
     },
     "execution_count": 15,
     "metadata": {},
     "output_type": "execute_result"
    }
   ],
   "source": [
    "temp1 = temp.groupby('Student__c').agg(['nunique'])\n",
    "temp1.shape"
   ]
  },
  {
   "cell_type": "code",
   "execution_count": 16,
   "metadata": {},
   "outputs": [
    {
     "data": {
      "text/html": [
       "<div>\n",
       "<style scoped>\n",
       "    .dataframe tbody tr th:only-of-type {\n",
       "        vertical-align: middle;\n",
       "    }\n",
       "\n",
       "    .dataframe tbody tr th {\n",
       "        vertical-align: top;\n",
       "    }\n",
       "\n",
       "    .dataframe thead tr th {\n",
       "        text-align: left;\n",
       "    }\n",
       "\n",
       "    .dataframe thead tr:last-of-type th {\n",
       "        text-align: right;\n",
       "    }\n",
       "</style>\n",
       "<table border=\"1\" class=\"dataframe\">\n",
       "  <thead>\n",
       "    <tr>\n",
       "      <th></th>\n",
       "      <th>Id</th>\n",
       "      <th>CreatedDate</th>\n",
       "      <th>College__c</th>\n",
       "      <th>Date_Last_Verified__c</th>\n",
       "      <th>Degree_Type__c</th>\n",
       "      <th>End_Date__c</th>\n",
       "      <th>Major_Text__c</th>\n",
       "      <th>Start_Date__c</th>\n",
       "      <th>Status__c</th>\n",
       "      <th>Withdrawal_code__c</th>\n",
       "    </tr>\n",
       "    <tr>\n",
       "      <th></th>\n",
       "      <th>nunique</th>\n",
       "      <th>nunique</th>\n",
       "      <th>nunique</th>\n",
       "      <th>nunique</th>\n",
       "      <th>nunique</th>\n",
       "      <th>nunique</th>\n",
       "      <th>nunique</th>\n",
       "      <th>nunique</th>\n",
       "      <th>nunique</th>\n",
       "      <th>nunique</th>\n",
       "    </tr>\n",
       "    <tr>\n",
       "      <th>Student__c</th>\n",
       "      <th></th>\n",
       "      <th></th>\n",
       "      <th></th>\n",
       "      <th></th>\n",
       "      <th></th>\n",
       "      <th></th>\n",
       "      <th></th>\n",
       "      <th></th>\n",
       "      <th></th>\n",
       "      <th></th>\n",
       "    </tr>\n",
       "  </thead>\n",
       "  <tbody>\n",
       "    <tr>\n",
       "      <td>00346000002iXeJAAU</td>\n",
       "      <td>2</td>\n",
       "      <td>2</td>\n",
       "      <td>2</td>\n",
       "      <td>2</td>\n",
       "      <td>2</td>\n",
       "      <td>2</td>\n",
       "      <td>0</td>\n",
       "      <td>2</td>\n",
       "      <td>1</td>\n",
       "      <td>0</td>\n",
       "    </tr>\n",
       "    <tr>\n",
       "      <td>00346000002iXeVAAU</td>\n",
       "      <td>2</td>\n",
       "      <td>2</td>\n",
       "      <td>2</td>\n",
       "      <td>2</td>\n",
       "      <td>2</td>\n",
       "      <td>2</td>\n",
       "      <td>0</td>\n",
       "      <td>2</td>\n",
       "      <td>1</td>\n",
       "      <td>0</td>\n",
       "    </tr>\n",
       "    <tr>\n",
       "      <td>0034600000iXkmKAAS</td>\n",
       "      <td>2</td>\n",
       "      <td>2</td>\n",
       "      <td>2</td>\n",
       "      <td>1</td>\n",
       "      <td>2</td>\n",
       "      <td>1</td>\n",
       "      <td>0</td>\n",
       "      <td>1</td>\n",
       "      <td>1</td>\n",
       "      <td>0</td>\n",
       "    </tr>\n",
       "  </tbody>\n",
       "</table>\n",
       "</div>"
      ],
      "text/plain": [
       "                        Id CreatedDate College__c Date_Last_Verified__c  \\\n",
       "                   nunique     nunique    nunique               nunique   \n",
       "Student__c                                                                \n",
       "00346000002iXeJAAU       2           2          2                     2   \n",
       "00346000002iXeVAAU       2           2          2                     2   \n",
       "0034600000iXkmKAAS       2           2          2                     1   \n",
       "\n",
       "                   Degree_Type__c End_Date__c Major_Text__c Start_Date__c  \\\n",
       "                          nunique     nunique       nunique       nunique   \n",
       "Student__c                                                                  \n",
       "00346000002iXeJAAU              2           2             0             2   \n",
       "00346000002iXeVAAU              2           2             0             2   \n",
       "0034600000iXkmKAAS              2           1             0             1   \n",
       "\n",
       "                   Status__c Withdrawal_code__c  \n",
       "                     nunique            nunique  \n",
       "Student__c                                       \n",
       "00346000002iXeJAAU         1                  0  \n",
       "00346000002iXeVAAU         1                  0  \n",
       "0034600000iXkmKAAS         1                  0  "
      ]
     },
     "execution_count": 16,
     "metadata": {},
     "output_type": "execute_result"
    }
   ],
   "source": [
    "temp1[temp1[('Id', 'nunique')] > 1]"
   ]
  },
  {
   "cell_type": "code",
   "execution_count": 17,
   "metadata": {},
   "outputs": [],
   "source": [
    "# conclusion:\n",
    "# 67 entries whose status is \"Did not matriculate\", 64 unique entries\n",
    "# 3 students have more than one entries\n",
    "# does not affect the result, remove all"
   ]
  },
  {
   "cell_type": "code",
   "execution_count": 18,
   "metadata": {},
   "outputs": [],
   "source": [
    "# drop rows where \"status\" is either \"Did not matriculate\" or \"matriculating\"\n",
    "df.drop(df[(df['Status__c'] == 'Matriculating') | (df['Status__c'] == 'Did not matriculate')].index, inplace = True)"
   ]
  },
  {
   "cell_type": "code",
   "execution_count": 19,
   "metadata": {},
   "outputs": [
    {
     "data": {
      "text/plain": [
       "(1933, 3)"
      ]
     },
     "execution_count": 19,
     "metadata": {},
     "output_type": "execute_result"
    }
   ],
   "source": [
    "df.shape"
   ]
  },
  {
   "cell_type": "code",
   "execution_count": 20,
   "metadata": {},
   "outputs": [
    {
     "data": {
      "text/html": [
       "<div>\n",
       "<style scoped>\n",
       "    .dataframe tbody tr th:only-of-type {\n",
       "        vertical-align: middle;\n",
       "    }\n",
       "\n",
       "    .dataframe tbody tr th {\n",
       "        vertical-align: top;\n",
       "    }\n",
       "\n",
       "    .dataframe thead th {\n",
       "        text-align: right;\n",
       "    }\n",
       "</style>\n",
       "<table border=\"1\" class=\"dataframe\">\n",
       "  <thead>\n",
       "    <tr style=\"text-align: right;\">\n",
       "      <th></th>\n",
       "      <th>Student__c</th>\n",
       "      <th>Status__c</th>\n",
       "      <th>Start_Date__c</th>\n",
       "    </tr>\n",
       "  </thead>\n",
       "  <tbody>\n",
       "    <tr>\n",
       "      <td>0</td>\n",
       "      <td>00346000002iXakAAE</td>\n",
       "      <td>Attending</td>\n",
       "      <td>2017-08-21</td>\n",
       "    </tr>\n",
       "    <tr>\n",
       "      <td>1</td>\n",
       "      <td>0034600000iXknRAAS</td>\n",
       "      <td>Withdrew</td>\n",
       "      <td>2019-06-03</td>\n",
       "    </tr>\n",
       "    <tr>\n",
       "      <td>2</td>\n",
       "      <td>0034600000iXknDAAS</td>\n",
       "      <td>Attending</td>\n",
       "      <td>2017-08-28</td>\n",
       "    </tr>\n",
       "    <tr>\n",
       "      <td>3</td>\n",
       "      <td>0034600000iXknZAAS</td>\n",
       "      <td>Attending</td>\n",
       "      <td>2017-08-21</td>\n",
       "    </tr>\n",
       "    <tr>\n",
       "      <td>4</td>\n",
       "      <td>0034600000iXkmXAAS</td>\n",
       "      <td>Attending</td>\n",
       "      <td>2017-08-15</td>\n",
       "    </tr>\n",
       "  </tbody>\n",
       "</table>\n",
       "</div>"
      ],
      "text/plain": [
       "           Student__c  Status__c Start_Date__c\n",
       "0  00346000002iXakAAE  Attending    2017-08-21\n",
       "1  0034600000iXknRAAS   Withdrew    2019-06-03\n",
       "2  0034600000iXknDAAS  Attending    2017-08-28\n",
       "3  0034600000iXknZAAS  Attending    2017-08-21\n",
       "4  0034600000iXkmXAAS  Attending    2017-08-15"
      ]
     },
     "execution_count": 20,
     "metadata": {},
     "output_type": "execute_result"
    }
   ],
   "source": [
    "df.head()"
   ]
  },
  {
   "cell_type": "markdown",
   "metadata": {},
   "source": [
    "## students who are successful\n",
    "**How to define \"successful\" student? At least one \"Graduated\" status**"
   ]
  },
  {
   "cell_type": "code",
   "execution_count": 21,
   "metadata": {},
   "outputs": [
    {
     "data": {
      "text/plain": [
       "(233, 3)"
      ]
     },
     "execution_count": 21,
     "metadata": {},
     "output_type": "execute_result"
    }
   ],
   "source": [
    "graduated = df[df['Status__c'] == 'Graduated']\n",
    "graduated.shape"
   ]
  },
  {
   "cell_type": "code",
   "execution_count": 22,
   "metadata": {},
   "outputs": [],
   "source": [
    "graduated_student_id = graduated['Student__c'].drop_duplicates().to_frame().reset_index()\n",
    "del graduated_student_id['index']"
   ]
  },
  {
   "cell_type": "code",
   "execution_count": 23,
   "metadata": {},
   "outputs": [
    {
     "data": {
      "text/html": [
       "<div>\n",
       "<style scoped>\n",
       "    .dataframe tbody tr th:only-of-type {\n",
       "        vertical-align: middle;\n",
       "    }\n",
       "\n",
       "    .dataframe tbody tr th {\n",
       "        vertical-align: top;\n",
       "    }\n",
       "\n",
       "    .dataframe thead th {\n",
       "        text-align: right;\n",
       "    }\n",
       "</style>\n",
       "<table border=\"1\" class=\"dataframe\">\n",
       "  <thead>\n",
       "    <tr style=\"text-align: right;\">\n",
       "      <th></th>\n",
       "      <th>Student__c</th>\n",
       "    </tr>\n",
       "  </thead>\n",
       "  <tbody>\n",
       "    <tr>\n",
       "      <td>0</td>\n",
       "      <td>00346000002iWAkAAM</td>\n",
       "    </tr>\n",
       "    <tr>\n",
       "      <td>1</td>\n",
       "      <td>0034600000iXknHAAS</td>\n",
       "    </tr>\n",
       "    <tr>\n",
       "      <td>2</td>\n",
       "      <td>00346000002iXcPAAU</td>\n",
       "    </tr>\n",
       "    <tr>\n",
       "      <td>3</td>\n",
       "      <td>00346000002iXZtAAM</td>\n",
       "    </tr>\n",
       "    <tr>\n",
       "      <td>4</td>\n",
       "      <td>00346000002iXbCAAU</td>\n",
       "    </tr>\n",
       "    <tr>\n",
       "      <td>...</td>\n",
       "      <td>...</td>\n",
       "    </tr>\n",
       "    <tr>\n",
       "      <td>204</td>\n",
       "      <td>00346000002iWOEAA2</td>\n",
       "    </tr>\n",
       "    <tr>\n",
       "      <td>205</td>\n",
       "      <td>0034600001EXcUBAA1</td>\n",
       "    </tr>\n",
       "    <tr>\n",
       "      <td>206</td>\n",
       "      <td>00346000002iXY6AAM</td>\n",
       "    </tr>\n",
       "    <tr>\n",
       "      <td>207</td>\n",
       "      <td>00346000002iXXNAA2</td>\n",
       "    </tr>\n",
       "    <tr>\n",
       "      <td>208</td>\n",
       "      <td>00346000002iXXXAA2</td>\n",
       "    </tr>\n",
       "  </tbody>\n",
       "</table>\n",
       "<p>209 rows × 1 columns</p>\n",
       "</div>"
      ],
      "text/plain": [
       "             Student__c\n",
       "0    00346000002iWAkAAM\n",
       "1    0034600000iXknHAAS\n",
       "2    00346000002iXcPAAU\n",
       "3    00346000002iXZtAAM\n",
       "4    00346000002iXbCAAU\n",
       "..                  ...\n",
       "204  00346000002iWOEAA2\n",
       "205  0034600001EXcUBAA1\n",
       "206  00346000002iXY6AAM\n",
       "207  00346000002iXXNAA2\n",
       "208  00346000002iXXXAA2\n",
       "\n",
       "[209 rows x 1 columns]"
      ]
     },
     "execution_count": 23,
     "metadata": {},
     "output_type": "execute_result"
    }
   ],
   "source": [
    "# this is a list of students(unique ID) who are \"successful\"\n",
    "graduated_student_id"
   ]
  },
  {
   "cell_type": "code",
   "execution_count": 24,
   "metadata": {},
   "outputs": [],
   "source": [
    "# export csv file\n",
    "graduated_student_id.to_csv('successful_students.csv')"
   ]
  },
  {
   "cell_type": "markdown",
   "metadata": {},
   "source": [
    "## students who should not be considered\n",
    "**How to define \"not_considered\" student? The latest status is \"attending\" and never \"graduated\" before**"
   ]
  },
  {
   "cell_type": "code",
   "execution_count": 25,
   "metadata": {},
   "outputs": [],
   "source": [
    "# eliminate successful students\n",
    "rest_stduents = df[~df['Student__c'].isin(graduated_student_id['Student__c'])]"
   ]
  },
  {
   "cell_type": "code",
   "execution_count": 26,
   "metadata": {},
   "outputs": [
    {
     "data": {
      "text/plain": [
       "(1443, 3)"
      ]
     },
     "execution_count": 26,
     "metadata": {},
     "output_type": "execute_result"
    }
   ],
   "source": [
    "# rest of students (duplicates included)\n",
    "rest_stduents.shape"
   ]
  },
  {
   "cell_type": "code",
   "execution_count": 27,
   "metadata": {},
   "outputs": [],
   "source": [
    "# export table, use SQL to rank\n",
    "rest_stduents.to_csv('rest_students.csv')"
   ]
  },
  {
   "cell_type": "code",
   "execution_count": 28,
   "metadata": {},
   "outputs": [
    {
     "data": {
      "text/plain": [
       "'SELECT *, RANK () OVER (PARTITION BY Student__c ORDER BY Start_Date__c DESC) AS rk\\nFROM rest_students\\n'"
      ]
     },
     "execution_count": 28,
     "metadata": {},
     "output_type": "execute_result"
    }
   ],
   "source": [
    "# This is SQL code\n",
    "'''SELECT *, RANK () OVER (PARTITION BY Student__c ORDER BY Start_Date__c DESC) AS rk\n",
    "FROM rest_students\n",
    "'''"
   ]
  },
  {
   "cell_type": "code",
   "execution_count": 29,
   "metadata": {},
   "outputs": [],
   "source": [
    "# read the ranked table\n",
    "rest_stduents_with_rank = pd.read_csv('rest_students_with_rank.csv')"
   ]
  },
  {
   "cell_type": "code",
   "execution_count": 30,
   "metadata": {},
   "outputs": [
    {
     "data": {
      "text/html": [
       "<div>\n",
       "<style scoped>\n",
       "    .dataframe tbody tr th:only-of-type {\n",
       "        vertical-align: middle;\n",
       "    }\n",
       "\n",
       "    .dataframe tbody tr th {\n",
       "        vertical-align: top;\n",
       "    }\n",
       "\n",
       "    .dataframe thead th {\n",
       "        text-align: right;\n",
       "    }\n",
       "</style>\n",
       "<table border=\"1\" class=\"dataframe\">\n",
       "  <thead>\n",
       "    <tr style=\"text-align: right;\">\n",
       "      <th></th>\n",
       "      <th>Student__c</th>\n",
       "      <th>Status__c</th>\n",
       "      <th>Start_Date__c</th>\n",
       "      <th>rk</th>\n",
       "    </tr>\n",
       "  </thead>\n",
       "  <tbody>\n",
       "    <tr>\n",
       "      <td>0</td>\n",
       "      <td>00346000002iW9lAAE</td>\n",
       "      <td>Withdrew</td>\n",
       "      <td>8/21/17</td>\n",
       "      <td>1</td>\n",
       "    </tr>\n",
       "    <tr>\n",
       "      <td>1</td>\n",
       "      <td>00346000002iW9lAAE</td>\n",
       "      <td>Attending</td>\n",
       "      <td>8/19/19</td>\n",
       "      <td>2</td>\n",
       "    </tr>\n",
       "    <tr>\n",
       "      <td>2</td>\n",
       "      <td>00346000002iW9lAAE</td>\n",
       "      <td>Withdrew</td>\n",
       "      <td>8/14/13</td>\n",
       "      <td>3</td>\n",
       "    </tr>\n",
       "    <tr>\n",
       "      <td>3</td>\n",
       "      <td>00346000002iW9mAAE</td>\n",
       "      <td>Transferred out</td>\n",
       "      <td>8/21/13</td>\n",
       "      <td>1</td>\n",
       "    </tr>\n",
       "    <tr>\n",
       "      <td>4</td>\n",
       "      <td>00346000002iW9mAAE</td>\n",
       "      <td>Transferred out</td>\n",
       "      <td>6/8/16</td>\n",
       "      <td>2</td>\n",
       "    </tr>\n",
       "  </tbody>\n",
       "</table>\n",
       "</div>"
      ],
      "text/plain": [
       "           Student__c        Status__c Start_Date__c  rk\n",
       "0  00346000002iW9lAAE         Withdrew       8/21/17   1\n",
       "1  00346000002iW9lAAE        Attending       8/19/19   2\n",
       "2  00346000002iW9lAAE         Withdrew       8/14/13   3\n",
       "3  00346000002iW9mAAE  Transferred out       8/21/13   1\n",
       "4  00346000002iW9mAAE  Transferred out        6/8/16   2"
      ]
     },
     "execution_count": 30,
     "metadata": {},
     "output_type": "execute_result"
    }
   ],
   "source": [
    "rest_stduents_with_rank.head()"
   ]
  },
  {
   "cell_type": "code",
   "execution_count": 31,
   "metadata": {},
   "outputs": [],
   "source": [
    "# select students whose latest status is attending\n",
    "attending = rest_stduents_with_rank[(rest_stduents_with_rank['Status__c'] == 'Attending') & rest_stduents_with_rank['rk'] == 1]"
   ]
  },
  {
   "cell_type": "code",
   "execution_count": 32,
   "metadata": {},
   "outputs": [],
   "source": [
    "attending_student_id = attending['Student__c'].drop_duplicates().to_frame().reset_index()\n",
    "del attending_student_id['index']"
   ]
  },
  {
   "cell_type": "code",
   "execution_count": 33,
   "metadata": {},
   "outputs": [
    {
     "data": {
      "text/html": [
       "<div>\n",
       "<style scoped>\n",
       "    .dataframe tbody tr th:only-of-type {\n",
       "        vertical-align: middle;\n",
       "    }\n",
       "\n",
       "    .dataframe tbody tr th {\n",
       "        vertical-align: top;\n",
       "    }\n",
       "\n",
       "    .dataframe thead th {\n",
       "        text-align: right;\n",
       "    }\n",
       "</style>\n",
       "<table border=\"1\" class=\"dataframe\">\n",
       "  <thead>\n",
       "    <tr style=\"text-align: right;\">\n",
       "      <th></th>\n",
       "      <th>Student__c</th>\n",
       "    </tr>\n",
       "  </thead>\n",
       "  <tbody>\n",
       "    <tr>\n",
       "      <td>0</td>\n",
       "      <td>00346000002iW9zAAE</td>\n",
       "    </tr>\n",
       "    <tr>\n",
       "      <td>1</td>\n",
       "      <td>00346000002iWA1AAM</td>\n",
       "    </tr>\n",
       "    <tr>\n",
       "      <td>2</td>\n",
       "      <td>00346000002iWA7AAM</td>\n",
       "    </tr>\n",
       "    <tr>\n",
       "      <td>3</td>\n",
       "      <td>00346000002iWAeAAM</td>\n",
       "    </tr>\n",
       "    <tr>\n",
       "      <td>4</td>\n",
       "      <td>00346000002iWApAAM</td>\n",
       "    </tr>\n",
       "    <tr>\n",
       "      <td>...</td>\n",
       "      <td>...</td>\n",
       "    </tr>\n",
       "    <tr>\n",
       "      <td>383</td>\n",
       "      <td>0034p00001f3vflAAA</td>\n",
       "    </tr>\n",
       "    <tr>\n",
       "      <td>384</td>\n",
       "      <td>0034p00001f3vfQAAQ</td>\n",
       "    </tr>\n",
       "    <tr>\n",
       "      <td>385</td>\n",
       "      <td>0034p00001f3vfVAAQ</td>\n",
       "    </tr>\n",
       "    <tr>\n",
       "      <td>386</td>\n",
       "      <td>0034p00001f3vfzAAA</td>\n",
       "    </tr>\n",
       "    <tr>\n",
       "      <td>387</td>\n",
       "      <td>0034p00001gWZaLAAW</td>\n",
       "    </tr>\n",
       "  </tbody>\n",
       "</table>\n",
       "<p>388 rows × 1 columns</p>\n",
       "</div>"
      ],
      "text/plain": [
       "             Student__c\n",
       "0    00346000002iW9zAAE\n",
       "1    00346000002iWA1AAM\n",
       "2    00346000002iWA7AAM\n",
       "3    00346000002iWAeAAM\n",
       "4    00346000002iWApAAM\n",
       "..                  ...\n",
       "383  0034p00001f3vflAAA\n",
       "384  0034p00001f3vfQAAQ\n",
       "385  0034p00001f3vfVAAQ\n",
       "386  0034p00001f3vfzAAA\n",
       "387  0034p00001gWZaLAAW\n",
       "\n",
       "[388 rows x 1 columns]"
      ]
     },
     "execution_count": 33,
     "metadata": {},
     "output_type": "execute_result"
    }
   ],
   "source": [
    "attending_student_id"
   ]
  },
  {
   "cell_type": "markdown",
   "metadata": {},
   "source": [
    "## students who are unsuccessful\n",
    "**How to define \"unsuccessful\" student? The lastest status is not 'attending' and never \"graduated\" before**"
   ]
  },
  {
   "cell_type": "code",
   "execution_count": 34,
   "metadata": {},
   "outputs": [],
   "source": [
    "# the rest of the rest of students\n",
    "other_stduent = rest_stduents[~rest_stduents['Student__c'].isin(attending_student_id['Student__c'])]"
   ]
  },
  {
   "cell_type": "code",
   "execution_count": 35,
   "metadata": {},
   "outputs": [],
   "source": [
    "other_student_id = other_stduent['Student__c'].drop_duplicates().to_frame().reset_index()\n",
    "del other_student_id['index']"
   ]
  },
  {
   "cell_type": "code",
   "execution_count": 36,
   "metadata": {},
   "outputs": [
    {
     "data": {
      "text/html": [
       "<div>\n",
       "<style scoped>\n",
       "    .dataframe tbody tr th:only-of-type {\n",
       "        vertical-align: middle;\n",
       "    }\n",
       "\n",
       "    .dataframe tbody tr th {\n",
       "        vertical-align: top;\n",
       "    }\n",
       "\n",
       "    .dataframe thead th {\n",
       "        text-align: right;\n",
       "    }\n",
       "</style>\n",
       "<table border=\"1\" class=\"dataframe\">\n",
       "  <thead>\n",
       "    <tr style=\"text-align: right;\">\n",
       "      <th></th>\n",
       "      <th>Student__c</th>\n",
       "    </tr>\n",
       "  </thead>\n",
       "  <tbody>\n",
       "    <tr>\n",
       "      <td>0</td>\n",
       "      <td>0034600000iXkn6AAC</td>\n",
       "    </tr>\n",
       "    <tr>\n",
       "      <td>1</td>\n",
       "      <td>0034600000iXkm9AAC</td>\n",
       "    </tr>\n",
       "    <tr>\n",
       "      <td>2</td>\n",
       "      <td>00346000002iXYFAA2</td>\n",
       "    </tr>\n",
       "    <tr>\n",
       "      <td>3</td>\n",
       "      <td>0034600001EXcTfAAL</td>\n",
       "    </tr>\n",
       "    <tr>\n",
       "      <td>4</td>\n",
       "      <td>0034600001EXcTHAA1</td>\n",
       "    </tr>\n",
       "    <tr>\n",
       "      <td>...</td>\n",
       "      <td>...</td>\n",
       "    </tr>\n",
       "    <tr>\n",
       "      <td>465</td>\n",
       "      <td>00346000002iXc4AAE</td>\n",
       "    </tr>\n",
       "    <tr>\n",
       "      <td>466</td>\n",
       "      <td>00346000002iXdJAAU</td>\n",
       "    </tr>\n",
       "    <tr>\n",
       "      <td>467</td>\n",
       "      <td>00346000002iXYzAAM</td>\n",
       "    </tr>\n",
       "    <tr>\n",
       "      <td>468</td>\n",
       "      <td>00346000002iWO8AAM</td>\n",
       "    </tr>\n",
       "    <tr>\n",
       "      <td>469</td>\n",
       "      <td>00346000002iWOtAAM</td>\n",
       "    </tr>\n",
       "  </tbody>\n",
       "</table>\n",
       "<p>470 rows × 1 columns</p>\n",
       "</div>"
      ],
      "text/plain": [
       "             Student__c\n",
       "0    0034600000iXkn6AAC\n",
       "1    0034600000iXkm9AAC\n",
       "2    00346000002iXYFAA2\n",
       "3    0034600001EXcTfAAL\n",
       "4    0034600001EXcTHAA1\n",
       "..                  ...\n",
       "465  00346000002iXc4AAE\n",
       "466  00346000002iXdJAAU\n",
       "467  00346000002iXYzAAM\n",
       "468  00346000002iWO8AAM\n",
       "469  00346000002iWOtAAM\n",
       "\n",
       "[470 rows x 1 columns]"
      ]
     },
     "execution_count": 36,
     "metadata": {},
     "output_type": "execute_result"
    }
   ],
   "source": [
    "# this is a list of students(unique ID) who are unsuccessful\n",
    "other_student_id"
   ]
  },
  {
   "cell_type": "code",
   "execution_count": 37,
   "metadata": {},
   "outputs": [
    {
     "data": {
      "text/plain": [
       "1067"
      ]
     },
     "execution_count": 37,
     "metadata": {},
     "output_type": "execute_result"
    }
   ],
   "source": [
    "# check: match!!!\n",
    "df['Student__c'].nunique() # 209 + 388 + 470 = 1067"
   ]
  },
  {
   "cell_type": "markdown",
   "metadata": {},
   "source": [
    "## Conclusions and export files"
   ]
  },
  {
   "cell_type": "code",
   "execution_count": 38,
   "metadata": {},
   "outputs": [],
   "source": [
    "# conclusion:\n",
    "# Based on status, we labeled 679 students with either 'successful' or 'unsuccessful'\n",
    "# 209 successful studeht (who graduated successfully)\n",
    "# 470 unsuccessful students whose status is not currently attending, and never graduated in the past"
   ]
  },
  {
   "cell_type": "code",
   "execution_count": 41,
   "metadata": {},
   "outputs": [],
   "source": [
    "# export csv files\n",
    "# graduated_student_id.to_csv('successful_students.csv', index = False)"
   ]
  },
  {
   "cell_type": "code",
   "execution_count": 40,
   "metadata": {},
   "outputs": [],
   "source": [
    "# other_student_id.to_csv('unsuccessful_students.csv', index = False)"
   ]
  }
 ],
 "metadata": {
  "kernelspec": {
   "display_name": "Python 3",
   "language": "python",
   "name": "python3"
  },
  "language_info": {
   "codemirror_mode": {
    "name": "ipython",
    "version": 3
   },
   "file_extension": ".py",
   "mimetype": "text/x-python",
   "name": "python",
   "nbconvert_exporter": "python",
   "pygments_lexer": "ipython3",
   "version": "3.7.4"
  },
  "toc": {
   "base_numbering": 1,
   "nav_menu": {},
   "number_sections": false,
   "sideBar": true,
   "skip_h1_title": false,
   "title_cell": "Table of Contents",
   "title_sidebar": "Contents",
   "toc_cell": false,
   "toc_position": {
    "height": "calc(100% - 180px)",
    "left": "10px",
    "top": "150px",
    "width": "165px"
   },
   "toc_section_display": true,
   "toc_window_display": true
  }
 },
 "nbformat": 4,
 "nbformat_minor": 2
}
