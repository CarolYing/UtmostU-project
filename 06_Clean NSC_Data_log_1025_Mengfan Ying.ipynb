{
 "cells": [
  {
   "cell_type": "code",
   "execution_count": 3,
   "metadata": {},
   "outputs": [],
   "source": [
    "#import packages\n",
    "import pandas as pd\n",
    "import numpy as np\n",
    "import matplotlib.pyplot as plt\n",
    "import seaborn as sns\n",
    "%matplotlib inline\n",
    "sns.set_style(\"darkgrid\")\n",
    "#sns.set(rc={'figure.figsize':(8,6)}) # adjust figure size\n",
    "\n",
    "#%precision 2\n",
    "\n",
    "pd.set_option('max_columns',200)\n",
    "\n",
    "# modeling packages\n",
    "from scipy.stats import norm\n",
    "from sklearn.preprocessing import StandardScaler\n",
    "from scipy import stats\n",
    "import warnings\n",
    "warnings.filterwarnings('ignore')"
   ]
  },
  {
   "cell_type": "code",
   "execution_count": 4,
   "metadata": {},
   "outputs": [],
   "source": [
    "import datetime"
   ]
  },
  {
   "cell_type": "markdown",
   "metadata": {},
   "source": [
    "# NSC data"
   ]
  },
  {
   "cell_type": "code",
   "execution_count": 30,
   "metadata": {},
   "outputs": [],
   "source": [
    "# read the file\n",
    "nsc = pd.read_excel('UtmostU NSC Data_For DePaul.xlsx', 'Sheet1')"
   ]
  },
  {
   "cell_type": "markdown",
   "metadata": {},
   "source": [
    "# Data clean log"
   ]
  },
  {
   "cell_type": "code",
   "execution_count": 31,
   "metadata": {},
   "outputs": [],
   "source": [
    "# make a copy\n",
    "nsc_copy = nsc.copy()"
   ]
  },
  {
   "cell_type": "code",
   "execution_count": 32,
   "metadata": {
    "scrolled": true
   },
   "outputs": [
    {
     "data": {
      "text/plain": [
       "(7234, 16)"
      ]
     },
     "execution_count": 32,
     "metadata": {},
     "output_type": "execute_result"
    }
   ],
   "source": [
    "nsc_copy.shape"
   ]
  },
  {
   "cell_type": "markdown",
   "metadata": {},
   "source": [
    "### 1) Remove rows whose class level is *High School Scholar*"
   ]
  },
  {
   "cell_type": "code",
   "execution_count": 34,
   "metadata": {},
   "outputs": [],
   "source": [
    "# drop rows whose class level is High School Scholar\n",
    "nsc_copy = nsc_copy.drop(nsc_copy[(nsc_copy['Class Level'] == 'High School Scholar')].index)"
   ]
  },
  {
   "cell_type": "code",
   "execution_count": 35,
   "metadata": {},
   "outputs": [
    {
     "data": {
      "text/plain": [
       "(7217, 16)"
      ]
     },
     "execution_count": 35,
     "metadata": {},
     "output_type": "execute_result"
    }
   ],
   "source": [
    "nsc_copy.shape\n",
    "# 17 rows removed"
   ]
  },
  {
   "cell_type": "markdown",
   "metadata": {},
   "source": [
    "### 2) For *students* who have both advanced certificate and basic certificate, only keep advanced certificate "
   ]
  },
  {
   "cell_type": "code",
   "execution_count": 36,
   "metadata": {},
   "outputs": [],
   "source": [
    "certificate = nsc[nsc['Degree Title'].str.contains(\"CERT\", na=False)]"
   ]
  },
  {
   "cell_type": "code",
   "execution_count": 37,
   "metadata": {},
   "outputs": [
    {
     "data": {
      "text/plain": [
       "(40, 16)"
      ]
     },
     "execution_count": 37,
     "metadata": {},
     "output_type": "execute_result"
    }
   ],
   "source": [
    "# there are 40 rows in total. All these fellows got at least one certificate. \n",
    "# DIPLOMA --> certificate (00346000002iXcS) only one fellow\n",
    "certificate.shape"
   ]
  },
  {
   "cell_type": "code",
   "execution_count": 38,
   "metadata": {},
   "outputs": [
    {
     "data": {
      "text/plain": [
       "BASIC CERTIFICATE            30\n",
       "CERTIFICATE                   4\n",
       "ADVANCED CERTIFICATE          3\n",
       "UNDERGRADUATE CERTIFICATE     1\n",
       "CERTIFICATE IN WRITING        1\n",
       "CERT                          1\n",
       "Name: Degree Title, dtype: int64"
      ]
     },
     "execution_count": 38,
     "metadata": {},
     "output_type": "execute_result"
    }
   ],
   "source": [
    "certificate['Degree Title'].value_counts()"
   ]
  },
  {
   "cell_type": "code",
   "execution_count": 39,
   "metadata": {},
   "outputs": [
    {
     "data": {
      "text/html": [
       "<div>\n",
       "<style scoped>\n",
       "    .dataframe tbody tr th:only-of-type {\n",
       "        vertical-align: middle;\n",
       "    }\n",
       "\n",
       "    .dataframe tbody tr th {\n",
       "        vertical-align: top;\n",
       "    }\n",
       "\n",
       "    .dataframe thead th {\n",
       "        text-align: right;\n",
       "    }\n",
       "</style>\n",
       "<table border=\"1\" class=\"dataframe\">\n",
       "  <thead>\n",
       "    <tr style=\"text-align: right;\">\n",
       "      <th></th>\n",
       "      <th>Fellow ID</th>\n",
       "      <th>College Code/Branch</th>\n",
       "      <th>College Name</th>\n",
       "      <th>College State</th>\n",
       "      <th>2-year / 4-year</th>\n",
       "      <th>Public / Private</th>\n",
       "      <th>Enrollment Begin</th>\n",
       "      <th>Enrollment End</th>\n",
       "      <th>Enrollment Status</th>\n",
       "      <th>Class Level</th>\n",
       "      <th>Enrollment Major 1</th>\n",
       "      <th>Graduated?</th>\n",
       "      <th>Graduation Date</th>\n",
       "      <th>Degree Title</th>\n",
       "      <th>Degree Major 1</th>\n",
       "      <th>Degree Major 2</th>\n",
       "    </tr>\n",
       "  </thead>\n",
       "  <tbody>\n",
       "    <tr>\n",
       "      <td>376</td>\n",
       "      <td>0034p00001iGQ6m</td>\n",
       "      <td>001650-00</td>\n",
       "      <td>CITY OF CHICAGO - MALCOLM X COLLEGE</td>\n",
       "      <td>IL</td>\n",
       "      <td>2</td>\n",
       "      <td>Public</td>\n",
       "      <td>NaN</td>\n",
       "      <td>NaN</td>\n",
       "      <td></td>\n",
       "      <td>NaN</td>\n",
       "      <td>NaN</td>\n",
       "      <td>Y</td>\n",
       "      <td>5/15/2021</td>\n",
       "      <td>ADVANCED CERTIFICATE</td>\n",
       "      <td>Education</td>\n",
       "      <td>NaN</td>\n",
       "    </tr>\n",
       "    <tr>\n",
       "      <td>982</td>\n",
       "      <td>0034600001EXcUB</td>\n",
       "      <td>001654-00</td>\n",
       "      <td>CITY OF CHICAGO - KENNEDY-KING COLLEGE</td>\n",
       "      <td>IL</td>\n",
       "      <td>2</td>\n",
       "      <td>Public</td>\n",
       "      <td>NaN</td>\n",
       "      <td>NaN</td>\n",
       "      <td></td>\n",
       "      <td>NaN</td>\n",
       "      <td>NaN</td>\n",
       "      <td>Y</td>\n",
       "      <td>12/14/2019</td>\n",
       "      <td>ADVANCED CERTIFICATE</td>\n",
       "      <td>Repair, Production, &amp; Construction</td>\n",
       "      <td>NaN</td>\n",
       "    </tr>\n",
       "    <tr>\n",
       "      <td>2764</td>\n",
       "      <td>00346000002iXd2</td>\n",
       "      <td>009767-00</td>\n",
       "      <td>CITY OF CHICAGO - OLIVE-HARVEY COLLEGE</td>\n",
       "      <td>IL</td>\n",
       "      <td>2</td>\n",
       "      <td>Public</td>\n",
       "      <td>NaN</td>\n",
       "      <td>NaN</td>\n",
       "      <td></td>\n",
       "      <td>NaN</td>\n",
       "      <td>NaN</td>\n",
       "      <td>Y</td>\n",
       "      <td>5/11/2019</td>\n",
       "      <td>ADVANCED CERTIFICATE</td>\n",
       "      <td>Education</td>\n",
       "      <td>NaN</td>\n",
       "    </tr>\n",
       "  </tbody>\n",
       "</table>\n",
       "</div>"
      ],
      "text/plain": [
       "            Fellow ID College Code/Branch  \\\n",
       "376   0034p00001iGQ6m           001650-00   \n",
       "982   0034600001EXcUB           001654-00   \n",
       "2764  00346000002iXd2           009767-00   \n",
       "\n",
       "                                College Name College State  2-year / 4-year  \\\n",
       "376      CITY OF CHICAGO - MALCOLM X COLLEGE            IL                2   \n",
       "982   CITY OF CHICAGO - KENNEDY-KING COLLEGE            IL                2   \n",
       "2764  CITY OF CHICAGO - OLIVE-HARVEY COLLEGE            IL                2   \n",
       "\n",
       "     Public / Private Enrollment Begin Enrollment End Enrollment Status  \\\n",
       "376            Public              NaN            NaN                     \n",
       "982            Public              NaN            NaN                     \n",
       "2764           Public              NaN            NaN                     \n",
       "\n",
       "     Class Level Enrollment Major 1 Graduated? Graduation Date  \\\n",
       "376          NaN                NaN          Y       5/15/2021   \n",
       "982          NaN                NaN          Y      12/14/2019   \n",
       "2764         NaN                NaN          Y       5/11/2019   \n",
       "\n",
       "              Degree Title                      Degree Major 1 Degree Major 2  \n",
       "376   ADVANCED CERTIFICATE                           Education            NaN  \n",
       "982   ADVANCED CERTIFICATE  Repair, Production, & Construction            NaN  \n",
       "2764  ADVANCED CERTIFICATE                           Education            NaN  "
      ]
     },
     "execution_count": 39,
     "metadata": {},
     "output_type": "execute_result"
    }
   ],
   "source": [
    "# find the fellows who earned advanced certificate\n",
    "fellow_ad_cert = nsc.loc[nsc['Degree Title'] == 'ADVANCED CERTIFICATE']\n",
    "fellow_ad_cert"
   ]
  },
  {
   "cell_type": "code",
   "execution_count": 40,
   "metadata": {},
   "outputs": [],
   "source": [
    "# drop rows\n",
    "nsc_copy = nsc_copy.drop(nsc_copy[(nsc_copy['Fellow ID'] == '0034p00001iGQ6m') & (nsc_copy['Degree Title'] == 'BASIC CERTIFICATE')].index)\n",
    "nsc_copy = nsc_copy.drop(nsc_copy[(nsc_copy['Fellow ID'] == '0034600001EXcUB') & (nsc_copy['Degree Title'] == 'BASIC CERTIFICATE')].index)\n",
    "nsc_copy = nsc_copy.drop(nsc_copy[(nsc_copy['Fellow ID'] == '00346000002iXd2') & (nsc_copy['Degree Title'] == 'BASIC CERTIFICATE')].index)"
   ]
  },
  {
   "cell_type": "code",
   "execution_count": 41,
   "metadata": {},
   "outputs": [
    {
     "data": {
      "text/plain": [
       "(7212, 16)"
      ]
     },
     "execution_count": 41,
     "metadata": {},
     "output_type": "execute_result"
    }
   ],
   "source": [
    "nsc_copy.shape\n",
    "# 5 rows removed"
   ]
  },
  {
   "cell_type": "markdown",
   "metadata": {},
   "source": [
    "### 3) remove rows which have graduation date but no degree type"
   ]
  },
  {
   "cell_type": "code",
   "execution_count": 42,
   "metadata": {},
   "outputs": [],
   "source": [
    "graduated_fellow = nsc.loc[nsc['Graduated?'] == 'Y']"
   ]
  },
  {
   "cell_type": "code",
   "execution_count": 43,
   "metadata": {},
   "outputs": [],
   "source": [
    "# graduated_fellow.head()"
   ]
  },
  {
   "cell_type": "code",
   "execution_count": 44,
   "metadata": {},
   "outputs": [],
   "source": [
    "# fellows who have more than one graduation records\n",
    "counts = graduated_fellow['Fellow ID'].value_counts()\n",
    "graduated_fellow_more_than_one = graduated_fellow[graduated_fellow['Fellow ID'].isin(counts.index[counts > 1])]"
   ]
  },
  {
   "cell_type": "code",
   "execution_count": 45,
   "metadata": {},
   "outputs": [
    {
     "data": {
      "text/plain": [
       "array(['0034p00001huqzw', '00346000002iXbP', '00346000002iXf4',\n",
       "       '0034p00001iGQ6m', '00346000002iXan', '00346000002iXes',\n",
       "       '00346000002iXXW', '00346000002iXcp', '00346000002iXZM',\n",
       "       '0034p00001iGQ5v', '00346000002iXZR', '0034600001EXcUB',\n",
       "       '00346000002iXXU', '0034p00001iGQ61', '00346000002iXXI',\n",
       "       '00346000002iXZF', '00346000002iXev', '00346000002iXZt',\n",
       "       '00346000002iXco', '00346000002iXXB', '00346000002iXYx',\n",
       "       '00346000002iXa3', '00346000002iWAj', '0034p00001jVylT',\n",
       "       '00346000002iWOw', '00346000002iXd2', '00346000002iXZZ',\n",
       "       '00346000002iW9n', '00346000002iXaZ', '00346000002iXbo',\n",
       "       '00346000002iXcJ', '00346000002iXaO', '0034p00001huJkF',\n",
       "       '00346000002iXZb', '00346000002iXbZ', '00346000002iXaD',\n",
       "       '00346000002iXbN', '00346000002iXZc', '00346000002iXZq',\n",
       "       '00346000002iWAF', '00346000002iXdX', '0034p00001iGQ5e',\n",
       "       '00346000002iXaE', '00346000002iXcP', '0034600000iXknH',\n",
       "       '00346000002iXbL', '0034600001EXcSe', '00346000002iXf9',\n",
       "       '00346000002iXZW', '00346000002iXX5', '00346000002iXcF',\n",
       "       '00346000002iXWu', '00346000002iWAc', '00346000002iXXg',\n",
       "       '00346000002iXcS', '00346000002iXbj', '00346000002iXaS',\n",
       "       '0034p00001jVEU8', '00346000002iXf6', '00346000002iXYX',\n",
       "       '00346000002iXWt', '00346000002iXbQ', '0034p00001iGQ5n',\n",
       "       '00346000002iXXo', '00346000002iXa6', '00346000002iWAA',\n",
       "       '00346000002iXdq'], dtype=object)"
      ]
     },
     "execution_count": 45,
     "metadata": {},
     "output_type": "execute_result"
    }
   ],
   "source": [
    "graduated_fellow_more_than_one['Fellow ID'].unique()"
   ]
  },
  {
   "cell_type": "markdown",
   "metadata": {},
   "source": [
    "**We found that if there is a graduation date but no degree title, in most cases, this is because the graduation date is trying to record the last date of the last semester. There will be another row recording both actuall graduation date and degree title. Therefore, we can remove those rows which have graduation date but no degree title.**"
   ]
  },
  {
   "cell_type": "code",
   "execution_count": 46,
   "metadata": {},
   "outputs": [],
   "source": [
    "# drop those rows which have a graduation date but no degree title\n",
    "nsc_copy = nsc_copy.drop(nsc_copy[(nsc_copy['Graduated?'] == 'Y') & (nsc_copy['Degree Title'].isnull())].index)"
   ]
  },
  {
   "cell_type": "code",
   "execution_count": 47,
   "metadata": {},
   "outputs": [
    {
     "data": {
      "text/plain": [
       "(7173, 16)"
      ]
     },
     "execution_count": 47,
     "metadata": {},
     "output_type": "execute_result"
    }
   ],
   "source": [
    "nsc_copy.shape\n",
    "# 39 rows removed"
   ]
  },
  {
   "cell_type": "markdown",
   "metadata": {},
   "source": [
    "**the following fellows are removed:**\n",
    "['0034p00001jVEU7', '0034600001EXcSa', '00346000002iWAv', '00346000002iXbv', '00346000002iXeF']\n",
    "\n",
    "*they only have one record which has a graduation date but no degree type. They cannot be used to compute duration anyways. So removed.*"
   ]
  },
  {
   "cell_type": "markdown",
   "metadata": {},
   "source": [
    "**We also found fellow (00346000002iXcJ) has two graduation dates with the same degree title. One of teh rows should be removed**"
   ]
  },
  {
   "cell_type": "code",
   "execution_count": 48,
   "metadata": {},
   "outputs": [],
   "source": [
    "# 00346000002iXcJ\n",
    "# remove index 3371\n",
    "nsc_copy.drop(3371, inplace=True)"
   ]
  },
  {
   "cell_type": "markdown",
   "metadata": {},
   "source": []
  },
  {
   "cell_type": "markdown",
   "metadata": {},
   "source": [
    "### 4) remove very close graduation dates"
   ]
  },
  {
   "cell_type": "markdown",
   "metadata": {},
   "source": [
    "**I used date diff to find close graduation dates, and found those are**\n",
    "- Reduplications\n",
    "- a degree with a certificate"
   ]
  },
  {
   "cell_type": "code",
   "execution_count": null,
   "metadata": {},
   "outputs": [],
   "source": [
    "# teh following fellows have this situation\n",
    "#['0034p00001huqzw', '0034p00001iGQ61', '00346000002iXco',\n",
    "#'00346000002iXaZ', '0034p00001huJkF', '00346000002iXdX',\n",
    "#'0034600001EXcSe', '00346000002iWAc', '00346000002iXf6',\n",
    "#'00346000002iXXo', '00346000002iWAA']"
   ]
  },
  {
   "cell_type": "code",
   "execution_count": 49,
   "metadata": {},
   "outputs": [
    {
     "data": {
      "text/html": [
       "<div>\n",
       "<style scoped>\n",
       "    .dataframe tbody tr th:only-of-type {\n",
       "        vertical-align: middle;\n",
       "    }\n",
       "\n",
       "    .dataframe tbody tr th {\n",
       "        vertical-align: top;\n",
       "    }\n",
       "\n",
       "    .dataframe thead th {\n",
       "        text-align: right;\n",
       "    }\n",
       "</style>\n",
       "<table border=\"1\" class=\"dataframe\">\n",
       "  <thead>\n",
       "    <tr style=\"text-align: right;\">\n",
       "      <th></th>\n",
       "      <th>Fellow ID</th>\n",
       "      <th>College Code/Branch</th>\n",
       "      <th>College Name</th>\n",
       "      <th>College State</th>\n",
       "      <th>2-year / 4-year</th>\n",
       "      <th>Public / Private</th>\n",
       "      <th>Enrollment Begin</th>\n",
       "      <th>Enrollment End</th>\n",
       "      <th>Enrollment Status</th>\n",
       "      <th>Class Level</th>\n",
       "      <th>Enrollment Major 1</th>\n",
       "      <th>Graduated?</th>\n",
       "      <th>Graduation Date</th>\n",
       "      <th>Degree Title</th>\n",
       "      <th>Degree Major 1</th>\n",
       "      <th>Degree Major 2</th>\n",
       "    </tr>\n",
       "  </thead>\n",
       "  <tbody>\n",
       "    <tr>\n",
       "      <td>44</td>\n",
       "      <td>0034p00001huqzw</td>\n",
       "      <td>001649-00</td>\n",
       "      <td>CITY OF CHICAGO - RICHARD J. DALEY COLLEGE</td>\n",
       "      <td>IL</td>\n",
       "      <td>2</td>\n",
       "      <td>Public</td>\n",
       "      <td>8/26/2019</td>\n",
       "      <td>12/14/2019</td>\n",
       "      <td>Full-time</td>\n",
       "      <td>Freshman</td>\n",
       "      <td>NaN</td>\n",
       "      <td>N</td>\n",
       "      <td>NaN</td>\n",
       "      <td>NaN</td>\n",
       "      <td>NaN</td>\n",
       "      <td>NaN</td>\n",
       "    </tr>\n",
       "    <tr>\n",
       "      <td>45</td>\n",
       "      <td>0034p00001huqzw</td>\n",
       "      <td>001649-00</td>\n",
       "      <td>CITY OF CHICAGO - RICHARD J. DALEY COLLEGE</td>\n",
       "      <td>IL</td>\n",
       "      <td>2</td>\n",
       "      <td>Public</td>\n",
       "      <td>1/13/2020</td>\n",
       "      <td>5/9/2020</td>\n",
       "      <td>Full-time</td>\n",
       "      <td>Sophomore</td>\n",
       "      <td>NaN</td>\n",
       "      <td>N</td>\n",
       "      <td>NaN</td>\n",
       "      <td>NaN</td>\n",
       "      <td>NaN</td>\n",
       "      <td>NaN</td>\n",
       "    </tr>\n",
       "    <tr>\n",
       "      <td>46</td>\n",
       "      <td>0034p00001huqzw</td>\n",
       "      <td>001649-00</td>\n",
       "      <td>CITY OF CHICAGO - RICHARD J. DALEY COLLEGE</td>\n",
       "      <td>IL</td>\n",
       "      <td>2</td>\n",
       "      <td>Public</td>\n",
       "      <td>8/24/2020</td>\n",
       "      <td>12/12/2020</td>\n",
       "      <td>Full-time</td>\n",
       "      <td>Sophomore</td>\n",
       "      <td>NaN</td>\n",
       "      <td>N</td>\n",
       "      <td>NaN</td>\n",
       "      <td>NaN</td>\n",
       "      <td>NaN</td>\n",
       "      <td>NaN</td>\n",
       "    </tr>\n",
       "    <tr>\n",
       "      <td>47</td>\n",
       "      <td>0034p00001huqzw</td>\n",
       "      <td>001649-00</td>\n",
       "      <td>CITY OF CHICAGO - RICHARD J. DALEY COLLEGE</td>\n",
       "      <td>IL</td>\n",
       "      <td>2</td>\n",
       "      <td>Public</td>\n",
       "      <td>1/19/2021</td>\n",
       "      <td>5/15/2021</td>\n",
       "      <td>Full-time</td>\n",
       "      <td>Sophomore</td>\n",
       "      <td>NaN</td>\n",
       "      <td>N</td>\n",
       "      <td>NaN</td>\n",
       "      <td>NaN</td>\n",
       "      <td>NaN</td>\n",
       "      <td>NaN</td>\n",
       "    </tr>\n",
       "    <tr>\n",
       "      <td>48</td>\n",
       "      <td>0034p00001huqzw</td>\n",
       "      <td>001649-00</td>\n",
       "      <td>CITY OF CHICAGO - RICHARD J. DALEY COLLEGE</td>\n",
       "      <td>IL</td>\n",
       "      <td>2</td>\n",
       "      <td>Public</td>\n",
       "      <td>NaN</td>\n",
       "      <td>NaN</td>\n",
       "      <td></td>\n",
       "      <td>NaN</td>\n",
       "      <td>NaN</td>\n",
       "      <td>Y</td>\n",
       "      <td>5/15/2021</td>\n",
       "      <td>ASSOCIATE IN ARTS</td>\n",
       "      <td>Accounting, Economics &amp; Finance</td>\n",
       "      <td>NaN</td>\n",
       "    </tr>\n",
       "    <tr>\n",
       "      <td>49</td>\n",
       "      <td>0034p00001huqzw</td>\n",
       "      <td>001649-00</td>\n",
       "      <td>CITY OF CHICAGO - RICHARD J. DALEY COLLEGE</td>\n",
       "      <td>IL</td>\n",
       "      <td>2</td>\n",
       "      <td>Public</td>\n",
       "      <td>NaN</td>\n",
       "      <td>NaN</td>\n",
       "      <td></td>\n",
       "      <td>NaN</td>\n",
       "      <td>NaN</td>\n",
       "      <td>Y</td>\n",
       "      <td>5/15/2021</td>\n",
       "      <td>GECC CREDENTIAL</td>\n",
       "      <td>General Studies</td>\n",
       "      <td>NaN</td>\n",
       "    </tr>\n",
       "  </tbody>\n",
       "</table>\n",
       "</div>"
      ],
      "text/plain": [
       "          Fellow ID College Code/Branch  \\\n",
       "44  0034p00001huqzw           001649-00   \n",
       "45  0034p00001huqzw           001649-00   \n",
       "46  0034p00001huqzw           001649-00   \n",
       "47  0034p00001huqzw           001649-00   \n",
       "48  0034p00001huqzw           001649-00   \n",
       "49  0034p00001huqzw           001649-00   \n",
       "\n",
       "                                  College Name College State  2-year / 4-year  \\\n",
       "44  CITY OF CHICAGO - RICHARD J. DALEY COLLEGE            IL                2   \n",
       "45  CITY OF CHICAGO - RICHARD J. DALEY COLLEGE            IL                2   \n",
       "46  CITY OF CHICAGO - RICHARD J. DALEY COLLEGE            IL                2   \n",
       "47  CITY OF CHICAGO - RICHARD J. DALEY COLLEGE            IL                2   \n",
       "48  CITY OF CHICAGO - RICHARD J. DALEY COLLEGE            IL                2   \n",
       "49  CITY OF CHICAGO - RICHARD J. DALEY COLLEGE            IL                2   \n",
       "\n",
       "   Public / Private Enrollment Begin Enrollment End Enrollment Status  \\\n",
       "44           Public        8/26/2019     12/14/2019         Full-time   \n",
       "45           Public        1/13/2020       5/9/2020         Full-time   \n",
       "46           Public        8/24/2020     12/12/2020         Full-time   \n",
       "47           Public        1/19/2021      5/15/2021         Full-time   \n",
       "48           Public              NaN            NaN                     \n",
       "49           Public              NaN            NaN                     \n",
       "\n",
       "   Class Level Enrollment Major 1 Graduated? Graduation Date  \\\n",
       "44    Freshman                NaN          N             NaN   \n",
       "45   Sophomore                NaN          N             NaN   \n",
       "46   Sophomore                NaN          N             NaN   \n",
       "47   Sophomore                NaN          N             NaN   \n",
       "48         NaN                NaN          Y       5/15/2021   \n",
       "49         NaN                NaN          Y       5/15/2021   \n",
       "\n",
       "         Degree Title                   Degree Major 1 Degree Major 2  \n",
       "44                NaN                              NaN            NaN  \n",
       "45                NaN                              NaN            NaN  \n",
       "46                NaN                              NaN            NaN  \n",
       "47                NaN                              NaN            NaN  \n",
       "48  ASSOCIATE IN ARTS  Accounting, Economics & Finance            NaN  \n",
       "49    GECC CREDENTIAL                  General Studies            NaN  "
      ]
     },
     "execution_count": 49,
     "metadata": {},
     "output_type": "execute_result"
    }
   ],
   "source": [
    "# See example below\n",
    "temp = nsc_copy.loc[nsc_copy['Fellow ID'] == '0034p00001huqzw']\n",
    "temp"
   ]
  },
  {
   "cell_type": "code",
   "execution_count": 50,
   "metadata": {},
   "outputs": [],
   "source": [
    "# the following rows should be removed:\n",
    "#  [49,1494, 2119, 3070, 3493, 4533, 4964, 5684, 6520, 6521, 6799, 7099, 7100, 7101]\n",
    "remove_index = [49,1494, 2119, 3070, 3493, 4533, 4964, 5684, 6520, 6521, 6799, 7099, 7100, 7101]"
   ]
  },
  {
   "cell_type": "code",
   "execution_count": 51,
   "metadata": {},
   "outputs": [],
   "source": [
    "nsc_copy.drop(remove_index, inplace=True)"
   ]
  },
  {
   "cell_type": "code",
   "execution_count": 52,
   "metadata": {},
   "outputs": [
    {
     "data": {
      "text/plain": [
       "(7158, 16)"
      ]
     },
     "execution_count": 52,
     "metadata": {},
     "output_type": "execute_result"
    }
   ],
   "source": [
    "nsc_copy.shape\n",
    "# 14 rows removed"
   ]
  },
  {
   "cell_type": "markdown",
   "metadata": {},
   "source": [
    "**conclusion:**\n",
    "- removed 17 rows --> high school scholar\n",
    "- removed 5 rows --> basic certificate\n",
    "- removed 39 rows --> have graduation date but no degree type (most are reduplications)\n",
    "- removed 1 row --> have two close graduation dates, but same degree title\n",
    "- removed 14 rows --> same graduation date (with a less important degree such as certificate, credential, minor degree etc.)"
   ]
  },
  {
   "cell_type": "code",
   "execution_count": 54,
   "metadata": {},
   "outputs": [],
   "source": [
    "# write as csv file\n",
    "# nsc_copy.to_csv('NSC_new_version_1026.csv', encoding='utf-8', index=False)"
   ]
  },
  {
   "cell_type": "code",
   "execution_count": null,
   "metadata": {},
   "outputs": [],
   "source": []
  },
  {
   "cell_type": "code",
   "execution_count": null,
   "metadata": {},
   "outputs": [],
   "source": []
  }
 ],
 "metadata": {
  "kernelspec": {
   "display_name": "Python 3",
   "language": "python",
   "name": "python3"
  },
  "language_info": {
   "codemirror_mode": {
    "name": "ipython",
    "version": 3
   },
   "file_extension": ".py",
   "mimetype": "text/x-python",
   "name": "python",
   "nbconvert_exporter": "python",
   "pygments_lexer": "ipython3",
   "version": "3.7.4"
  },
  "toc": {
   "base_numbering": 1,
   "nav_menu": {},
   "number_sections": false,
   "sideBar": true,
   "skip_h1_title": false,
   "title_cell": "Table of Contents",
   "title_sidebar": "Contents",
   "toc_cell": false,
   "toc_position": {
    "height": "calc(100% - 180px)",
    "left": "10px",
    "top": "150px",
    "width": "242.25px"
   },
   "toc_section_display": true,
   "toc_window_display": true
  }
 },
 "nbformat": 4,
 "nbformat_minor": 2
}
