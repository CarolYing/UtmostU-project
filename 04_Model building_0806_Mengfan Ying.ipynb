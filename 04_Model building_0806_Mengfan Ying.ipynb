{
 "cells": [
  {
   "cell_type": "code",
   "execution_count": 2,
   "metadata": {},
   "outputs": [],
   "source": [
    "#import packages\n",
    "import pandas as pd\n",
    "import numpy as np\n",
    "import matplotlib.pyplot as plt\n",
    "import seaborn as sns\n",
    "%matplotlib inline\n",
    "sns.set_style(\"darkgrid\")\n",
    "#sns.set(rc={'figure.figsize':(8,6)}) # adjust figure size\n",
    "\n",
    "#%precision 2\n",
    "\n",
    "pd.set_option('max_columns',200)\n",
    "\n",
    "# modeling packages\n",
    "from scipy.stats import norm\n",
    "from sklearn.preprocessing import StandardScaler\n",
    "from scipy import stats\n",
    "import warnings\n",
    "warnings.filterwarnings('ignore')"
   ]
  },
  {
   "cell_type": "code",
   "execution_count": 2,
   "metadata": {},
   "outputs": [],
   "source": [
    "# read csv file -- contact object_new\n",
    "contact = pd.read_csv('DP- Contact Object 07-22-21.csv')\n",
    "\n",
    "# read csv file -- successful/unsuccessful students\n",
    "successful = pd.read_csv('successful_students.csv')\n",
    "unsuccessful = pd.read_csv('unsuccessful_students.csv')"
   ]
  },
  {
   "cell_type": "code",
   "execution_count": 3,
   "metadata": {},
   "outputs": [
    {
     "data": {
      "text/html": [
       "<div>\n",
       "<style scoped>\n",
       "    .dataframe tbody tr th:only-of-type {\n",
       "        vertical-align: middle;\n",
       "    }\n",
       "\n",
       "    .dataframe tbody tr th {\n",
       "        vertical-align: top;\n",
       "    }\n",
       "\n",
       "    .dataframe thead th {\n",
       "        text-align: right;\n",
       "    }\n",
       "</style>\n",
       "<table border=\"1\" class=\"dataframe\">\n",
       "  <thead>\n",
       "    <tr style=\"text-align: right;\">\n",
       "      <th></th>\n",
       "      <th>Id</th>\n",
       "      <th>Birthdate</th>\n",
       "      <th>Actual_College_Graduation_Date__c</th>\n",
       "      <th>College_Credits_Accumulated__c</th>\n",
       "      <th>College_Graduated_From__c</th>\n",
       "      <th>College_Major__c</th>\n",
       "      <th>College_Minor__c</th>\n",
       "      <th>Cumulative_College_GPA__c</th>\n",
       "      <th>Total_Credits_Required_to_Graduate__c</th>\n",
       "      <th>Pell_Eligible__c</th>\n",
       "      <th>Latest_Transcript__c</th>\n",
       "      <th>Latest_FAFSA_Date__c</th>\n",
       "      <th>Last_Successful_Contact__c</th>\n",
       "      <th>Last_Outreach__c</th>\n",
       "      <th>HS_Final_GPA__c</th>\n",
       "      <th>HS_Class__c</th>\n",
       "      <th>Highest_ACT_Score__c</th>\n",
       "      <th>Currently_Enrolled_At__c</th>\n",
       "      <th>Ethnicity__c</th>\n",
       "      <th>First_Generation_College_Student__c</th>\n",
       "      <th>Gender__c</th>\n",
       "      <th>EFC_from_FAFSA__c</th>\n",
       "      <th>Semester_1_GPA__c</th>\n",
       "      <th>Semester_2_GPA__c</th>\n",
       "      <th>Semester_3_GPA__c</th>\n",
       "      <th>Semester_4_GPA__c</th>\n",
       "      <th>Semester_5_GPA__c</th>\n",
       "      <th>Semester_6_GPA__c</th>\n",
       "      <th>Semester_7_GPA__c</th>\n",
       "      <th>Semester_8_GPA__c</th>\n",
       "      <th>Semester_9_GPA__c</th>\n",
       "      <th>Proposed_College_Major__c</th>\n",
       "      <th>Semester_10_Credits__c</th>\n",
       "      <th>Semester_11_Credits__c</th>\n",
       "      <th>Semester_12_Credits__c</th>\n",
       "      <th>Semester_1_Credits__c</th>\n",
       "      <th>Semester_2_Credits__c</th>\n",
       "      <th>Semester_3_Credits__c</th>\n",
       "      <th>Semester_4_Credits__c</th>\n",
       "      <th>Semester_5_Credits__c</th>\n",
       "      <th>Semester_6_Credits__c</th>\n",
       "      <th>Semester_7_Credits__c</th>\n",
       "      <th>Semester_8_Credits__c</th>\n",
       "      <th>Semester_9_Credits__c</th>\n",
       "      <th>Career_Path__c</th>\n",
       "      <th>College_Path__c</th>\n",
       "      <th>High_School_Graduated_From__c</th>\n",
       "      <th>PAC_Mentee__c</th>\n",
       "      <th>Stage__c</th>\n",
       "      <th>Career_Cluster_Matches__c</th>\n",
       "      <th>Active_T_Mobile_Plan__c</th>\n",
       "      <th>Column1</th>\n",
       "    </tr>\n",
       "  </thead>\n",
       "  <tbody>\n",
       "    <tr>\n",
       "      <td>0</td>\n",
       "      <td>00346000002iXekAAE</td>\n",
       "      <td>5/2/1996 0:00</td>\n",
       "      <td>6/1/2017 0:00</td>\n",
       "      <td>48.0</td>\n",
       "      <td>NaN</td>\n",
       "      <td>Computer Science</td>\n",
       "      <td>NaN</td>\n",
       "      <td>2.29</td>\n",
       "      <td>120.0</td>\n",
       "      <td>0</td>\n",
       "      <td>1/6/2017 0:00</td>\n",
       "      <td>1/1/1900</td>\n",
       "      <td>2/7/2019 0:00</td>\n",
       "      <td>11/5/2018 0:00</td>\n",
       "      <td>3.33</td>\n",
       "      <td>2014.0</td>\n",
       "      <td>25.0</td>\n",
       "      <td>NaN</td>\n",
       "      <td>African American</td>\n",
       "      <td>0</td>\n",
       "      <td>Male</td>\n",
       "      <td>1264.0</td>\n",
       "      <td>0.30</td>\n",
       "      <td>3.75</td>\n",
       "      <td>3.31</td>\n",
       "      <td>2.60</td>\n",
       "      <td>2.93</td>\n",
       "      <td>NaN</td>\n",
       "      <td>NaN</td>\n",
       "      <td>NaN</td>\n",
       "      <td>NaN</td>\n",
       "      <td>NaN</td>\n",
       "      <td>NaN</td>\n",
       "      <td>NaN</td>\n",
       "      <td>NaN</td>\n",
       "      <td>3.0</td>\n",
       "      <td>12.0</td>\n",
       "      <td>13.0</td>\n",
       "      <td>6.0</td>\n",
       "      <td>8.0</td>\n",
       "      <td>NaN</td>\n",
       "      <td>NaN</td>\n",
       "      <td>NaN</td>\n",
       "      <td>NaN</td>\n",
       "      <td>0</td>\n",
       "      <td>1</td>\n",
       "      <td>NaN</td>\n",
       "      <td>NaN</td>\n",
       "      <td>8. Graduate of Program</td>\n",
       "      <td>NaN</td>\n",
       "      <td>1.0</td>\n",
       "      <td>NaN</td>\n",
       "    </tr>\n",
       "    <tr>\n",
       "      <td>1</td>\n",
       "      <td>00346000002iXcbAAE</td>\n",
       "      <td>1/23/1995 0:00</td>\n",
       "      <td>10/4/2019 0:00</td>\n",
       "      <td>6.0</td>\n",
       "      <td>Year UP</td>\n",
       "      <td>NaN</td>\n",
       "      <td>NaN</td>\n",
       "      <td>1.10</td>\n",
       "      <td>120.0</td>\n",
       "      <td>0</td>\n",
       "      <td>5/20/2015 0:00</td>\n",
       "      <td>1/7/2016 0:00</td>\n",
       "      <td>10/4/2019 0:00</td>\n",
       "      <td>4/29/2019 0:00</td>\n",
       "      <td>1.98</td>\n",
       "      <td>2014.0</td>\n",
       "      <td>13.0</td>\n",
       "      <td>NaN</td>\n",
       "      <td>African American</td>\n",
       "      <td>0</td>\n",
       "      <td>Female</td>\n",
       "      <td>0.0</td>\n",
       "      <td>1.67</td>\n",
       "      <td>2.00</td>\n",
       "      <td>NaN</td>\n",
       "      <td>NaN</td>\n",
       "      <td>NaN</td>\n",
       "      <td>NaN</td>\n",
       "      <td>NaN</td>\n",
       "      <td>NaN</td>\n",
       "      <td>NaN</td>\n",
       "      <td>NaN</td>\n",
       "      <td>NaN</td>\n",
       "      <td>NaN</td>\n",
       "      <td>NaN</td>\n",
       "      <td>9.0</td>\n",
       "      <td>3.0</td>\n",
       "      <td>NaN</td>\n",
       "      <td>NaN</td>\n",
       "      <td>NaN</td>\n",
       "      <td>NaN</td>\n",
       "      <td>NaN</td>\n",
       "      <td>NaN</td>\n",
       "      <td>NaN</td>\n",
       "      <td>1</td>\n",
       "      <td>0</td>\n",
       "      <td>NaN</td>\n",
       "      <td>NaN</td>\n",
       "      <td>8. Graduate of Program</td>\n",
       "      <td>NaN</td>\n",
       "      <td>0.0</td>\n",
       "      <td>NaN</td>\n",
       "    </tr>\n",
       "    <tr>\n",
       "      <td>2</td>\n",
       "      <td>00346000002iXbiAAE</td>\n",
       "      <td>11/19/1996 0:00</td>\n",
       "      <td>9/11/2018 0:00</td>\n",
       "      <td>39.0</td>\n",
       "      <td>Year UP</td>\n",
       "      <td>Communications</td>\n",
       "      <td>NaN</td>\n",
       "      <td>1.92</td>\n",
       "      <td>120.0</td>\n",
       "      <td>0</td>\n",
       "      <td>12/29/2016 0:00</td>\n",
       "      <td>1/1/1900</td>\n",
       "      <td>9/11/2018 0:00</td>\n",
       "      <td>2/5/2019 0:00</td>\n",
       "      <td>2.50</td>\n",
       "      <td>2015.0</td>\n",
       "      <td>18.0</td>\n",
       "      <td>NaN</td>\n",
       "      <td>African American</td>\n",
       "      <td>0</td>\n",
       "      <td>Male</td>\n",
       "      <td>24170.0</td>\n",
       "      <td>2.10</td>\n",
       "      <td>1.88</td>\n",
       "      <td>1.75</td>\n",
       "      <td>NaN</td>\n",
       "      <td>NaN</td>\n",
       "      <td>NaN</td>\n",
       "      <td>NaN</td>\n",
       "      <td>NaN</td>\n",
       "      <td>NaN</td>\n",
       "      <td>NaN</td>\n",
       "      <td>NaN</td>\n",
       "      <td>NaN</td>\n",
       "      <td>NaN</td>\n",
       "      <td>15.0</td>\n",
       "      <td>12.0</td>\n",
       "      <td>12.0</td>\n",
       "      <td>NaN</td>\n",
       "      <td>NaN</td>\n",
       "      <td>NaN</td>\n",
       "      <td>NaN</td>\n",
       "      <td>NaN</td>\n",
       "      <td>NaN</td>\n",
       "      <td>1</td>\n",
       "      <td>0</td>\n",
       "      <td>NaN</td>\n",
       "      <td>NaN</td>\n",
       "      <td>8. Graduate of Program</td>\n",
       "      <td>NaN</td>\n",
       "      <td>0.0</td>\n",
       "      <td>NaN</td>\n",
       "    </tr>\n",
       "    <tr>\n",
       "      <td>3</td>\n",
       "      <td>00346000002iXaSAAU</td>\n",
       "      <td>3/20/1995 0:00</td>\n",
       "      <td>5/18/2018 0:00</td>\n",
       "      <td>108.0</td>\n",
       "      <td>NaN</td>\n",
       "      <td>Recreation, Sport, and Tourism</td>\n",
       "      <td>Scuba</td>\n",
       "      <td>3.51</td>\n",
       "      <td>120.0</td>\n",
       "      <td>0</td>\n",
       "      <td>1/12/2018 0:00</td>\n",
       "      <td>1/1/1900</td>\n",
       "      <td>3/23/2017 0:00</td>\n",
       "      <td>3/23/2017 0:00</td>\n",
       "      <td>2.87</td>\n",
       "      <td>2014.0</td>\n",
       "      <td>20.0</td>\n",
       "      <td>NaN</td>\n",
       "      <td>African American</td>\n",
       "      <td>0</td>\n",
       "      <td>Female</td>\n",
       "      <td>0.0</td>\n",
       "      <td>3.67</td>\n",
       "      <td>3.78</td>\n",
       "      <td>3.63</td>\n",
       "      <td>3.46</td>\n",
       "      <td>3.49</td>\n",
       "      <td>3.47</td>\n",
       "      <td>3.67</td>\n",
       "      <td>NaN</td>\n",
       "      <td>NaN</td>\n",
       "      <td>NaN</td>\n",
       "      <td>NaN</td>\n",
       "      <td>NaN</td>\n",
       "      <td>NaN</td>\n",
       "      <td>16.0</td>\n",
       "      <td>11.0</td>\n",
       "      <td>14.0</td>\n",
       "      <td>17.0</td>\n",
       "      <td>12.0</td>\n",
       "      <td>13.0</td>\n",
       "      <td>NaN</td>\n",
       "      <td>NaN</td>\n",
       "      <td>NaN</td>\n",
       "      <td>0</td>\n",
       "      <td>1</td>\n",
       "      <td>NaN</td>\n",
       "      <td>NaN</td>\n",
       "      <td>8. Graduate of Program</td>\n",
       "      <td>Human Services;Business Management &amp; Administr...</td>\n",
       "      <td>1.0</td>\n",
       "      <td>NaN</td>\n",
       "    </tr>\n",
       "    <tr>\n",
       "      <td>4</td>\n",
       "      <td>00346000002iXaWAAU</td>\n",
       "      <td>8/5/1996 0:00</td>\n",
       "      <td>5/11/2019 0:00</td>\n",
       "      <td>124.0</td>\n",
       "      <td>Western Illinois University</td>\n",
       "      <td>Arts, Media, and Entertainment</td>\n",
       "      <td>NaN</td>\n",
       "      <td>2.51</td>\n",
       "      <td>120.0</td>\n",
       "      <td>0</td>\n",
       "      <td>1/14/2019 0:00</td>\n",
       "      <td>1/1/1900</td>\n",
       "      <td>1/7/2019 0:00</td>\n",
       "      <td>3/15/2018 0:00</td>\n",
       "      <td>2.46</td>\n",
       "      <td>2014.0</td>\n",
       "      <td>21.0</td>\n",
       "      <td>NaN</td>\n",
       "      <td>African American</td>\n",
       "      <td>0</td>\n",
       "      <td>Male</td>\n",
       "      <td>0.0</td>\n",
       "      <td>1.92</td>\n",
       "      <td>2.23</td>\n",
       "      <td>2.22</td>\n",
       "      <td>2.24</td>\n",
       "      <td>2.20</td>\n",
       "      <td>2.12</td>\n",
       "      <td>2.67</td>\n",
       "      <td>NaN</td>\n",
       "      <td>3.6</td>\n",
       "      <td>NaN</td>\n",
       "      <td>15.0</td>\n",
       "      <td>NaN</td>\n",
       "      <td>NaN</td>\n",
       "      <td>10.0</td>\n",
       "      <td>8.0</td>\n",
       "      <td>13.0</td>\n",
       "      <td>13.0</td>\n",
       "      <td>11.0</td>\n",
       "      <td>12.0</td>\n",
       "      <td>NaN</td>\n",
       "      <td>NaN</td>\n",
       "      <td>15.0</td>\n",
       "      <td>0</td>\n",
       "      <td>1</td>\n",
       "      <td>NaN</td>\n",
       "      <td>NaN</td>\n",
       "      <td>8. Graduate of Program</td>\n",
       "      <td>Education;Business Management &amp; Administration...</td>\n",
       "      <td>0.0</td>\n",
       "      <td>NaN</td>\n",
       "    </tr>\n",
       "  </tbody>\n",
       "</table>\n",
       "</div>"
      ],
      "text/plain": [
       "                   Id        Birthdate Actual_College_Graduation_Date__c  \\\n",
       "0  00346000002iXekAAE    5/2/1996 0:00                     6/1/2017 0:00   \n",
       "1  00346000002iXcbAAE   1/23/1995 0:00                    10/4/2019 0:00   \n",
       "2  00346000002iXbiAAE  11/19/1996 0:00                    9/11/2018 0:00   \n",
       "3  00346000002iXaSAAU   3/20/1995 0:00                    5/18/2018 0:00   \n",
       "4  00346000002iXaWAAU    8/5/1996 0:00                    5/11/2019 0:00   \n",
       "\n",
       "   College_Credits_Accumulated__c    College_Graduated_From__c  \\\n",
       "0                            48.0                          NaN   \n",
       "1                             6.0                      Year UP   \n",
       "2                            39.0                      Year UP   \n",
       "3                           108.0                          NaN   \n",
       "4                           124.0  Western Illinois University   \n",
       "\n",
       "                 College_Major__c College_Minor__c  Cumulative_College_GPA__c  \\\n",
       "0                Computer Science              NaN                       2.29   \n",
       "1                             NaN              NaN                       1.10   \n",
       "2                  Communications              NaN                       1.92   \n",
       "3  Recreation, Sport, and Tourism            Scuba                       3.51   \n",
       "4  Arts, Media, and Entertainment              NaN                       2.51   \n",
       "\n",
       "   Total_Credits_Required_to_Graduate__c  Pell_Eligible__c  \\\n",
       "0                                  120.0                 0   \n",
       "1                                  120.0                 0   \n",
       "2                                  120.0                 0   \n",
       "3                                  120.0                 0   \n",
       "4                                  120.0                 0   \n",
       "\n",
       "  Latest_Transcript__c Latest_FAFSA_Date__c Last_Successful_Contact__c  \\\n",
       "0        1/6/2017 0:00             1/1/1900              2/7/2019 0:00   \n",
       "1       5/20/2015 0:00        1/7/2016 0:00             10/4/2019 0:00   \n",
       "2      12/29/2016 0:00             1/1/1900             9/11/2018 0:00   \n",
       "3       1/12/2018 0:00             1/1/1900             3/23/2017 0:00   \n",
       "4       1/14/2019 0:00             1/1/1900              1/7/2019 0:00   \n",
       "\n",
       "  Last_Outreach__c  HS_Final_GPA__c  HS_Class__c  Highest_ACT_Score__c  \\\n",
       "0   11/5/2018 0:00             3.33       2014.0                  25.0   \n",
       "1   4/29/2019 0:00             1.98       2014.0                  13.0   \n",
       "2    2/5/2019 0:00             2.50       2015.0                  18.0   \n",
       "3   3/23/2017 0:00             2.87       2014.0                  20.0   \n",
       "4   3/15/2018 0:00             2.46       2014.0                  21.0   \n",
       "\n",
       "  Currently_Enrolled_At__c      Ethnicity__c  \\\n",
       "0                      NaN  African American   \n",
       "1                      NaN  African American   \n",
       "2                      NaN  African American   \n",
       "3                      NaN  African American   \n",
       "4                      NaN  African American   \n",
       "\n",
       "   First_Generation_College_Student__c Gender__c  EFC_from_FAFSA__c  \\\n",
       "0                                    0      Male             1264.0   \n",
       "1                                    0    Female                0.0   \n",
       "2                                    0      Male            24170.0   \n",
       "3                                    0    Female                0.0   \n",
       "4                                    0      Male                0.0   \n",
       "\n",
       "   Semester_1_GPA__c  Semester_2_GPA__c  Semester_3_GPA__c  Semester_4_GPA__c  \\\n",
       "0               0.30               3.75               3.31               2.60   \n",
       "1               1.67               2.00                NaN                NaN   \n",
       "2               2.10               1.88               1.75                NaN   \n",
       "3               3.67               3.78               3.63               3.46   \n",
       "4               1.92               2.23               2.22               2.24   \n",
       "\n",
       "   Semester_5_GPA__c  Semester_6_GPA__c  Semester_7_GPA__c  Semester_8_GPA__c  \\\n",
       "0               2.93                NaN                NaN                NaN   \n",
       "1                NaN                NaN                NaN                NaN   \n",
       "2                NaN                NaN                NaN                NaN   \n",
       "3               3.49               3.47               3.67                NaN   \n",
       "4               2.20               2.12               2.67                NaN   \n",
       "\n",
       "   Semester_9_GPA__c Proposed_College_Major__c  Semester_10_Credits__c  \\\n",
       "0                NaN                       NaN                     NaN   \n",
       "1                NaN                       NaN                     NaN   \n",
       "2                NaN                       NaN                     NaN   \n",
       "3                NaN                       NaN                     NaN   \n",
       "4                3.6                       NaN                    15.0   \n",
       "\n",
       "   Semester_11_Credits__c  Semester_12_Credits__c  Semester_1_Credits__c  \\\n",
       "0                     NaN                     NaN                    3.0   \n",
       "1                     NaN                     NaN                    9.0   \n",
       "2                     NaN                     NaN                   15.0   \n",
       "3                     NaN                     NaN                   16.0   \n",
       "4                     NaN                     NaN                   10.0   \n",
       "\n",
       "   Semester_2_Credits__c  Semester_3_Credits__c  Semester_4_Credits__c  \\\n",
       "0                   12.0                   13.0                    6.0   \n",
       "1                    3.0                    NaN                    NaN   \n",
       "2                   12.0                   12.0                    NaN   \n",
       "3                   11.0                   14.0                   17.0   \n",
       "4                    8.0                   13.0                   13.0   \n",
       "\n",
       "   Semester_5_Credits__c  Semester_6_Credits__c  Semester_7_Credits__c  \\\n",
       "0                    8.0                    NaN                    NaN   \n",
       "1                    NaN                    NaN                    NaN   \n",
       "2                    NaN                    NaN                    NaN   \n",
       "3                   12.0                   13.0                    NaN   \n",
       "4                   11.0                   12.0                    NaN   \n",
       "\n",
       "   Semester_8_Credits__c  Semester_9_Credits__c  Career_Path__c  \\\n",
       "0                    NaN                    NaN               0   \n",
       "1                    NaN                    NaN               1   \n",
       "2                    NaN                    NaN               1   \n",
       "3                    NaN                    NaN               0   \n",
       "4                    NaN                   15.0               0   \n",
       "\n",
       "   College_Path__c High_School_Graduated_From__c PAC_Mentee__c  \\\n",
       "0                1                           NaN           NaN   \n",
       "1                0                           NaN           NaN   \n",
       "2                0                           NaN           NaN   \n",
       "3                1                           NaN           NaN   \n",
       "4                1                           NaN           NaN   \n",
       "\n",
       "                 Stage__c                          Career_Cluster_Matches__c  \\\n",
       "0  8. Graduate of Program                                                NaN   \n",
       "1  8. Graduate of Program                                                NaN   \n",
       "2  8. Graduate of Program                                                NaN   \n",
       "3  8. Graduate of Program  Human Services;Business Management & Administr...   \n",
       "4  8. Graduate of Program  Education;Business Management & Administration...   \n",
       "\n",
       "   Active_T_Mobile_Plan__c  Column1  \n",
       "0                      1.0      NaN  \n",
       "1                      0.0      NaN  \n",
       "2                      0.0      NaN  \n",
       "3                      1.0      NaN  \n",
       "4                      0.0      NaN  "
      ]
     },
     "execution_count": 3,
     "metadata": {},
     "output_type": "execute_result"
    }
   ],
   "source": [
    "contact.head()\n",
    "#contact.info()\n",
    "#contact.columns"
   ]
  },
  {
   "cell_type": "code",
   "execution_count": 4,
   "metadata": {},
   "outputs": [],
   "source": [
    "# creating dummies for gender\n",
    "# male --> 1 & female --> 0\n",
    "contact['Gender__c'] = contact['Gender__c'].map({'Male':1, 'Female':0})"
   ]
  },
  {
   "cell_type": "code",
   "execution_count": 5,
   "metadata": {},
   "outputs": [
    {
     "data": {
      "text/html": [
       "<div>\n",
       "<style scoped>\n",
       "    .dataframe tbody tr th:only-of-type {\n",
       "        vertical-align: middle;\n",
       "    }\n",
       "\n",
       "    .dataframe tbody tr th {\n",
       "        vertical-align: top;\n",
       "    }\n",
       "\n",
       "    .dataframe thead th {\n",
       "        text-align: right;\n",
       "    }\n",
       "</style>\n",
       "<table border=\"1\" class=\"dataframe\">\n",
       "  <thead>\n",
       "    <tr style=\"text-align: right;\">\n",
       "      <th></th>\n",
       "      <th>Id</th>\n",
       "      <th>Birthdate</th>\n",
       "      <th>Actual_College_Graduation_Date__c</th>\n",
       "      <th>College_Credits_Accumulated__c</th>\n",
       "      <th>College_Graduated_From__c</th>\n",
       "      <th>College_Major__c</th>\n",
       "      <th>College_Minor__c</th>\n",
       "      <th>Cumulative_College_GPA__c</th>\n",
       "      <th>Total_Credits_Required_to_Graduate__c</th>\n",
       "      <th>Pell_Eligible__c</th>\n",
       "      <th>Latest_Transcript__c</th>\n",
       "      <th>Latest_FAFSA_Date__c</th>\n",
       "      <th>Last_Successful_Contact__c</th>\n",
       "      <th>Last_Outreach__c</th>\n",
       "      <th>HS_Final_GPA__c</th>\n",
       "      <th>HS_Class__c</th>\n",
       "      <th>Highest_ACT_Score__c</th>\n",
       "      <th>Currently_Enrolled_At__c</th>\n",
       "      <th>Ethnicity__c</th>\n",
       "      <th>First_Generation_College_Student__c</th>\n",
       "      <th>Gender__c</th>\n",
       "      <th>EFC_from_FAFSA__c</th>\n",
       "      <th>Semester_1_GPA__c</th>\n",
       "      <th>Semester_2_GPA__c</th>\n",
       "      <th>Semester_3_GPA__c</th>\n",
       "      <th>Semester_4_GPA__c</th>\n",
       "      <th>Semester_5_GPA__c</th>\n",
       "      <th>Semester_6_GPA__c</th>\n",
       "      <th>Semester_7_GPA__c</th>\n",
       "      <th>Semester_8_GPA__c</th>\n",
       "      <th>Semester_9_GPA__c</th>\n",
       "      <th>Proposed_College_Major__c</th>\n",
       "      <th>Semester_10_Credits__c</th>\n",
       "      <th>Semester_11_Credits__c</th>\n",
       "      <th>Semester_12_Credits__c</th>\n",
       "      <th>Semester_1_Credits__c</th>\n",
       "      <th>Semester_2_Credits__c</th>\n",
       "      <th>Semester_3_Credits__c</th>\n",
       "      <th>Semester_4_Credits__c</th>\n",
       "      <th>Semester_5_Credits__c</th>\n",
       "      <th>Semester_6_Credits__c</th>\n",
       "      <th>Semester_7_Credits__c</th>\n",
       "      <th>Semester_8_Credits__c</th>\n",
       "      <th>Semester_9_Credits__c</th>\n",
       "      <th>Career_Path__c</th>\n",
       "      <th>College_Path__c</th>\n",
       "      <th>High_School_Graduated_From__c</th>\n",
       "      <th>PAC_Mentee__c</th>\n",
       "      <th>Stage__c</th>\n",
       "      <th>Career_Cluster_Matches__c</th>\n",
       "      <th>Active_T_Mobile_Plan__c</th>\n",
       "      <th>Column1</th>\n",
       "    </tr>\n",
       "  </thead>\n",
       "  <tbody>\n",
       "    <tr>\n",
       "      <td>0</td>\n",
       "      <td>00346000002iXekAAE</td>\n",
       "      <td>5/2/1996 0:00</td>\n",
       "      <td>6/1/2017 0:00</td>\n",
       "      <td>48.0</td>\n",
       "      <td>NaN</td>\n",
       "      <td>Computer Science</td>\n",
       "      <td>NaN</td>\n",
       "      <td>2.29</td>\n",
       "      <td>120.0</td>\n",
       "      <td>0</td>\n",
       "      <td>1/6/2017 0:00</td>\n",
       "      <td>1/1/1900</td>\n",
       "      <td>2/7/2019 0:00</td>\n",
       "      <td>11/5/2018 0:00</td>\n",
       "      <td>3.33</td>\n",
       "      <td>2014.0</td>\n",
       "      <td>25.0</td>\n",
       "      <td>NaN</td>\n",
       "      <td>African American</td>\n",
       "      <td>0</td>\n",
       "      <td>1.0</td>\n",
       "      <td>1264.0</td>\n",
       "      <td>0.30</td>\n",
       "      <td>3.75</td>\n",
       "      <td>3.31</td>\n",
       "      <td>2.60</td>\n",
       "      <td>2.93</td>\n",
       "      <td>NaN</td>\n",
       "      <td>NaN</td>\n",
       "      <td>NaN</td>\n",
       "      <td>NaN</td>\n",
       "      <td>NaN</td>\n",
       "      <td>NaN</td>\n",
       "      <td>NaN</td>\n",
       "      <td>NaN</td>\n",
       "      <td>3.0</td>\n",
       "      <td>12.0</td>\n",
       "      <td>13.0</td>\n",
       "      <td>6.0</td>\n",
       "      <td>8.0</td>\n",
       "      <td>NaN</td>\n",
       "      <td>NaN</td>\n",
       "      <td>NaN</td>\n",
       "      <td>NaN</td>\n",
       "      <td>0</td>\n",
       "      <td>1</td>\n",
       "      <td>NaN</td>\n",
       "      <td>NaN</td>\n",
       "      <td>8. Graduate of Program</td>\n",
       "      <td>NaN</td>\n",
       "      <td>1.0</td>\n",
       "      <td>NaN</td>\n",
       "    </tr>\n",
       "    <tr>\n",
       "      <td>1</td>\n",
       "      <td>00346000002iXcbAAE</td>\n",
       "      <td>1/23/1995 0:00</td>\n",
       "      <td>10/4/2019 0:00</td>\n",
       "      <td>6.0</td>\n",
       "      <td>Year UP</td>\n",
       "      <td>NaN</td>\n",
       "      <td>NaN</td>\n",
       "      <td>1.10</td>\n",
       "      <td>120.0</td>\n",
       "      <td>0</td>\n",
       "      <td>5/20/2015 0:00</td>\n",
       "      <td>1/7/2016 0:00</td>\n",
       "      <td>10/4/2019 0:00</td>\n",
       "      <td>4/29/2019 0:00</td>\n",
       "      <td>1.98</td>\n",
       "      <td>2014.0</td>\n",
       "      <td>13.0</td>\n",
       "      <td>NaN</td>\n",
       "      <td>African American</td>\n",
       "      <td>0</td>\n",
       "      <td>0.0</td>\n",
       "      <td>0.0</td>\n",
       "      <td>1.67</td>\n",
       "      <td>2.00</td>\n",
       "      <td>NaN</td>\n",
       "      <td>NaN</td>\n",
       "      <td>NaN</td>\n",
       "      <td>NaN</td>\n",
       "      <td>NaN</td>\n",
       "      <td>NaN</td>\n",
       "      <td>NaN</td>\n",
       "      <td>NaN</td>\n",
       "      <td>NaN</td>\n",
       "      <td>NaN</td>\n",
       "      <td>NaN</td>\n",
       "      <td>9.0</td>\n",
       "      <td>3.0</td>\n",
       "      <td>NaN</td>\n",
       "      <td>NaN</td>\n",
       "      <td>NaN</td>\n",
       "      <td>NaN</td>\n",
       "      <td>NaN</td>\n",
       "      <td>NaN</td>\n",
       "      <td>NaN</td>\n",
       "      <td>1</td>\n",
       "      <td>0</td>\n",
       "      <td>NaN</td>\n",
       "      <td>NaN</td>\n",
       "      <td>8. Graduate of Program</td>\n",
       "      <td>NaN</td>\n",
       "      <td>0.0</td>\n",
       "      <td>NaN</td>\n",
       "    </tr>\n",
       "    <tr>\n",
       "      <td>2</td>\n",
       "      <td>00346000002iXbiAAE</td>\n",
       "      <td>11/19/1996 0:00</td>\n",
       "      <td>9/11/2018 0:00</td>\n",
       "      <td>39.0</td>\n",
       "      <td>Year UP</td>\n",
       "      <td>Communications</td>\n",
       "      <td>NaN</td>\n",
       "      <td>1.92</td>\n",
       "      <td>120.0</td>\n",
       "      <td>0</td>\n",
       "      <td>12/29/2016 0:00</td>\n",
       "      <td>1/1/1900</td>\n",
       "      <td>9/11/2018 0:00</td>\n",
       "      <td>2/5/2019 0:00</td>\n",
       "      <td>2.50</td>\n",
       "      <td>2015.0</td>\n",
       "      <td>18.0</td>\n",
       "      <td>NaN</td>\n",
       "      <td>African American</td>\n",
       "      <td>0</td>\n",
       "      <td>1.0</td>\n",
       "      <td>24170.0</td>\n",
       "      <td>2.10</td>\n",
       "      <td>1.88</td>\n",
       "      <td>1.75</td>\n",
       "      <td>NaN</td>\n",
       "      <td>NaN</td>\n",
       "      <td>NaN</td>\n",
       "      <td>NaN</td>\n",
       "      <td>NaN</td>\n",
       "      <td>NaN</td>\n",
       "      <td>NaN</td>\n",
       "      <td>NaN</td>\n",
       "      <td>NaN</td>\n",
       "      <td>NaN</td>\n",
       "      <td>15.0</td>\n",
       "      <td>12.0</td>\n",
       "      <td>12.0</td>\n",
       "      <td>NaN</td>\n",
       "      <td>NaN</td>\n",
       "      <td>NaN</td>\n",
       "      <td>NaN</td>\n",
       "      <td>NaN</td>\n",
       "      <td>NaN</td>\n",
       "      <td>1</td>\n",
       "      <td>0</td>\n",
       "      <td>NaN</td>\n",
       "      <td>NaN</td>\n",
       "      <td>8. Graduate of Program</td>\n",
       "      <td>NaN</td>\n",
       "      <td>0.0</td>\n",
       "      <td>NaN</td>\n",
       "    </tr>\n",
       "    <tr>\n",
       "      <td>3</td>\n",
       "      <td>00346000002iXaSAAU</td>\n",
       "      <td>3/20/1995 0:00</td>\n",
       "      <td>5/18/2018 0:00</td>\n",
       "      <td>108.0</td>\n",
       "      <td>NaN</td>\n",
       "      <td>Recreation, Sport, and Tourism</td>\n",
       "      <td>Scuba</td>\n",
       "      <td>3.51</td>\n",
       "      <td>120.0</td>\n",
       "      <td>0</td>\n",
       "      <td>1/12/2018 0:00</td>\n",
       "      <td>1/1/1900</td>\n",
       "      <td>3/23/2017 0:00</td>\n",
       "      <td>3/23/2017 0:00</td>\n",
       "      <td>2.87</td>\n",
       "      <td>2014.0</td>\n",
       "      <td>20.0</td>\n",
       "      <td>NaN</td>\n",
       "      <td>African American</td>\n",
       "      <td>0</td>\n",
       "      <td>0.0</td>\n",
       "      <td>0.0</td>\n",
       "      <td>3.67</td>\n",
       "      <td>3.78</td>\n",
       "      <td>3.63</td>\n",
       "      <td>3.46</td>\n",
       "      <td>3.49</td>\n",
       "      <td>3.47</td>\n",
       "      <td>3.67</td>\n",
       "      <td>NaN</td>\n",
       "      <td>NaN</td>\n",
       "      <td>NaN</td>\n",
       "      <td>NaN</td>\n",
       "      <td>NaN</td>\n",
       "      <td>NaN</td>\n",
       "      <td>16.0</td>\n",
       "      <td>11.0</td>\n",
       "      <td>14.0</td>\n",
       "      <td>17.0</td>\n",
       "      <td>12.0</td>\n",
       "      <td>13.0</td>\n",
       "      <td>NaN</td>\n",
       "      <td>NaN</td>\n",
       "      <td>NaN</td>\n",
       "      <td>0</td>\n",
       "      <td>1</td>\n",
       "      <td>NaN</td>\n",
       "      <td>NaN</td>\n",
       "      <td>8. Graduate of Program</td>\n",
       "      <td>Human Services;Business Management &amp; Administr...</td>\n",
       "      <td>1.0</td>\n",
       "      <td>NaN</td>\n",
       "    </tr>\n",
       "    <tr>\n",
       "      <td>4</td>\n",
       "      <td>00346000002iXaWAAU</td>\n",
       "      <td>8/5/1996 0:00</td>\n",
       "      <td>5/11/2019 0:00</td>\n",
       "      <td>124.0</td>\n",
       "      <td>Western Illinois University</td>\n",
       "      <td>Arts, Media, and Entertainment</td>\n",
       "      <td>NaN</td>\n",
       "      <td>2.51</td>\n",
       "      <td>120.0</td>\n",
       "      <td>0</td>\n",
       "      <td>1/14/2019 0:00</td>\n",
       "      <td>1/1/1900</td>\n",
       "      <td>1/7/2019 0:00</td>\n",
       "      <td>3/15/2018 0:00</td>\n",
       "      <td>2.46</td>\n",
       "      <td>2014.0</td>\n",
       "      <td>21.0</td>\n",
       "      <td>NaN</td>\n",
       "      <td>African American</td>\n",
       "      <td>0</td>\n",
       "      <td>1.0</td>\n",
       "      <td>0.0</td>\n",
       "      <td>1.92</td>\n",
       "      <td>2.23</td>\n",
       "      <td>2.22</td>\n",
       "      <td>2.24</td>\n",
       "      <td>2.20</td>\n",
       "      <td>2.12</td>\n",
       "      <td>2.67</td>\n",
       "      <td>NaN</td>\n",
       "      <td>3.6</td>\n",
       "      <td>NaN</td>\n",
       "      <td>15.0</td>\n",
       "      <td>NaN</td>\n",
       "      <td>NaN</td>\n",
       "      <td>10.0</td>\n",
       "      <td>8.0</td>\n",
       "      <td>13.0</td>\n",
       "      <td>13.0</td>\n",
       "      <td>11.0</td>\n",
       "      <td>12.0</td>\n",
       "      <td>NaN</td>\n",
       "      <td>NaN</td>\n",
       "      <td>15.0</td>\n",
       "      <td>0</td>\n",
       "      <td>1</td>\n",
       "      <td>NaN</td>\n",
       "      <td>NaN</td>\n",
       "      <td>8. Graduate of Program</td>\n",
       "      <td>Education;Business Management &amp; Administration...</td>\n",
       "      <td>0.0</td>\n",
       "      <td>NaN</td>\n",
       "    </tr>\n",
       "  </tbody>\n",
       "</table>\n",
       "</div>"
      ],
      "text/plain": [
       "                   Id        Birthdate Actual_College_Graduation_Date__c  \\\n",
       "0  00346000002iXekAAE    5/2/1996 0:00                     6/1/2017 0:00   \n",
       "1  00346000002iXcbAAE   1/23/1995 0:00                    10/4/2019 0:00   \n",
       "2  00346000002iXbiAAE  11/19/1996 0:00                    9/11/2018 0:00   \n",
       "3  00346000002iXaSAAU   3/20/1995 0:00                    5/18/2018 0:00   \n",
       "4  00346000002iXaWAAU    8/5/1996 0:00                    5/11/2019 0:00   \n",
       "\n",
       "   College_Credits_Accumulated__c    College_Graduated_From__c  \\\n",
       "0                            48.0                          NaN   \n",
       "1                             6.0                      Year UP   \n",
       "2                            39.0                      Year UP   \n",
       "3                           108.0                          NaN   \n",
       "4                           124.0  Western Illinois University   \n",
       "\n",
       "                 College_Major__c College_Minor__c  Cumulative_College_GPA__c  \\\n",
       "0                Computer Science              NaN                       2.29   \n",
       "1                             NaN              NaN                       1.10   \n",
       "2                  Communications              NaN                       1.92   \n",
       "3  Recreation, Sport, and Tourism            Scuba                       3.51   \n",
       "4  Arts, Media, and Entertainment              NaN                       2.51   \n",
       "\n",
       "   Total_Credits_Required_to_Graduate__c  Pell_Eligible__c  \\\n",
       "0                                  120.0                 0   \n",
       "1                                  120.0                 0   \n",
       "2                                  120.0                 0   \n",
       "3                                  120.0                 0   \n",
       "4                                  120.0                 0   \n",
       "\n",
       "  Latest_Transcript__c Latest_FAFSA_Date__c Last_Successful_Contact__c  \\\n",
       "0        1/6/2017 0:00             1/1/1900              2/7/2019 0:00   \n",
       "1       5/20/2015 0:00        1/7/2016 0:00             10/4/2019 0:00   \n",
       "2      12/29/2016 0:00             1/1/1900             9/11/2018 0:00   \n",
       "3       1/12/2018 0:00             1/1/1900             3/23/2017 0:00   \n",
       "4       1/14/2019 0:00             1/1/1900              1/7/2019 0:00   \n",
       "\n",
       "  Last_Outreach__c  HS_Final_GPA__c  HS_Class__c  Highest_ACT_Score__c  \\\n",
       "0   11/5/2018 0:00             3.33       2014.0                  25.0   \n",
       "1   4/29/2019 0:00             1.98       2014.0                  13.0   \n",
       "2    2/5/2019 0:00             2.50       2015.0                  18.0   \n",
       "3   3/23/2017 0:00             2.87       2014.0                  20.0   \n",
       "4   3/15/2018 0:00             2.46       2014.0                  21.0   \n",
       "\n",
       "  Currently_Enrolled_At__c      Ethnicity__c  \\\n",
       "0                      NaN  African American   \n",
       "1                      NaN  African American   \n",
       "2                      NaN  African American   \n",
       "3                      NaN  African American   \n",
       "4                      NaN  African American   \n",
       "\n",
       "   First_Generation_College_Student__c  Gender__c  EFC_from_FAFSA__c  \\\n",
       "0                                    0        1.0             1264.0   \n",
       "1                                    0        0.0                0.0   \n",
       "2                                    0        1.0            24170.0   \n",
       "3                                    0        0.0                0.0   \n",
       "4                                    0        1.0                0.0   \n",
       "\n",
       "   Semester_1_GPA__c  Semester_2_GPA__c  Semester_3_GPA__c  Semester_4_GPA__c  \\\n",
       "0               0.30               3.75               3.31               2.60   \n",
       "1               1.67               2.00                NaN                NaN   \n",
       "2               2.10               1.88               1.75                NaN   \n",
       "3               3.67               3.78               3.63               3.46   \n",
       "4               1.92               2.23               2.22               2.24   \n",
       "\n",
       "   Semester_5_GPA__c  Semester_6_GPA__c  Semester_7_GPA__c  Semester_8_GPA__c  \\\n",
       "0               2.93                NaN                NaN                NaN   \n",
       "1                NaN                NaN                NaN                NaN   \n",
       "2                NaN                NaN                NaN                NaN   \n",
       "3               3.49               3.47               3.67                NaN   \n",
       "4               2.20               2.12               2.67                NaN   \n",
       "\n",
       "   Semester_9_GPA__c Proposed_College_Major__c  Semester_10_Credits__c  \\\n",
       "0                NaN                       NaN                     NaN   \n",
       "1                NaN                       NaN                     NaN   \n",
       "2                NaN                       NaN                     NaN   \n",
       "3                NaN                       NaN                     NaN   \n",
       "4                3.6                       NaN                    15.0   \n",
       "\n",
       "   Semester_11_Credits__c  Semester_12_Credits__c  Semester_1_Credits__c  \\\n",
       "0                     NaN                     NaN                    3.0   \n",
       "1                     NaN                     NaN                    9.0   \n",
       "2                     NaN                     NaN                   15.0   \n",
       "3                     NaN                     NaN                   16.0   \n",
       "4                     NaN                     NaN                   10.0   \n",
       "\n",
       "   Semester_2_Credits__c  Semester_3_Credits__c  Semester_4_Credits__c  \\\n",
       "0                   12.0                   13.0                    6.0   \n",
       "1                    3.0                    NaN                    NaN   \n",
       "2                   12.0                   12.0                    NaN   \n",
       "3                   11.0                   14.0                   17.0   \n",
       "4                    8.0                   13.0                   13.0   \n",
       "\n",
       "   Semester_5_Credits__c  Semester_6_Credits__c  Semester_7_Credits__c  \\\n",
       "0                    8.0                    NaN                    NaN   \n",
       "1                    NaN                    NaN                    NaN   \n",
       "2                    NaN                    NaN                    NaN   \n",
       "3                   12.0                   13.0                    NaN   \n",
       "4                   11.0                   12.0                    NaN   \n",
       "\n",
       "   Semester_8_Credits__c  Semester_9_Credits__c  Career_Path__c  \\\n",
       "0                    NaN                    NaN               0   \n",
       "1                    NaN                    NaN               1   \n",
       "2                    NaN                    NaN               1   \n",
       "3                    NaN                    NaN               0   \n",
       "4                    NaN                   15.0               0   \n",
       "\n",
       "   College_Path__c High_School_Graduated_From__c PAC_Mentee__c  \\\n",
       "0                1                           NaN           NaN   \n",
       "1                0                           NaN           NaN   \n",
       "2                0                           NaN           NaN   \n",
       "3                1                           NaN           NaN   \n",
       "4                1                           NaN           NaN   \n",
       "\n",
       "                 Stage__c                          Career_Cluster_Matches__c  \\\n",
       "0  8. Graduate of Program                                                NaN   \n",
       "1  8. Graduate of Program                                                NaN   \n",
       "2  8. Graduate of Program                                                NaN   \n",
       "3  8. Graduate of Program  Human Services;Business Management & Administr...   \n",
       "4  8. Graduate of Program  Education;Business Management & Administration...   \n",
       "\n",
       "   Active_T_Mobile_Plan__c  Column1  \n",
       "0                      1.0      NaN  \n",
       "1                      0.0      NaN  \n",
       "2                      0.0      NaN  \n",
       "3                      1.0      NaN  \n",
       "4                      0.0      NaN  "
      ]
     },
     "execution_count": 5,
     "metadata": {},
     "output_type": "execute_result"
    }
   ],
   "source": [
    "contact.head()"
   ]
  },
  {
   "cell_type": "code",
   "execution_count": 6,
   "metadata": {},
   "outputs": [],
   "source": [
    "# pivot label tabel\n",
    "# successful --> 1 & unsuccessful --> 0\n",
    "successful['successful'] = 1\n",
    "unsuccessful['successful'] = 0\n",
    "label = pd.concat([successful, unsuccessful])"
   ]
  },
  {
   "cell_type": "code",
   "execution_count": 7,
   "metadata": {},
   "outputs": [],
   "source": [
    "# chnage column name for further merge\n",
    "label.columns= ['Id', 'label']"
   ]
  },
  {
   "cell_type": "code",
   "execution_count": 8,
   "metadata": {},
   "outputs": [],
   "source": [
    "# get a new dataframe with labels\n",
    "contact_with_labels = contact.merge(label, on='Id', how='inner')"
   ]
  },
  {
   "cell_type": "code",
   "execution_count": 9,
   "metadata": {},
   "outputs": [],
   "source": [
    "# save to csv file\n",
    "contact_with_labels.to_csv('contact_with_labels.csv', index = False)"
   ]
  },
  {
   "cell_type": "code",
   "execution_count": 10,
   "metadata": {},
   "outputs": [
    {
     "data": {
      "text/html": [
       "<div>\n",
       "<style scoped>\n",
       "    .dataframe tbody tr th:only-of-type {\n",
       "        vertical-align: middle;\n",
       "    }\n",
       "\n",
       "    .dataframe tbody tr th {\n",
       "        vertical-align: top;\n",
       "    }\n",
       "\n",
       "    .dataframe thead th {\n",
       "        text-align: right;\n",
       "    }\n",
       "</style>\n",
       "<table border=\"1\" class=\"dataframe\">\n",
       "  <thead>\n",
       "    <tr style=\"text-align: right;\">\n",
       "      <th></th>\n",
       "      <th>Id</th>\n",
       "      <th>Birthdate</th>\n",
       "      <th>Actual_College_Graduation_Date__c</th>\n",
       "      <th>College_Credits_Accumulated__c</th>\n",
       "      <th>College_Graduated_From__c</th>\n",
       "      <th>College_Major__c</th>\n",
       "      <th>College_Minor__c</th>\n",
       "      <th>Cumulative_College_GPA__c</th>\n",
       "      <th>Total_Credits_Required_to_Graduate__c</th>\n",
       "      <th>Pell_Eligible__c</th>\n",
       "      <th>Latest_Transcript__c</th>\n",
       "      <th>Latest_FAFSA_Date__c</th>\n",
       "      <th>Last_Successful_Contact__c</th>\n",
       "      <th>Last_Outreach__c</th>\n",
       "      <th>HS_Final_GPA__c</th>\n",
       "      <th>HS_Class__c</th>\n",
       "      <th>Highest_ACT_Score__c</th>\n",
       "      <th>Currently_Enrolled_At__c</th>\n",
       "      <th>Ethnicity__c</th>\n",
       "      <th>First_Generation_College_Student__c</th>\n",
       "      <th>Gender__c</th>\n",
       "      <th>EFC_from_FAFSA__c</th>\n",
       "      <th>Semester_1_GPA__c</th>\n",
       "      <th>Semester_2_GPA__c</th>\n",
       "      <th>Semester_3_GPA__c</th>\n",
       "      <th>Semester_4_GPA__c</th>\n",
       "      <th>Semester_5_GPA__c</th>\n",
       "      <th>Semester_6_GPA__c</th>\n",
       "      <th>Semester_7_GPA__c</th>\n",
       "      <th>Semester_8_GPA__c</th>\n",
       "      <th>Semester_9_GPA__c</th>\n",
       "      <th>Proposed_College_Major__c</th>\n",
       "      <th>Semester_10_Credits__c</th>\n",
       "      <th>Semester_11_Credits__c</th>\n",
       "      <th>Semester_12_Credits__c</th>\n",
       "      <th>Semester_1_Credits__c</th>\n",
       "      <th>Semester_2_Credits__c</th>\n",
       "      <th>Semester_3_Credits__c</th>\n",
       "      <th>Semester_4_Credits__c</th>\n",
       "      <th>Semester_5_Credits__c</th>\n",
       "      <th>Semester_6_Credits__c</th>\n",
       "      <th>Semester_7_Credits__c</th>\n",
       "      <th>Semester_8_Credits__c</th>\n",
       "      <th>Semester_9_Credits__c</th>\n",
       "      <th>Career_Path__c</th>\n",
       "      <th>College_Path__c</th>\n",
       "      <th>High_School_Graduated_From__c</th>\n",
       "      <th>PAC_Mentee__c</th>\n",
       "      <th>Stage__c</th>\n",
       "      <th>Career_Cluster_Matches__c</th>\n",
       "      <th>Active_T_Mobile_Plan__c</th>\n",
       "      <th>Column1</th>\n",
       "      <th>label</th>\n",
       "    </tr>\n",
       "  </thead>\n",
       "  <tbody>\n",
       "    <tr>\n",
       "      <td>0</td>\n",
       "      <td>00346000002iXekAAE</td>\n",
       "      <td>5/2/1996 0:00</td>\n",
       "      <td>6/1/2017 0:00</td>\n",
       "      <td>48.0</td>\n",
       "      <td>NaN</td>\n",
       "      <td>Computer Science</td>\n",
       "      <td>NaN</td>\n",
       "      <td>2.29</td>\n",
       "      <td>120.0</td>\n",
       "      <td>0</td>\n",
       "      <td>1/6/2017 0:00</td>\n",
       "      <td>1/1/1900</td>\n",
       "      <td>2/7/2019 0:00</td>\n",
       "      <td>11/5/2018 0:00</td>\n",
       "      <td>3.33</td>\n",
       "      <td>2014.0</td>\n",
       "      <td>25.0</td>\n",
       "      <td>NaN</td>\n",
       "      <td>African American</td>\n",
       "      <td>0</td>\n",
       "      <td>1.0</td>\n",
       "      <td>1264.0</td>\n",
       "      <td>0.3</td>\n",
       "      <td>3.75</td>\n",
       "      <td>3.31</td>\n",
       "      <td>2.6</td>\n",
       "      <td>2.93</td>\n",
       "      <td>NaN</td>\n",
       "      <td>NaN</td>\n",
       "      <td>NaN</td>\n",
       "      <td>NaN</td>\n",
       "      <td>NaN</td>\n",
       "      <td>NaN</td>\n",
       "      <td>NaN</td>\n",
       "      <td>NaN</td>\n",
       "      <td>3.0</td>\n",
       "      <td>12.0</td>\n",
       "      <td>13.0</td>\n",
       "      <td>6.0</td>\n",
       "      <td>8.0</td>\n",
       "      <td>NaN</td>\n",
       "      <td>NaN</td>\n",
       "      <td>NaN</td>\n",
       "      <td>NaN</td>\n",
       "      <td>0</td>\n",
       "      <td>1</td>\n",
       "      <td>NaN</td>\n",
       "      <td>NaN</td>\n",
       "      <td>8. Graduate of Program</td>\n",
       "      <td>NaN</td>\n",
       "      <td>1.0</td>\n",
       "      <td>NaN</td>\n",
       "      <td>0</td>\n",
       "    </tr>\n",
       "  </tbody>\n",
       "</table>\n",
       "</div>"
      ],
      "text/plain": [
       "                   Id      Birthdate Actual_College_Graduation_Date__c  \\\n",
       "0  00346000002iXekAAE  5/2/1996 0:00                     6/1/2017 0:00   \n",
       "\n",
       "   College_Credits_Accumulated__c College_Graduated_From__c  College_Major__c  \\\n",
       "0                            48.0                       NaN  Computer Science   \n",
       "\n",
       "  College_Minor__c  Cumulative_College_GPA__c  \\\n",
       "0              NaN                       2.29   \n",
       "\n",
       "   Total_Credits_Required_to_Graduate__c  Pell_Eligible__c  \\\n",
       "0                                  120.0                 0   \n",
       "\n",
       "  Latest_Transcript__c Latest_FAFSA_Date__c Last_Successful_Contact__c  \\\n",
       "0        1/6/2017 0:00             1/1/1900              2/7/2019 0:00   \n",
       "\n",
       "  Last_Outreach__c  HS_Final_GPA__c  HS_Class__c  Highest_ACT_Score__c  \\\n",
       "0   11/5/2018 0:00             3.33       2014.0                  25.0   \n",
       "\n",
       "  Currently_Enrolled_At__c      Ethnicity__c  \\\n",
       "0                      NaN  African American   \n",
       "\n",
       "   First_Generation_College_Student__c  Gender__c  EFC_from_FAFSA__c  \\\n",
       "0                                    0        1.0             1264.0   \n",
       "\n",
       "   Semester_1_GPA__c  Semester_2_GPA__c  Semester_3_GPA__c  Semester_4_GPA__c  \\\n",
       "0                0.3               3.75               3.31                2.6   \n",
       "\n",
       "   Semester_5_GPA__c  Semester_6_GPA__c  Semester_7_GPA__c  Semester_8_GPA__c  \\\n",
       "0               2.93                NaN                NaN                NaN   \n",
       "\n",
       "   Semester_9_GPA__c Proposed_College_Major__c  Semester_10_Credits__c  \\\n",
       "0                NaN                       NaN                     NaN   \n",
       "\n",
       "   Semester_11_Credits__c  Semester_12_Credits__c  Semester_1_Credits__c  \\\n",
       "0                     NaN                     NaN                    3.0   \n",
       "\n",
       "   Semester_2_Credits__c  Semester_3_Credits__c  Semester_4_Credits__c  \\\n",
       "0                   12.0                   13.0                    6.0   \n",
       "\n",
       "   Semester_5_Credits__c  Semester_6_Credits__c  Semester_7_Credits__c  \\\n",
       "0                    8.0                    NaN                    NaN   \n",
       "\n",
       "   Semester_8_Credits__c  Semester_9_Credits__c  Career_Path__c  \\\n",
       "0                    NaN                    NaN               0   \n",
       "\n",
       "   College_Path__c High_School_Graduated_From__c PAC_Mentee__c  \\\n",
       "0                1                           NaN           NaN   \n",
       "\n",
       "                 Stage__c Career_Cluster_Matches__c  Active_T_Mobile_Plan__c  \\\n",
       "0  8. Graduate of Program                       NaN                      1.0   \n",
       "\n",
       "   Column1  label  \n",
       "0      NaN      0  "
      ]
     },
     "execution_count": 10,
     "metadata": {},
     "output_type": "execute_result"
    }
   ],
   "source": [
    "contact_with_labels.head(1)"
   ]
  },
  {
   "cell_type": "code",
   "execution_count": 11,
   "metadata": {},
   "outputs": [],
   "source": [
    "# select independent variables\n",
    "# first try, modified after looking at correlation matrix\n",
    "# contactSmall = contact[['Id','Cumulative_College_GPA__c','Pell_Eligible__c', 'HS_Final_GPA__c', 'Highest_ACT_Score__c', 'First_Generation_College_Student__c', 'Active_T_Mobile_Plan__c']]\n",
    "\n",
    "#second try (numerical variables only)\n",
    "contactNum = contact_with_labels[['Id','College_Credits_Accumulated__c','Cumulative_College_GPA__c','Total_Credits_Required_to_Graduate__c', \n",
    "                                  'Pell_Eligible__c','HS_Final_GPA__c', 'Highest_ACT_Score__c', 'First_Generation_College_Student__c', 'Gender__c', \n",
    "                                  'EFC_from_FAFSA__c', 'Career_Path__c', 'College_Path__c', 'Active_T_Mobile_Plan__c', 'label']]"
   ]
  },
  {
   "cell_type": "code",
   "execution_count": 12,
   "metadata": {
    "scrolled": true
   },
   "outputs": [
    {
     "data": {
      "text/html": [
       "<div>\n",
       "<style scoped>\n",
       "    .dataframe tbody tr th:only-of-type {\n",
       "        vertical-align: middle;\n",
       "    }\n",
       "\n",
       "    .dataframe tbody tr th {\n",
       "        vertical-align: top;\n",
       "    }\n",
       "\n",
       "    .dataframe thead th {\n",
       "        text-align: right;\n",
       "    }\n",
       "</style>\n",
       "<table border=\"1\" class=\"dataframe\">\n",
       "  <thead>\n",
       "    <tr style=\"text-align: right;\">\n",
       "      <th></th>\n",
       "      <th>Id</th>\n",
       "      <th>College_Credits_Accumulated__c</th>\n",
       "      <th>Cumulative_College_GPA__c</th>\n",
       "      <th>Total_Credits_Required_to_Graduate__c</th>\n",
       "      <th>Pell_Eligible__c</th>\n",
       "      <th>HS_Final_GPA__c</th>\n",
       "      <th>Highest_ACT_Score__c</th>\n",
       "      <th>First_Generation_College_Student__c</th>\n",
       "      <th>Gender__c</th>\n",
       "      <th>EFC_from_FAFSA__c</th>\n",
       "      <th>Career_Path__c</th>\n",
       "      <th>College_Path__c</th>\n",
       "      <th>Active_T_Mobile_Plan__c</th>\n",
       "      <th>label</th>\n",
       "    </tr>\n",
       "  </thead>\n",
       "  <tbody>\n",
       "    <tr>\n",
       "      <td>0</td>\n",
       "      <td>00346000002iXekAAE</td>\n",
       "      <td>48.0</td>\n",
       "      <td>2.29</td>\n",
       "      <td>120.0</td>\n",
       "      <td>0</td>\n",
       "      <td>3.33</td>\n",
       "      <td>25.0</td>\n",
       "      <td>0</td>\n",
       "      <td>1.0</td>\n",
       "      <td>1264.0</td>\n",
       "      <td>0</td>\n",
       "      <td>1</td>\n",
       "      <td>1.0</td>\n",
       "      <td>0</td>\n",
       "    </tr>\n",
       "    <tr>\n",
       "      <td>1</td>\n",
       "      <td>00346000002iXcbAAE</td>\n",
       "      <td>6.0</td>\n",
       "      <td>1.10</td>\n",
       "      <td>120.0</td>\n",
       "      <td>0</td>\n",
       "      <td>1.98</td>\n",
       "      <td>13.0</td>\n",
       "      <td>0</td>\n",
       "      <td>0.0</td>\n",
       "      <td>0.0</td>\n",
       "      <td>1</td>\n",
       "      <td>0</td>\n",
       "      <td>0.0</td>\n",
       "      <td>0</td>\n",
       "    </tr>\n",
       "    <tr>\n",
       "      <td>2</td>\n",
       "      <td>00346000002iXbiAAE</td>\n",
       "      <td>39.0</td>\n",
       "      <td>1.92</td>\n",
       "      <td>120.0</td>\n",
       "      <td>0</td>\n",
       "      <td>2.50</td>\n",
       "      <td>18.0</td>\n",
       "      <td>0</td>\n",
       "      <td>1.0</td>\n",
       "      <td>24170.0</td>\n",
       "      <td>1</td>\n",
       "      <td>0</td>\n",
       "      <td>0.0</td>\n",
       "      <td>0</td>\n",
       "    </tr>\n",
       "    <tr>\n",
       "      <td>3</td>\n",
       "      <td>00346000002iXaSAAU</td>\n",
       "      <td>108.0</td>\n",
       "      <td>3.51</td>\n",
       "      <td>120.0</td>\n",
       "      <td>0</td>\n",
       "      <td>2.87</td>\n",
       "      <td>20.0</td>\n",
       "      <td>0</td>\n",
       "      <td>0.0</td>\n",
       "      <td>0.0</td>\n",
       "      <td>0</td>\n",
       "      <td>1</td>\n",
       "      <td>1.0</td>\n",
       "      <td>1</td>\n",
       "    </tr>\n",
       "    <tr>\n",
       "      <td>4</td>\n",
       "      <td>00346000002iXaWAAU</td>\n",
       "      <td>124.0</td>\n",
       "      <td>2.51</td>\n",
       "      <td>120.0</td>\n",
       "      <td>0</td>\n",
       "      <td>2.46</td>\n",
       "      <td>21.0</td>\n",
       "      <td>0</td>\n",
       "      <td>1.0</td>\n",
       "      <td>0.0</td>\n",
       "      <td>0</td>\n",
       "      <td>1</td>\n",
       "      <td>0.0</td>\n",
       "      <td>1</td>\n",
       "    </tr>\n",
       "  </tbody>\n",
       "</table>\n",
       "</div>"
      ],
      "text/plain": [
       "                   Id  College_Credits_Accumulated__c  \\\n",
       "0  00346000002iXekAAE                            48.0   \n",
       "1  00346000002iXcbAAE                             6.0   \n",
       "2  00346000002iXbiAAE                            39.0   \n",
       "3  00346000002iXaSAAU                           108.0   \n",
       "4  00346000002iXaWAAU                           124.0   \n",
       "\n",
       "   Cumulative_College_GPA__c  Total_Credits_Required_to_Graduate__c  \\\n",
       "0                       2.29                                  120.0   \n",
       "1                       1.10                                  120.0   \n",
       "2                       1.92                                  120.0   \n",
       "3                       3.51                                  120.0   \n",
       "4                       2.51                                  120.0   \n",
       "\n",
       "   Pell_Eligible__c  HS_Final_GPA__c  Highest_ACT_Score__c  \\\n",
       "0                 0             3.33                  25.0   \n",
       "1                 0             1.98                  13.0   \n",
       "2                 0             2.50                  18.0   \n",
       "3                 0             2.87                  20.0   \n",
       "4                 0             2.46                  21.0   \n",
       "\n",
       "   First_Generation_College_Student__c  Gender__c  EFC_from_FAFSA__c  \\\n",
       "0                                    0        1.0             1264.0   \n",
       "1                                    0        0.0                0.0   \n",
       "2                                    0        1.0            24170.0   \n",
       "3                                    0        0.0                0.0   \n",
       "4                                    0        1.0                0.0   \n",
       "\n",
       "   Career_Path__c  College_Path__c  Active_T_Mobile_Plan__c  label  \n",
       "0               0                1                      1.0      0  \n",
       "1               1                0                      0.0      0  \n",
       "2               1                0                      0.0      0  \n",
       "3               0                1                      1.0      1  \n",
       "4               0                1                      0.0      1  "
      ]
     },
     "execution_count": 12,
     "metadata": {},
     "output_type": "execute_result"
    }
   ],
   "source": [
    "contactNum.head()"
   ]
  },
  {
   "cell_type": "code",
   "execution_count": 13,
   "metadata": {},
   "outputs": [],
   "source": [
    "df = contactNum.dropna() # there are still some NULLS, remove all"
   ]
  },
  {
   "cell_type": "code",
   "execution_count": 14,
   "metadata": {},
   "outputs": [
    {
     "data": {
      "text/html": [
       "<div>\n",
       "<style scoped>\n",
       "    .dataframe tbody tr th:only-of-type {\n",
       "        vertical-align: middle;\n",
       "    }\n",
       "\n",
       "    .dataframe tbody tr th {\n",
       "        vertical-align: top;\n",
       "    }\n",
       "\n",
       "    .dataframe thead th {\n",
       "        text-align: right;\n",
       "    }\n",
       "</style>\n",
       "<table border=\"1\" class=\"dataframe\">\n",
       "  <thead>\n",
       "    <tr style=\"text-align: right;\">\n",
       "      <th></th>\n",
       "      <th>Id</th>\n",
       "      <th>College_Credits_Accumulated__c</th>\n",
       "      <th>Cumulative_College_GPA__c</th>\n",
       "      <th>Total_Credits_Required_to_Graduate__c</th>\n",
       "      <th>Pell_Eligible__c</th>\n",
       "      <th>HS_Final_GPA__c</th>\n",
       "      <th>Highest_ACT_Score__c</th>\n",
       "      <th>First_Generation_College_Student__c</th>\n",
       "      <th>Gender__c</th>\n",
       "      <th>EFC_from_FAFSA__c</th>\n",
       "      <th>Career_Path__c</th>\n",
       "      <th>College_Path__c</th>\n",
       "      <th>Active_T_Mobile_Plan__c</th>\n",
       "      <th>label</th>\n",
       "    </tr>\n",
       "  </thead>\n",
       "  <tbody>\n",
       "    <tr>\n",
       "      <td>0</td>\n",
       "      <td>00346000002iXekAAE</td>\n",
       "      <td>48.0</td>\n",
       "      <td>2.29</td>\n",
       "      <td>120.0</td>\n",
       "      <td>0</td>\n",
       "      <td>3.33</td>\n",
       "      <td>25.0</td>\n",
       "      <td>0</td>\n",
       "      <td>1.0</td>\n",
       "      <td>1264.0</td>\n",
       "      <td>0</td>\n",
       "      <td>1</td>\n",
       "      <td>1.0</td>\n",
       "      <td>0</td>\n",
       "    </tr>\n",
       "    <tr>\n",
       "      <td>1</td>\n",
       "      <td>00346000002iXcbAAE</td>\n",
       "      <td>6.0</td>\n",
       "      <td>1.10</td>\n",
       "      <td>120.0</td>\n",
       "      <td>0</td>\n",
       "      <td>1.98</td>\n",
       "      <td>13.0</td>\n",
       "      <td>0</td>\n",
       "      <td>0.0</td>\n",
       "      <td>0.0</td>\n",
       "      <td>1</td>\n",
       "      <td>0</td>\n",
       "      <td>0.0</td>\n",
       "      <td>0</td>\n",
       "    </tr>\n",
       "    <tr>\n",
       "      <td>2</td>\n",
       "      <td>00346000002iXbiAAE</td>\n",
       "      <td>39.0</td>\n",
       "      <td>1.92</td>\n",
       "      <td>120.0</td>\n",
       "      <td>0</td>\n",
       "      <td>2.50</td>\n",
       "      <td>18.0</td>\n",
       "      <td>0</td>\n",
       "      <td>1.0</td>\n",
       "      <td>24170.0</td>\n",
       "      <td>1</td>\n",
       "      <td>0</td>\n",
       "      <td>0.0</td>\n",
       "      <td>0</td>\n",
       "    </tr>\n",
       "    <tr>\n",
       "      <td>3</td>\n",
       "      <td>00346000002iXaSAAU</td>\n",
       "      <td>108.0</td>\n",
       "      <td>3.51</td>\n",
       "      <td>120.0</td>\n",
       "      <td>0</td>\n",
       "      <td>2.87</td>\n",
       "      <td>20.0</td>\n",
       "      <td>0</td>\n",
       "      <td>0.0</td>\n",
       "      <td>0.0</td>\n",
       "      <td>0</td>\n",
       "      <td>1</td>\n",
       "      <td>1.0</td>\n",
       "      <td>1</td>\n",
       "    </tr>\n",
       "    <tr>\n",
       "      <td>4</td>\n",
       "      <td>00346000002iXaWAAU</td>\n",
       "      <td>124.0</td>\n",
       "      <td>2.51</td>\n",
       "      <td>120.0</td>\n",
       "      <td>0</td>\n",
       "      <td>2.46</td>\n",
       "      <td>21.0</td>\n",
       "      <td>0</td>\n",
       "      <td>1.0</td>\n",
       "      <td>0.0</td>\n",
       "      <td>0</td>\n",
       "      <td>1</td>\n",
       "      <td>0.0</td>\n",
       "      <td>1</td>\n",
       "    </tr>\n",
       "  </tbody>\n",
       "</table>\n",
       "</div>"
      ],
      "text/plain": [
       "                   Id  College_Credits_Accumulated__c  \\\n",
       "0  00346000002iXekAAE                            48.0   \n",
       "1  00346000002iXcbAAE                             6.0   \n",
       "2  00346000002iXbiAAE                            39.0   \n",
       "3  00346000002iXaSAAU                           108.0   \n",
       "4  00346000002iXaWAAU                           124.0   \n",
       "\n",
       "   Cumulative_College_GPA__c  Total_Credits_Required_to_Graduate__c  \\\n",
       "0                       2.29                                  120.0   \n",
       "1                       1.10                                  120.0   \n",
       "2                       1.92                                  120.0   \n",
       "3                       3.51                                  120.0   \n",
       "4                       2.51                                  120.0   \n",
       "\n",
       "   Pell_Eligible__c  HS_Final_GPA__c  Highest_ACT_Score__c  \\\n",
       "0                 0             3.33                  25.0   \n",
       "1                 0             1.98                  13.0   \n",
       "2                 0             2.50                  18.0   \n",
       "3                 0             2.87                  20.0   \n",
       "4                 0             2.46                  21.0   \n",
       "\n",
       "   First_Generation_College_Student__c  Gender__c  EFC_from_FAFSA__c  \\\n",
       "0                                    0        1.0             1264.0   \n",
       "1                                    0        0.0                0.0   \n",
       "2                                    0        1.0            24170.0   \n",
       "3                                    0        0.0                0.0   \n",
       "4                                    0        1.0                0.0   \n",
       "\n",
       "   Career_Path__c  College_Path__c  Active_T_Mobile_Plan__c  label  \n",
       "0               0                1                      1.0      0  \n",
       "1               1                0                      0.0      0  \n",
       "2               1                0                      0.0      0  \n",
       "3               0                1                      1.0      1  \n",
       "4               0                1                      0.0      1  "
      ]
     },
     "execution_count": 14,
     "metadata": {},
     "output_type": "execute_result"
    }
   ],
   "source": [
    "df.head()"
   ]
  },
  {
   "cell_type": "code",
   "execution_count": 15,
   "metadata": {
    "scrolled": false
   },
   "outputs": [
    {
     "data": {
      "text/plain": [
       "<matplotlib.axes._subplots.AxesSubplot at 0x7f986dfc2d50>"
      ]
     },
     "execution_count": 15,
     "metadata": {},
     "output_type": "execute_result"
    },
    {
     "data": {
      "image/png": "[encoded data removed]",
      "text/plain": [
       "<Figure size 432x288 with 1 Axes>"
      ]
     },
     "metadata": {
      "needs_background": "light"
     },
     "output_type": "display_data"
    }
   ],
   "source": [
    "sns.heatmap(df.isnull(), cbar=False)"
   ]
  },
  {
   "cell_type": "markdown",
   "metadata": {},
   "source": [
    "## Correlation matrix (for numerical variables)"
   ]
  },
  {
   "cell_type": "code",
   "execution_count": 16,
   "metadata": {},
   "outputs": [
    {
     "data": {
      "text/plain": [
       "(13.5, -0.5)"
      ]
     },
     "execution_count": 16,
     "metadata": {},
     "output_type": "execute_result"
    },
    {
     "data": {
      "image/png": "[encoded data removed]",
      "text/plain": [
       "<Figure size 720x720 with 2 Axes>"
      ]
     },
     "metadata": {
      "needs_background": "light"
     },
     "output_type": "display_data"
    }
   ],
   "source": [
    "# Correlations\n",
    "corr = df.corr()\n",
    "\n",
    "f, ax = plt.subplots(figsize=(10, 10))\n",
    "ax = sns.heatmap(\n",
    "    corr, \n",
    "    vmin=-1, vmax=1, center=0,\n",
    "    cmap=\"coolwarm\",\n",
    "    square=True,\n",
    "    annot=True\n",
    ")\n",
    "ax.set_xticklabels(\n",
    "    ax.get_xticklabels(),\n",
    "    rotation=45,\n",
    "    horizontalalignment='right'\n",
    ");\n",
    "\n",
    "bottom, top = ax.get_ylim()\n",
    "ax.set_ylim(bottom + 0.5, top - 0.5)"
   ]
  },
  {
   "cell_type": "markdown",
   "metadata": {},
   "source": [
    "**We found that**\n",
    "- 'EFC_from FAFSA' has little correlation with dependent variable\n",
    "- 'First_generation_college_student' has little correlation with dependent variable\n",
    "- 'Pell_Eligible' has little correlation with dependent variable\n",
    "- 'career path' and 'college path' are highly negatively correlated (-0.88)\n",
    "- 'HS_Final_GPA' and 'Highest_ACT_Score' are highly postively correlated (0.66)\n",
    "- 'college_credits_accumulated' and 'cumulative_college_GPA' are highly postively correlated (0.63)"
   ]
  },
  {
   "cell_type": "markdown",
   "metadata": {},
   "source": [
    "## VIF (for numerical variables)"
   ]
  },
  {
   "cell_type": "code",
   "execution_count": 17,
   "metadata": {},
   "outputs": [],
   "source": [
    "# check vif\n",
    "from statsmodels.stats.outliers_influence import variance_inflation_factor\n",
    "  \n",
    "# the independent variables set\n",
    "X = df[['College_Credits_Accumulated__c','Cumulative_College_GPA__c','Total_Credits_Required_to_Graduate__c', \n",
    "        'Pell_Eligible__c','HS_Final_GPA__c', 'Highest_ACT_Score__c', 'First_Generation_College_Student__c', \n",
    "        'Gender__c','EFC_from_FAFSA__c', 'Career_Path__c', 'College_Path__c', 'Active_T_Mobile_Plan__c']]\n",
    "  \n",
    "# VIF dataframe\n",
    "vif_data = pd.DataFrame()\n",
    "vif_data[\"feature\"] = X.columns\n",
    "  \n",
    "# calculating VIF for each feature\n",
    "vif_data[\"VIF\"] = [variance_inflation_factor(X.values, i)\n",
    "                          for i in range(len(X.columns))]"
   ]
  },
  {
   "cell_type": "code",
   "execution_count": 18,
   "metadata": {},
   "outputs": [
    {
     "name": "stdout",
     "output_type": "stream",
     "text": [
      "                                  feature        VIF\n",
      "0          College_Credits_Accumulated__c   4.968206\n",
      "1               Cumulative_College_GPA__c   8.916556\n",
      "2   Total_Credits_Required_to_Graduate__c  24.506974\n",
      "3                        Pell_Eligible__c   1.053130\n",
      "4                         HS_Final_GPA__c  59.635494\n",
      "5                    Highest_ACT_Score__c  53.974090\n",
      "6     First_Generation_College_Student__c   1.663701\n",
      "7                               Gender__c   1.905247\n",
      "8                       EFC_from_FAFSA__c   1.222945\n",
      "9                          Career_Path__c   7.859484\n",
      "10                        College_Path__c  12.606911\n",
      "11                Active_T_Mobile_Plan__c   2.638037\n"
     ]
    }
   ],
   "source": [
    "print(vif_data)"
   ]
  },
  {
   "cell_type": "markdown",
   "metadata": {},
   "source": [
    "**A rule of thumb for interpreting the variance inflation factor (VIF):**\n",
    "- 1 = not correlated.\n",
    "- Between 1 and 5 = moderately correlated.\n",
    "- Greater than 5 = highly correlated.\n",
    "- In general, a VIF above 10 indicates high correlation and is cause for concern. "
   ]
  },
  {
   "cell_type": "markdown",
   "metadata": {},
   "source": [
    "**We found that**\n",
    "- 'HS_Final_GPA__c' and 'Highest_ACT_Score__c' are highly correlated\n",
    "- 'career path' and 'college path'are highly correlated\n",
    "- 'Total_Credits_Required_to_Graduate__c' should be removed"
   ]
  },
  {
   "cell_type": "markdown",
   "metadata": {},
   "source": [
    "## Mosaic plots (for categorical variables)"
   ]
  },
  {
   "cell_type": "code",
   "execution_count": 19,
   "metadata": {},
   "outputs": [],
   "source": [
    "# import packages\n",
    "from statsmodels.graphics.mosaicplot import mosaic\n",
    "from itertools import product"
   ]
  },
  {
   "cell_type": "markdown",
   "metadata": {},
   "source": [
    "### Mosaic plot for majors"
   ]
  },
  {
   "cell_type": "code",
   "execution_count": 20,
   "metadata": {},
   "outputs": [
    {
     "data": {
      "image/png": "[encoded data removed]",
      "text/plain": [
       "<Figure size 864x576 with 3 Axes>"
      ]
     },
     "metadata": {},
     "output_type": "display_data"
    }
   ],
   "source": [
    "sns.set(rc={'figure.figsize':(12,8)}) # adjust figure size\n",
    "mosaic(contact_with_labels, ['College_Major__c','label'],label_rotation = [90,0], gap=0.03, labelizer=lambda k: '')\n",
    "plt.show()"
   ]
  },
  {
   "cell_type": "code",
   "execution_count": 21,
   "metadata": {
    "scrolled": false
   },
   "outputs": [
    {
     "data": {
      "text/html": [
       "<div>\n",
       "<style scoped>\n",
       "    .dataframe tbody tr th:only-of-type {\n",
       "        vertical-align: middle;\n",
       "    }\n",
       "\n",
       "    .dataframe tbody tr th {\n",
       "        vertical-align: top;\n",
       "    }\n",
       "\n",
       "    .dataframe thead th {\n",
       "        text-align: right;\n",
       "    }\n",
       "</style>\n",
       "<table border=\"1\" class=\"dataframe\">\n",
       "  <thead>\n",
       "    <tr style=\"text-align: right;\">\n",
       "      <th>label</th>\n",
       "      <th>0</th>\n",
       "      <th>1</th>\n",
       "    </tr>\n",
       "    <tr>\n",
       "      <th>College_Major__c</th>\n",
       "      <th></th>\n",
       "      <th></th>\n",
       "    </tr>\n",
       "  </thead>\n",
       "  <tbody>\n",
       "    <tr>\n",
       "      <td>Accounting</td>\n",
       "      <td>3</td>\n",
       "      <td>1</td>\n",
       "    </tr>\n",
       "    <tr>\n",
       "      <td>Advertising</td>\n",
       "      <td>1</td>\n",
       "      <td>0</td>\n",
       "    </tr>\n",
       "    <tr>\n",
       "      <td>African and African American Studies</td>\n",
       "      <td>1</td>\n",
       "      <td>3</td>\n",
       "    </tr>\n",
       "    <tr>\n",
       "      <td>Animal Science</td>\n",
       "      <td>1</td>\n",
       "      <td>0</td>\n",
       "    </tr>\n",
       "    <tr>\n",
       "      <td>Anthropology</td>\n",
       "      <td>1</td>\n",
       "      <td>5</td>\n",
       "    </tr>\n",
       "    <tr>\n",
       "      <td>...</td>\n",
       "      <td>...</td>\n",
       "      <td>...</td>\n",
       "    </tr>\n",
       "    <tr>\n",
       "      <td>Speech</td>\n",
       "      <td>1</td>\n",
       "      <td>0</td>\n",
       "    </tr>\n",
       "    <tr>\n",
       "      <td>Theater</td>\n",
       "      <td>3</td>\n",
       "      <td>1</td>\n",
       "    </tr>\n",
       "    <tr>\n",
       "      <td>Trade</td>\n",
       "      <td>1</td>\n",
       "      <td>2</td>\n",
       "    </tr>\n",
       "    <tr>\n",
       "      <td>Undeclared</td>\n",
       "      <td>25</td>\n",
       "      <td>0</td>\n",
       "    </tr>\n",
       "    <tr>\n",
       "      <td>Urban Studies</td>\n",
       "      <td>0</td>\n",
       "      <td>1</td>\n",
       "    </tr>\n",
       "  </tbody>\n",
       "</table>\n",
       "<p>62 rows × 2 columns</p>\n",
       "</div>"
      ],
      "text/plain": [
       "label                                  0  1\n",
       "College_Major__c                           \n",
       "Accounting                             3  1\n",
       "Advertising                            1  0\n",
       "African and African American Studies   1  3\n",
       "Animal Science                         1  0\n",
       "Anthropology                           1  5\n",
       "...                                   .. ..\n",
       "Speech                                 1  0\n",
       "Theater                                3  1\n",
       "Trade                                  1  2\n",
       "Undeclared                            25  0\n",
       "Urban Studies                          0  1\n",
       "\n",
       "[62 rows x 2 columns]"
      ]
     },
     "execution_count": 21,
     "metadata": {},
     "output_type": "execute_result"
    }
   ],
   "source": [
    "crosstable = pd.crosstab(contact_with_labels['College_Major__c'], contact_with_labels['label'])\n",
    "# pd.set_option('display.max_rows', None)\n",
    "crosstable"
   ]
  },
  {
   "cell_type": "markdown",
   "metadata": {},
   "source": [
    "**conclusion: too many categories. The sample size of each major is small. Not include**"
   ]
  },
  {
   "cell_type": "markdown",
   "metadata": {},
   "source": [
    "### Mosaic plot for ethnicity"
   ]
  },
  {
   "cell_type": "code",
   "execution_count": 22,
   "metadata": {
    "scrolled": false
   },
   "outputs": [
    {
     "data": {
      "image/png": "[encoded data removed]",
      "text/plain": [
       "<Figure size 864x576 with 3 Axes>"
      ]
     },
     "metadata": {},
     "output_type": "display_data"
    }
   ],
   "source": [
    "# this is a mosaic plot for ethnicity\n",
    "sns.set(rc={'figure.figsize':(12, 8)}) # adjust figure size\n",
    "mosaic(contact_with_labels, \n",
    "       ['Ethnicity__c','label'], \n",
    "       label_rotation = [90,0], \n",
    "       gap=0.03, \n",
    "       labelizer=lambda k: '')\n",
    "plt.show()"
   ]
  },
  {
   "cell_type": "markdown",
   "metadata": {},
   "source": [
    "**conclusion: has little correlation, no need to encode and include**"
   ]
  },
  {
   "cell_type": "markdown",
   "metadata": {},
   "source": [
    "### Mosaic plot for genders"
   ]
  },
  {
   "cell_type": "code",
   "execution_count": 23,
   "metadata": {
    "scrolled": false
   },
   "outputs": [
    {
     "data": {
      "image/png": "[encoded data removed]",
      "text/plain": [
       "<Figure size 864x576 with 3 Axes>"
      ]
     },
     "metadata": {},
     "output_type": "display_data"
    }
   ],
   "source": [
    "# this is a mosaic plot for gender\n",
    "# x-axis: 1 --> male & 0 --> female\n",
    "# y-axis: 1 --> successful & 0 --> unsuccessful\n",
    "sns.set(rc={'figure.figsize':(12, 8)}) # adjust figure size\n",
    "mosaic(contact_with_labels, ['Gender__c','label'], gap=0.01, labelizer=lambda k: '')\n",
    "plt.show()"
   ]
  },
  {
   "cell_type": "markdown",
   "metadata": {},
   "source": [
    "**We saw some correlations: female students tend to be more likely successful in the end**"
   ]
  },
  {
   "cell_type": "markdown",
   "metadata": {},
   "source": [
    "## Feature selection for model building"
   ]
  },
  {
   "cell_type": "markdown",
   "metadata": {},
   "source": [
    "- remove 'EFC_from_FAFSA__c'(little correlation)\n",
    "- remove 'HS_Final_GPA__c' & 'College_path__c' (multicollinearity)"
   ]
  },
  {
   "cell_type": "code",
   "execution_count": null,
   "metadata": {},
   "outputs": [],
   "source": []
  },
  {
   "cell_type": "markdown",
   "metadata": {},
   "source": [
    "## First Model -- logistic regression"
   ]
  },
  {
   "cell_type": "code",
   "execution_count": 24,
   "metadata": {},
   "outputs": [],
   "source": [
    "# import packages\n",
    "from sklearn.linear_model import LogisticRegression\n",
    "from sklearn.model_selection import train_test_split"
   ]
  },
  {
   "cell_type": "code",
   "execution_count": 93,
   "metadata": {},
   "outputs": [],
   "source": [
    "# select features\n",
    "# X = df[['College_Credits_Accumulated__c','Cumulative_College_GPA__c', \n",
    "#         'HS_Final_GPA__c', 'Highest_ACT_Score__c', 'Gender__c', \n",
    "#         'Career_Path__c', 'Active_T_Mobile_Plan__c']]\n",
    "\n",
    "X = df[['Cumulative_College_GPA__c','HS_Final_GPA__c','Gender__c','Career_Path__c', 'Active_T_Mobile_Plan__c']]\n",
    "y = df.label"
   ]
  },
  {
   "cell_type": "code",
   "execution_count": 94,
   "metadata": {},
   "outputs": [],
   "source": [
    "# split data\n",
    "X_train,X_test,y_train,y_test=train_test_split(X,y,test_size=0.3,random_state=0)"
   ]
  },
  {
   "cell_type": "code",
   "execution_count": 95,
   "metadata": {},
   "outputs": [],
   "source": [
    "# Scaling the dataset\n",
    "from sklearn.preprocessing import MinMaxScaler\n",
    "\n",
    "# Fit the data on training\n",
    "scaler = MinMaxScaler()\n",
    "scaled = scaler.fit_transform(X_train)\n",
    "\n",
    "# transform data on training and testing\n",
    "X_train = scaler.fit_transform(X_train)\n",
    "X_test = scaler.fit_transform(X_test)"
   ]
  },
  {
   "cell_type": "markdown",
   "metadata": {},
   "source": [
    "### model building"
   ]
  },
  {
   "cell_type": "code",
   "execution_count": 96,
   "metadata": {},
   "outputs": [],
   "source": [
    "# instantiate the model (using the default parameters)\n",
    "logreg = LogisticRegression()"
   ]
  },
  {
   "cell_type": "markdown",
   "metadata": {},
   "source": [
    "### fit model and predict"
   ]
  },
  {
   "cell_type": "code",
   "execution_count": 97,
   "metadata": {},
   "outputs": [
    {
     "data": {
      "text/plain": [
       "LogisticRegression(C=1.0, class_weight=None, dual=False, fit_intercept=True,\n",
       "                   intercept_scaling=1, l1_ratio=None, max_iter=100,\n",
       "                   multi_class='warn', n_jobs=None, penalty='l2',\n",
       "                   random_state=None, solver='warn', tol=0.0001, verbose=0,\n",
       "                   warm_start=False)"
      ]
     },
     "execution_count": 97,
     "metadata": {},
     "output_type": "execute_result"
    }
   ],
   "source": [
    "# fit the model with data\n",
    "logreg.fit(X_train,y_train)"
   ]
  },
  {
   "cell_type": "code",
   "execution_count": 98,
   "metadata": {},
   "outputs": [],
   "source": [
    "y_pred=logreg.predict(X_test)"
   ]
  },
  {
   "cell_type": "markdown",
   "metadata": {},
   "source": [
    "### evaluate"
   ]
  },
  {
   "cell_type": "code",
   "execution_count": 99,
   "metadata": {},
   "outputs": [
    {
     "data": {
      "text/plain": [
       "array([[71, 13],\n",
       "       [20, 25]])"
      ]
     },
     "execution_count": 99,
     "metadata": {},
     "output_type": "execute_result"
    }
   ],
   "source": [
    "# evaluate\n",
    "from sklearn import metrics\n",
    "cnf_matrix = metrics.confusion_matrix(y_test, y_pred)\n",
    "cnf_matrix"
   ]
  },
  {
   "cell_type": "code",
   "execution_count": 100,
   "metadata": {},
   "outputs": [
    {
     "data": {
      "text/plain": [
       "Text(0.5, 384.16, 'Predicted label')"
      ]
     },
     "execution_count": 100,
     "metadata": {},
     "output_type": "execute_result"
    },
    {
     "data": {
      "image/png": "[encoded data removed]",
      "text/plain": [
       "<Figure size 576x432 with 2 Axes>"
      ]
     },
     "metadata": {},
     "output_type": "display_data"
    }
   ],
   "source": [
    "sns.set(rc={'figure.figsize':(8,6)}) # adjust figure size\n",
    "class_names=[0,1] # name  of classes\n",
    "fig, ax = plt.subplots()\n",
    "tick_marks = np.arange(len(class_names))\n",
    "plt.xticks(tick_marks, class_names)\n",
    "plt.yticks(tick_marks, class_names)\n",
    "# create heatmap\n",
    "annot_kws = {\"ha\": 'left',\"va\": 'top'}\n",
    "sns.heatmap(pd.DataFrame(cnf_matrix), annot=True, annot_kws=annot_kws, cmap=\"YlGnBu\" ,fmt='g')\n",
    "\n",
    "#sns.heatmap(cnf_matrix/np.sum(cnf_matrix), annot=True, fmt='.2%', cmap='Blues') # this is for percentage\n",
    "\n",
    "bottom, top = ax.get_ylim()\n",
    "ax.set_ylim(bottom, top)\n",
    "\n",
    "ax.xaxis.set_label_position(\"top\")\n",
    "plt.tight_layout()\n",
    "plt.title('Confusion matrix for Logistic regression model', fontsize=18)\n",
    "plt.ylabel('Actual label', fontsize=15)\n",
    "plt.xlabel('Predicted label', fontsize=15)"
   ]
  },
  {
   "cell_type": "code",
   "execution_count": 101,
   "metadata": {
    "scrolled": true
   },
   "outputs": [
    {
     "name": "stdout",
     "output_type": "stream",
     "text": [
      "Accuracy: 0.7441860465116279\n",
      "Precision: 0.6578947368421053\n",
      "Recall: 0.5555555555555556\n"
     ]
    }
   ],
   "source": [
    "print(\"Accuracy:\",metrics.accuracy_score(y_test, y_pred))\n",
    "print(\"Precision:\",metrics.precision_score(y_test, y_pred))\n",
    "print(\"Recall:\",metrics.recall_score(y_test, y_pred))"
   ]
  },
  {
   "cell_type": "code",
   "execution_count": 102,
   "metadata": {},
   "outputs": [
    {
     "data": {
      "image/png": "[encoded data removed]",
      "text/plain": [
       "<Figure size 576x432 with 1 Axes>"
      ]
     },
     "metadata": {},
     "output_type": "display_data"
    }
   ],
   "source": [
    "y_pred_proba = logreg.predict_proba(X_test)[::,1]\n",
    "fpr, tpr, _ = metrics.roc_curve(y_test,  y_pred_proba)\n",
    "auc = metrics.roc_auc_score(y_test, y_pred_proba)\n",
    "plt.plot(fpr,tpr,label=\"data 1, auc=\"+str(auc))\n",
    "plt.legend(loc=4)\n",
    "plt.xlabel('False positive rate', fontsize =15)\n",
    "plt.ylabel('True positive rate', fontsize =15)\n",
    "plt.title('ROC curve for Logistic regression model', fontsize =18)\n",
    "plt.show()"
   ]
  },
  {
   "cell_type": "markdown",
   "metadata": {},
   "source": [
    "### important features"
   ]
  },
  {
   "cell_type": "code",
   "execution_count": 103,
   "metadata": {},
   "outputs": [
    {
     "name": "stdout",
     "output_type": "stream",
     "text": [
      "Feature: 0, Score: 3.41350\n",
      "Feature: 1, Score: 0.47735\n",
      "Feature: 2, Score: -0.46253\n",
      "Feature: 3, Score: -1.97679\n",
      "Feature: 4, Score: -0.89505\n"
     ]
    },
    {
     "data": {
      "image/png": "[encoded data removed]",
      "text/plain": [
       "<Figure size 576x432 with 1 Axes>"
      ]
     },
     "metadata": {},
     "output_type": "display_data"
    }
   ],
   "source": [
    "# plotting feature importances\n",
    "importance = logreg.coef_[0]\n",
    "\n",
    "# summarize feature importance\n",
    "for i,v in enumerate(importance):\n",
    "    print('Feature: %0d, Score: %.5f' % (i,v))\n",
    "# plot feature importance\n",
    "plt.bar([x for x in range(len(importance))], importance)\n",
    "\n",
    "plt.xlabel('Feature', fontsize =15)\n",
    "plt.ylabel('Score', fontsize =15)\n",
    "plt.title('Important features in Logistic regression model', fontsize =18)\n",
    "plt.show()"
   ]
  },
  {
   "cell_type": "code",
   "execution_count": 104,
   "metadata": {
    "scrolled": true
   },
   "outputs": [
    {
     "data": {
      "text/html": [
       "<div>\n",
       "<style scoped>\n",
       "    .dataframe tbody tr th:only-of-type {\n",
       "        vertical-align: middle;\n",
       "    }\n",
       "\n",
       "    .dataframe tbody tr th {\n",
       "        vertical-align: top;\n",
       "    }\n",
       "\n",
       "    .dataframe thead th {\n",
       "        text-align: right;\n",
       "    }\n",
       "</style>\n",
       "<table border=\"1\" class=\"dataframe\">\n",
       "  <thead>\n",
       "    <tr style=\"text-align: right;\">\n",
       "      <th></th>\n",
       "      <th>Cumulative_College_GPA__c</th>\n",
       "      <th>Career_Path__c</th>\n",
       "      <th>Active_T_Mobile_Plan__c</th>\n",
       "      <th>HS_Final_GPA__c</th>\n",
       "      <th>Gender__c</th>\n",
       "    </tr>\n",
       "  </thead>\n",
       "  <tbody>\n",
       "    <tr>\n",
       "      <td>0</td>\n",
       "      <td>2.29</td>\n",
       "      <td>0</td>\n",
       "      <td>1.0</td>\n",
       "      <td>3.33</td>\n",
       "      <td>1.0</td>\n",
       "    </tr>\n",
       "    <tr>\n",
       "      <td>1</td>\n",
       "      <td>1.10</td>\n",
       "      <td>1</td>\n",
       "      <td>0.0</td>\n",
       "      <td>1.98</td>\n",
       "      <td>0.0</td>\n",
       "    </tr>\n",
       "    <tr>\n",
       "      <td>2</td>\n",
       "      <td>1.92</td>\n",
       "      <td>1</td>\n",
       "      <td>0.0</td>\n",
       "      <td>2.50</td>\n",
       "      <td>1.0</td>\n",
       "    </tr>\n",
       "    <tr>\n",
       "      <td>3</td>\n",
       "      <td>3.51</td>\n",
       "      <td>0</td>\n",
       "      <td>1.0</td>\n",
       "      <td>2.87</td>\n",
       "      <td>0.0</td>\n",
       "    </tr>\n",
       "    <tr>\n",
       "      <td>4</td>\n",
       "      <td>2.51</td>\n",
       "      <td>0</td>\n",
       "      <td>0.0</td>\n",
       "      <td>2.46</td>\n",
       "      <td>1.0</td>\n",
       "    </tr>\n",
       "  </tbody>\n",
       "</table>\n",
       "</div>"
      ],
      "text/plain": [
       "   Cumulative_College_GPA__c  Career_Path__c  Active_T_Mobile_Plan__c  \\\n",
       "0                       2.29               0                      1.0   \n",
       "1                       1.10               1                      0.0   \n",
       "2                       1.92               1                      0.0   \n",
       "3                       3.51               0                      1.0   \n",
       "4                       2.51               0                      0.0   \n",
       "\n",
       "   HS_Final_GPA__c  Gender__c  \n",
       "0             3.33        1.0  \n",
       "1             1.98        0.0  \n",
       "2             2.50        1.0  \n",
       "3             2.87        0.0  \n",
       "4             2.46        1.0  "
      ]
     },
     "execution_count": 104,
     "metadata": {},
     "output_type": "execute_result"
    }
   ],
   "source": [
    "# Here are the most important features\n",
    "# X.iloc[:, [0,1,5,6,4,3,2]].head(5)\n",
    "X.iloc[:, [0,3,4,1,2]].head(5)"
   ]
  },
  {
   "cell_type": "code",
   "execution_count": null,
   "metadata": {},
   "outputs": [],
   "source": []
  },
  {
   "cell_type": "markdown",
   "metadata": {},
   "source": [
    "## Second Model  -- XGBoost"
   ]
  },
  {
   "cell_type": "code",
   "execution_count": 37,
   "metadata": {},
   "outputs": [],
   "source": [
    "# import package\n",
    "from xgboost import XGBClassifier"
   ]
  },
  {
   "cell_type": "markdown",
   "metadata": {},
   "source": [
    "### model building"
   ]
  },
  {
   "cell_type": "code",
   "execution_count": 105,
   "metadata": {},
   "outputs": [],
   "source": [
    "xgb = XGBClassifier()"
   ]
  },
  {
   "cell_type": "markdown",
   "metadata": {},
   "source": [
    "### fit model ad predict"
   ]
  },
  {
   "cell_type": "code",
   "execution_count": 106,
   "metadata": {},
   "outputs": [
    {
     "name": "stdout",
     "output_type": "stream",
     "text": [
      "[10:56:42] WARNING: /Users/travis/build/dmlc/xgboost/src/learner.cc:1095: Starting in XGBoost 1.3.0, the default evaluation metric used with the objective 'binary:logistic' was changed from 'error' to 'logloss'. Explicitly set eval_metric if you'd like to restore the old behavior.\n"
     ]
    }
   ],
   "source": [
    "# fit the model\n",
    "xgb = XGBClassifier()\n",
    "xgb.fit(X_train, y_train)\n",
    "# make predictions for test data\n",
    "y_pred = xgb.predict(X_test)"
   ]
  },
  {
   "cell_type": "markdown",
   "metadata": {},
   "source": [
    "### evaluate"
   ]
  },
  {
   "cell_type": "code",
   "execution_count": 107,
   "metadata": {},
   "outputs": [
    {
     "data": {
      "text/plain": [
       "array([[70, 14],\n",
       "       [16, 29]])"
      ]
     },
     "execution_count": 107,
     "metadata": {},
     "output_type": "execute_result"
    }
   ],
   "source": [
    "# evaluate\n",
    "cnf_matrix = metrics.confusion_matrix(y_test, y_pred)\n",
    "cnf_matrix"
   ]
  },
  {
   "cell_type": "code",
   "execution_count": 108,
   "metadata": {},
   "outputs": [
    {
     "data": {
      "text/plain": [
       "Text(0.5, 384.16, 'Predicted label')"
      ]
     },
     "execution_count": 108,
     "metadata": {},
     "output_type": "execute_result"
    },
    {
     "data": {
      "image/png": "[encoded data removed]",
      "text/plain": [
       "<Figure size 576x432 with 2 Axes>"
      ]
     },
     "metadata": {},
     "output_type": "display_data"
    }
   ],
   "source": [
    "sns.set(rc={'figure.figsize':(8,6)}) # adjust figure size\n",
    "class_names=[0,1] # name  of classes\n",
    "fig, ax = plt.subplots()\n",
    "tick_marks = np.arange(len(class_names))\n",
    "plt.xticks(tick_marks, class_names)\n",
    "plt.yticks(tick_marks, class_names)\n",
    "# create heatmap\n",
    "annot_kws = {\"ha\": 'left',\"va\": 'top'}\n",
    "sns.heatmap(pd.DataFrame(cnf_matrix), annot=True, annot_kws=annot_kws, cmap=\"YlGnBu\" ,fmt='g')\n",
    "\n",
    "#sns.heatmap(cnf_matrix/np.sum(cnf_matrix), annot=True, fmt='.2%', cmap='Blues') # this is for percentage\n",
    "\n",
    "bottom, top = ax.get_ylim()\n",
    "ax.set_ylim(bottom, top)\n",
    "\n",
    "ax.xaxis.set_label_position(\"top\")\n",
    "plt.tight_layout()\n",
    "plt.title('Confusion matrix for Decision tree model', fontsize=18)\n",
    "plt.ylabel('Actual label', fontsize=15)\n",
    "plt.xlabel('Predicted label', fontsize=15)"
   ]
  },
  {
   "cell_type": "code",
   "execution_count": 109,
   "metadata": {},
   "outputs": [
    {
     "name": "stdout",
     "output_type": "stream",
     "text": [
      "Accuracy: 0.7674418604651163\n",
      "Precision: 0.6744186046511628\n",
      "Recall: 0.6444444444444445\n"
     ]
    }
   ],
   "source": [
    "print(\"Accuracy:\",metrics.accuracy_score(y_test, y_pred))\n",
    "print(\"Precision:\",metrics.precision_score(y_test, y_pred))\n",
    "print(\"Recall:\",metrics.recall_score(y_test, y_pred))"
   ]
  },
  {
   "cell_type": "code",
   "execution_count": 110,
   "metadata": {},
   "outputs": [
    {
     "data": {
      "image/png": "[encoded data removed]",
      "text/plain": [
       "<Figure size 576x432 with 1 Axes>"
      ]
     },
     "metadata": {},
     "output_type": "display_data"
    }
   ],
   "source": [
    "y_pred_proba = xgb.predict_proba(X_test)[::,1]\n",
    "fpr, tpr, _ = metrics.roc_curve(y_test,  y_pred_proba)\n",
    "auc = metrics.roc_auc_score(y_test, y_pred_proba)\n",
    "plt.plot(fpr,tpr,label=\"data 1, auc=\"+str(auc))\n",
    "plt.legend(loc=4)\n",
    "\n",
    "plt.xlabel('False positive rate', fontsize =15)\n",
    "plt.ylabel('True positive rate', fontsize =15)\n",
    "plt.title('ROC curve for Decision tree model', fontsize =18)\n",
    "plt.show()"
   ]
  },
  {
   "cell_type": "markdown",
   "metadata": {},
   "source": [
    "### important features"
   ]
  },
  {
   "cell_type": "code",
   "execution_count": 113,
   "metadata": {},
   "outputs": [
    {
     "name": "stdout",
     "output_type": "stream",
     "text": [
      "Feature: 0, Score: 0.32797\n",
      "Feature: 1, Score: 0.10758\n",
      "Feature: 2, Score: 0.09451\n",
      "Feature: 3, Score: 0.28625\n",
      "Feature: 4, Score: 0.18370\n"
     ]
    },
    {
     "data": {
      "image/png": "[encoded data removed]",
      "text/plain": [
       "<Figure size 576x432 with 1 Axes>"
      ]
     },
     "metadata": {},
     "output_type": "display_data"
    }
   ],
   "source": [
    "# plotting feature importances\n",
    "importance = xgb.feature_importances_\n",
    "# summarize feature importance\n",
    "for i,v in enumerate(importance):\n",
    "    print('Feature: %0d, Score: %.5f' % (i,v))\n",
    "# plot feature importance\n",
    "plt.bar([x for x in range(len(importance))], importance)\n",
    "\n",
    "plt.xlabel('Feature', fontsize =15)\n",
    "plt.ylabel('Score', fontsize =15)\n",
    "plt.title('Important features in Decision tree model', fontsize =18)\n",
    "plt.show()\n",
    "\n",
    "plt.show()"
   ]
  },
  {
   "cell_type": "code",
   "execution_count": 112,
   "metadata": {},
   "outputs": [
    {
     "data": {
      "text/html": [
       "<div>\n",
       "<style scoped>\n",
       "    .dataframe tbody tr th:only-of-type {\n",
       "        vertical-align: middle;\n",
       "    }\n",
       "\n",
       "    .dataframe tbody tr th {\n",
       "        vertical-align: top;\n",
       "    }\n",
       "\n",
       "    .dataframe thead th {\n",
       "        text-align: right;\n",
       "    }\n",
       "</style>\n",
       "<table border=\"1\" class=\"dataframe\">\n",
       "  <thead>\n",
       "    <tr style=\"text-align: right;\">\n",
       "      <th></th>\n",
       "      <th>Cumulative_College_GPA__c</th>\n",
       "      <th>Career_Path__c</th>\n",
       "      <th>Active_T_Mobile_Plan__c</th>\n",
       "      <th>HS_Final_GPA__c</th>\n",
       "      <th>Gender__c</th>\n",
       "    </tr>\n",
       "  </thead>\n",
       "  <tbody>\n",
       "    <tr>\n",
       "      <td>0</td>\n",
       "      <td>2.29</td>\n",
       "      <td>0</td>\n",
       "      <td>1.0</td>\n",
       "      <td>3.33</td>\n",
       "      <td>1.0</td>\n",
       "    </tr>\n",
       "    <tr>\n",
       "      <td>1</td>\n",
       "      <td>1.10</td>\n",
       "      <td>1</td>\n",
       "      <td>0.0</td>\n",
       "      <td>1.98</td>\n",
       "      <td>0.0</td>\n",
       "    </tr>\n",
       "    <tr>\n",
       "      <td>2</td>\n",
       "      <td>1.92</td>\n",
       "      <td>1</td>\n",
       "      <td>0.0</td>\n",
       "      <td>2.50</td>\n",
       "      <td>1.0</td>\n",
       "    </tr>\n",
       "    <tr>\n",
       "      <td>3</td>\n",
       "      <td>3.51</td>\n",
       "      <td>0</td>\n",
       "      <td>1.0</td>\n",
       "      <td>2.87</td>\n",
       "      <td>0.0</td>\n",
       "    </tr>\n",
       "    <tr>\n",
       "      <td>4</td>\n",
       "      <td>2.51</td>\n",
       "      <td>0</td>\n",
       "      <td>0.0</td>\n",
       "      <td>2.46</td>\n",
       "      <td>1.0</td>\n",
       "    </tr>\n",
       "  </tbody>\n",
       "</table>\n",
       "</div>"
      ],
      "text/plain": [
       "   Cumulative_College_GPA__c  Career_Path__c  Active_T_Mobile_Plan__c  \\\n",
       "0                       2.29               0                      1.0   \n",
       "1                       1.10               1                      0.0   \n",
       "2                       1.92               1                      0.0   \n",
       "3                       3.51               0                      1.0   \n",
       "4                       2.51               0                      0.0   \n",
       "\n",
       "   HS_Final_GPA__c  Gender__c  \n",
       "0             3.33        1.0  \n",
       "1             1.98        0.0  \n",
       "2             2.50        1.0  \n",
       "3             2.87        0.0  \n",
       "4             2.46        1.0  "
      ]
     },
     "execution_count": 112,
     "metadata": {},
     "output_type": "execute_result"
    }
   ],
   "source": [
    "# Here are the most important features\n",
    "# X.iloc[:, [0,1,5,3,2,6,4]].head(5)\n",
    "X.iloc[:, [0,3,4,1,2]].head(5)"
   ]
  },
  {
   "cell_type": "code",
   "execution_count": null,
   "metadata": {},
   "outputs": [],
   "source": []
  },
  {
   "cell_type": "markdown",
   "metadata": {},
   "source": [
    "## Contact Note table"
   ]
  },
  {
   "cell_type": "code",
   "execution_count": 3,
   "metadata": {},
   "outputs": [],
   "source": [
    "# read csv file -- contact note\n",
    "contactNote = pd.read_csv('DP- Contact_Note_c 5.10.21.csv')"
   ]
  },
  {
   "cell_type": "code",
   "execution_count": 4,
   "metadata": {},
   "outputs": [
    {
     "data": {
      "text/html": [
       "<div>\n",
       "<style scoped>\n",
       "    .dataframe tbody tr th:only-of-type {\n",
       "        vertical-align: middle;\n",
       "    }\n",
       "\n",
       "    .dataframe tbody tr th {\n",
       "        vertical-align: top;\n",
       "    }\n",
       "\n",
       "    .dataframe thead th {\n",
       "        text-align: right;\n",
       "    }\n",
       "</style>\n",
       "<table border=\"1\" class=\"dataframe\">\n",
       "  <thead>\n",
       "    <tr style=\"text-align: right;\">\n",
       "      <th></th>\n",
       "      <th>Contact__c</th>\n",
       "      <th>Comm_Status_c__c</th>\n",
       "      <th>Date_of_Contact__c</th>\n",
       "      <th>Discussion_Category__c</th>\n",
       "      <th>Initiated_by_alum__c</th>\n",
       "      <th>How</th>\n",
       "    </tr>\n",
       "  </thead>\n",
       "  <tbody>\n",
       "    <tr>\n",
       "      <td>0</td>\n",
       "      <td>00346000002iXe4AAE</td>\n",
       "      <td>Successful communication</td>\n",
       "      <td>9/7/18 0:00</td>\n",
       "      <td>NaN</td>\n",
       "      <td>0</td>\n",
       "      <td>Social Networking</td>\n",
       "    </tr>\n",
       "    <tr>\n",
       "      <td>1</td>\n",
       "      <td>00346000002iXdxAAE</td>\n",
       "      <td>Successful communication</td>\n",
       "      <td>10/10/18 0:00</td>\n",
       "      <td>Academic</td>\n",
       "      <td>0</td>\n",
       "      <td>In Person</td>\n",
       "    </tr>\n",
       "    <tr>\n",
       "      <td>2</td>\n",
       "      <td>0034600000iXkmFAAS</td>\n",
       "      <td>Successful communication</td>\n",
       "      <td>8/30/18 0:00</td>\n",
       "      <td>Academic</td>\n",
       "      <td>0</td>\n",
       "      <td>Call</td>\n",
       "    </tr>\n",
       "    <tr>\n",
       "      <td>3</td>\n",
       "      <td>00346000002iXduAAE</td>\n",
       "      <td>Successful communication</td>\n",
       "      <td>8/31/18 0:00</td>\n",
       "      <td>Social &amp; Academic Integration</td>\n",
       "      <td>0</td>\n",
       "      <td>Call</td>\n",
       "    </tr>\n",
       "    <tr>\n",
       "      <td>4</td>\n",
       "      <td>0034600001EXcSPAA1</td>\n",
       "      <td>Successful communication</td>\n",
       "      <td>8/28/18 0:00</td>\n",
       "      <td>Academic</td>\n",
       "      <td>0</td>\n",
       "      <td>Text</td>\n",
       "    </tr>\n",
       "    <tr>\n",
       "      <td>5</td>\n",
       "      <td>00346000002iWOSAA2</td>\n",
       "      <td>Successful communication</td>\n",
       "      <td>8/30/18 0:00</td>\n",
       "      <td>Financial</td>\n",
       "      <td>0</td>\n",
       "      <td>Call</td>\n",
       "    </tr>\n",
       "    <tr>\n",
       "      <td>6</td>\n",
       "      <td>0034600000iXkm9AAC</td>\n",
       "      <td>Successful communication</td>\n",
       "      <td>8/30/18 0:00</td>\n",
       "      <td>Academic</td>\n",
       "      <td>0</td>\n",
       "      <td>Call</td>\n",
       "    </tr>\n",
       "    <tr>\n",
       "      <td>7</td>\n",
       "      <td>0034600001EXcTzAAL</td>\n",
       "      <td>Successful communication</td>\n",
       "      <td>8/28/18 0:00</td>\n",
       "      <td>Academic</td>\n",
       "      <td>0</td>\n",
       "      <td>Call</td>\n",
       "    </tr>\n",
       "    <tr>\n",
       "      <td>8</td>\n",
       "      <td>0034600000iXkm7AAC</td>\n",
       "      <td>Successful communication</td>\n",
       "      <td>8/31/18 0:00</td>\n",
       "      <td>Social &amp; Academic Integration</td>\n",
       "      <td>0</td>\n",
       "      <td>Call</td>\n",
       "    </tr>\n",
       "    <tr>\n",
       "      <td>9</td>\n",
       "      <td>00346000002iXefAAE</td>\n",
       "      <td>Successful communication</td>\n",
       "      <td>10/10/18 0:00</td>\n",
       "      <td>Academic</td>\n",
       "      <td>0</td>\n",
       "      <td>In Person</td>\n",
       "    </tr>\n",
       "  </tbody>\n",
       "</table>\n",
       "</div>"
      ],
      "text/plain": [
       "           Contact__c          Comm_Status_c__c Date_of_Contact__c  \\\n",
       "0  00346000002iXe4AAE  Successful communication        9/7/18 0:00   \n",
       "1  00346000002iXdxAAE  Successful communication      10/10/18 0:00   \n",
       "2  0034600000iXkmFAAS  Successful communication       8/30/18 0:00   \n",
       "3  00346000002iXduAAE  Successful communication       8/31/18 0:00   \n",
       "4  0034600001EXcSPAA1  Successful communication       8/28/18 0:00   \n",
       "5  00346000002iWOSAA2  Successful communication       8/30/18 0:00   \n",
       "6  0034600000iXkm9AAC  Successful communication       8/30/18 0:00   \n",
       "7  0034600001EXcTzAAL  Successful communication       8/28/18 0:00   \n",
       "8  0034600000iXkm7AAC  Successful communication       8/31/18 0:00   \n",
       "9  00346000002iXefAAE  Successful communication      10/10/18 0:00   \n",
       "\n",
       "          Discussion_Category__c  Initiated_by_alum__c                How  \n",
       "0                            NaN                     0  Social Networking  \n",
       "1                       Academic                     0          In Person  \n",
       "2                       Academic                     0               Call  \n",
       "3  Social & Academic Integration                     0               Call  \n",
       "4                       Academic                     0               Text  \n",
       "5                      Financial                     0               Call  \n",
       "6                       Academic                     0               Call  \n",
       "7                       Academic                     0               Call  \n",
       "8  Social & Academic Integration                     0               Call  \n",
       "9                       Academic                     0          In Person  "
      ]
     },
     "execution_count": 4,
     "metadata": {},
     "output_type": "execute_result"
    }
   ],
   "source": [
    "contactNote.head(10)"
   ]
  },
  {
   "cell_type": "code",
   "execution_count": 5,
   "metadata": {},
   "outputs": [
    {
     "data": {
      "text/plain": [
       "(25947, 6)"
      ]
     },
     "execution_count": 5,
     "metadata": {},
     "output_type": "execute_result"
    }
   ],
   "source": [
    "contactNote.shape"
   ]
  },
  {
   "cell_type": "code",
   "execution_count": 6,
   "metadata": {},
   "outputs": [
    {
     "data": {
      "text/plain": [
       "1192"
      ]
     },
     "execution_count": 6,
     "metadata": {},
     "output_type": "execute_result"
    }
   ],
   "source": [
    "contactNote['Contact__c'].nunique()"
   ]
  },
  {
   "cell_type": "code",
   "execution_count": 7,
   "metadata": {},
   "outputs": [],
   "source": [
    "# change to datetime format for further ranking\n",
    "contactNote['Date_of_Contact__c'] =  pd.to_datetime(contactNote['Date_of_Contact__c'],format=\"%m/%d/%y %H:%M\", infer_datetime_format=True)"
   ]
  },
  {
   "cell_type": "code",
   "execution_count": 8,
   "metadata": {},
   "outputs": [
    {
     "data": {
      "text/plain": [
       "<matplotlib.axes._subplots.AxesSubplot at 0x7fcd14ba1690>"
      ]
     },
     "execution_count": 8,
     "metadata": {},
     "output_type": "execute_result"
    },
    {
     "data": {
      "image/png": "[encoded data removed]",
      "text/plain": [
       "<Figure size 864x648 with 1 Axes>"
      ]
     },
     "metadata": {},
     "output_type": "display_data"
    }
   ],
   "source": [
    "# check nulls\n",
    "sns.set(rc={'figure.figsize':(12,9)}) # adjust figure size\n",
    "sns.heatmap(contactNote.isnull(), cbar=False)"
   ]
  },
  {
   "cell_type": "code",
   "execution_count": 9,
   "metadata": {},
   "outputs": [
    {
     "data": {
      "text/html": [
       "<div>\n",
       "<style scoped>\n",
       "    .dataframe tbody tr th:only-of-type {\n",
       "        vertical-align: middle;\n",
       "    }\n",
       "\n",
       "    .dataframe tbody tr th {\n",
       "        vertical-align: top;\n",
       "    }\n",
       "\n",
       "    .dataframe thead th {\n",
       "        text-align: right;\n",
       "    }\n",
       "</style>\n",
       "<table border=\"1\" class=\"dataframe\">\n",
       "  <thead>\n",
       "    <tr style=\"text-align: right;\">\n",
       "      <th></th>\n",
       "      <th>Total Missing</th>\n",
       "      <th>Percent</th>\n",
       "    </tr>\n",
       "  </thead>\n",
       "  <tbody>\n",
       "    <tr>\n",
       "      <td>Discussion_Category__c</td>\n",
       "      <td>12524</td>\n",
       "      <td>0.482676</td>\n",
       "    </tr>\n",
       "    <tr>\n",
       "      <td>How</td>\n",
       "      <td>1020</td>\n",
       "      <td>0.039311</td>\n",
       "    </tr>\n",
       "    <tr>\n",
       "      <td>Comm_Status_c__c</td>\n",
       "      <td>492</td>\n",
       "      <td>0.018962</td>\n",
       "    </tr>\n",
       "    <tr>\n",
       "      <td>Initiated_by_alum__c</td>\n",
       "      <td>0</td>\n",
       "      <td>0.000000</td>\n",
       "    </tr>\n",
       "    <tr>\n",
       "      <td>Date_of_Contact__c</td>\n",
       "      <td>0</td>\n",
       "      <td>0.000000</td>\n",
       "    </tr>\n",
       "    <tr>\n",
       "      <td>Contact__c</td>\n",
       "      <td>0</td>\n",
       "      <td>0.000000</td>\n",
       "    </tr>\n",
       "  </tbody>\n",
       "</table>\n",
       "</div>"
      ],
      "text/plain": [
       "                        Total Missing   Percent\n",
       "Discussion_Category__c          12524  0.482676\n",
       "How                              1020  0.039311\n",
       "Comm_Status_c__c                  492  0.018962\n",
       "Initiated_by_alum__c                0  0.000000\n",
       "Date_of_Contact__c                  0  0.000000\n",
       "Contact__c                          0  0.000000"
      ]
     },
     "execution_count": 9,
     "metadata": {},
     "output_type": "execute_result"
    }
   ],
   "source": [
    "total = contactNote.isnull().sum().sort_values(ascending=False)\n",
    "percent = (contactNote.isnull().sum()/contactNote.isnull().count()).sort_values(ascending=False)\n",
    "missing_data = pd.concat([total, percent], axis=1, keys=['Total Missing', 'Percent'])\n",
    "missing_data"
   ]
  },
  {
   "cell_type": "code",
   "execution_count": 10,
   "metadata": {},
   "outputs": [
    {
     "data": {
      "text/plain": [
       "1192"
      ]
     },
     "execution_count": 10,
     "metadata": {},
     "output_type": "execute_result"
    }
   ],
   "source": [
    "contactNote['Contact__c'].nunique()"
   ]
  },
  {
   "cell_type": "code",
   "execution_count": 11,
   "metadata": {},
   "outputs": [
    {
     "data": {
      "text/plain": [
       "Successful communication       17329\n",
       "Informational Outreach only     6603\n",
       "Unsuccessful communication      1523\n",
       "Name: Comm_Status_c__c, dtype: int64"
      ]
     },
     "execution_count": 11,
     "metadata": {},
     "output_type": "execute_result"
    }
   ],
   "source": [
    "# check unique values for each column\n",
    "contactNote['Comm_Status_c__c'].value_counts(sort=True)"
   ]
  },
  {
   "cell_type": "code",
   "execution_count": 12,
   "metadata": {},
   "outputs": [],
   "source": [
    "# contactNote['Discussion_Category__c'].unique()\n",
    "# contactNote['Initiated_by_alum__c'].unique()\n",
    "# contactNote['How'].unique()\n",
    "# note: for the column 'How ', there is a space in the end. \n",
    "# If you returned an error, check the column name"
   ]
  },
  {
   "cell_type": "code",
   "execution_count": null,
   "metadata": {},
   "outputs": [],
   "source": []
  },
  {
   "cell_type": "markdown",
   "metadata": {},
   "source": [
    "### First try"
   ]
  },
  {
   "cell_type": "markdown",
   "metadata": {},
   "source": [
    "- remove Unsuccessful communication & nulls\n",
    "- keep both contacts initiated by either fellow or coach"
   ]
  },
  {
   "cell_type": "code",
   "execution_count": 13,
   "metadata": {},
   "outputs": [],
   "source": [
    "df_first = contactNote[(contactNote['Comm_Status_c__c'] == 'Successful communication')  | (contactNote['Comm_Status_c__c'] == 'Informational Outreach only')]"
   ]
  },
  {
   "cell_type": "code",
   "execution_count": 14,
   "metadata": {},
   "outputs": [
    {
     "data": {
      "text/plain": [
       "(23932, 6)"
      ]
     },
     "execution_count": 14,
     "metadata": {},
     "output_type": "execute_result"
    }
   ],
   "source": [
    "df_first.shape"
   ]
  },
  {
   "cell_type": "code",
   "execution_count": 15,
   "metadata": {},
   "outputs": [],
   "source": [
    "df_first_days = df_first.groupby('Contact__c')['Date_of_Contact__c'].apply(lambda x: x.sort_values()).diff().reset_index() "
   ]
  },
  {
   "cell_type": "code",
   "execution_count": 16,
   "metadata": {},
   "outputs": [
    {
     "data": {
      "text/html": [
       "<div>\n",
       "<style scoped>\n",
       "    .dataframe tbody tr th:only-of-type {\n",
       "        vertical-align: middle;\n",
       "    }\n",
       "\n",
       "    .dataframe tbody tr th {\n",
       "        vertical-align: top;\n",
       "    }\n",
       "\n",
       "    .dataframe thead th {\n",
       "        text-align: right;\n",
       "    }\n",
       "</style>\n",
       "<table border=\"1\" class=\"dataframe\">\n",
       "  <thead>\n",
       "    <tr style=\"text-align: right;\">\n",
       "      <th></th>\n",
       "      <th>Contact__c</th>\n",
       "      <th>Date_of_Contact__c</th>\n",
       "    </tr>\n",
       "  </thead>\n",
       "  <tbody>\n",
       "    <tr>\n",
       "      <td>0</td>\n",
       "      <td>00346000002iW9lAAE</td>\n",
       "      <td>NaT</td>\n",
       "    </tr>\n",
       "    <tr>\n",
       "      <td>1</td>\n",
       "      <td>00346000002iW9lAAE</td>\n",
       "      <td>18 days</td>\n",
       "    </tr>\n",
       "    <tr>\n",
       "      <td>2</td>\n",
       "      <td>00346000002iW9lAAE</td>\n",
       "      <td>339 days</td>\n",
       "    </tr>\n",
       "    <tr>\n",
       "      <td>3</td>\n",
       "      <td>00346000002iW9lAAE</td>\n",
       "      <td>46 days</td>\n",
       "    </tr>\n",
       "    <tr>\n",
       "      <td>4</td>\n",
       "      <td>00346000002iW9lAAE</td>\n",
       "      <td>2 days</td>\n",
       "    </tr>\n",
       "    <tr>\n",
       "      <td>5</td>\n",
       "      <td>00346000002iW9lAAE</td>\n",
       "      <td>58 days</td>\n",
       "    </tr>\n",
       "    <tr>\n",
       "      <td>6</td>\n",
       "      <td>00346000002iW9lAAE</td>\n",
       "      <td>6 days</td>\n",
       "    </tr>\n",
       "    <tr>\n",
       "      <td>7</td>\n",
       "      <td>00346000002iW9lAAE</td>\n",
       "      <td>27 days</td>\n",
       "    </tr>\n",
       "    <tr>\n",
       "      <td>8</td>\n",
       "      <td>00346000002iW9lAAE</td>\n",
       "      <td>13 days</td>\n",
       "    </tr>\n",
       "    <tr>\n",
       "      <td>9</td>\n",
       "      <td>00346000002iW9lAAE</td>\n",
       "      <td>155 days</td>\n",
       "    </tr>\n",
       "    <tr>\n",
       "      <td>10</td>\n",
       "      <td>00346000002iW9lAAE</td>\n",
       "      <td>57 days</td>\n",
       "    </tr>\n",
       "    <tr>\n",
       "      <td>11</td>\n",
       "      <td>00346000002iW9lAAE</td>\n",
       "      <td>69 days</td>\n",
       "    </tr>\n",
       "    <tr>\n",
       "      <td>12</td>\n",
       "      <td>00346000002iW9lAAE</td>\n",
       "      <td>65 days</td>\n",
       "    </tr>\n",
       "    <tr>\n",
       "      <td>13</td>\n",
       "      <td>00346000002iW9lAAE</td>\n",
       "      <td>14 days</td>\n",
       "    </tr>\n",
       "    <tr>\n",
       "      <td>14</td>\n",
       "      <td>00346000002iW9lAAE</td>\n",
       "      <td>26 days</td>\n",
       "    </tr>\n",
       "    <tr>\n",
       "      <td>15</td>\n",
       "      <td>00346000002iW9lAAE</td>\n",
       "      <td>63 days</td>\n",
       "    </tr>\n",
       "    <tr>\n",
       "      <td>16</td>\n",
       "      <td>00346000002iW9lAAE</td>\n",
       "      <td>8 days</td>\n",
       "    </tr>\n",
       "    <tr>\n",
       "      <td>17</td>\n",
       "      <td>00346000002iW9lAAE</td>\n",
       "      <td>19 days</td>\n",
       "    </tr>\n",
       "    <tr>\n",
       "      <td>18</td>\n",
       "      <td>00346000002iW9lAAE</td>\n",
       "      <td>3 days</td>\n",
       "    </tr>\n",
       "    <tr>\n",
       "      <td>19</td>\n",
       "      <td>00346000002iW9lAAE</td>\n",
       "      <td>98 days</td>\n",
       "    </tr>\n",
       "    <tr>\n",
       "      <td>20</td>\n",
       "      <td>00346000002iW9lAAE</td>\n",
       "      <td>74 days</td>\n",
       "    </tr>\n",
       "    <tr>\n",
       "      <td>21</td>\n",
       "      <td>00346000002iW9lAAE</td>\n",
       "      <td>273 days</td>\n",
       "    </tr>\n",
       "    <tr>\n",
       "      <td>22</td>\n",
       "      <td>00346000002iW9lAAE</td>\n",
       "      <td>0 days</td>\n",
       "    </tr>\n",
       "    <tr>\n",
       "      <td>23</td>\n",
       "      <td>00346000002iW9lAAE</td>\n",
       "      <td>64 days</td>\n",
       "    </tr>\n",
       "    <tr>\n",
       "      <td>24</td>\n",
       "      <td>00346000002iW9lAAE</td>\n",
       "      <td>7 days</td>\n",
       "    </tr>\n",
       "    <tr>\n",
       "      <td>25</td>\n",
       "      <td>00346000002iW9lAAE</td>\n",
       "      <td>23 days</td>\n",
       "    </tr>\n",
       "    <tr>\n",
       "      <td>26</td>\n",
       "      <td>00346000002iW9lAAE</td>\n",
       "      <td>129 days</td>\n",
       "    </tr>\n",
       "    <tr>\n",
       "      <td>27</td>\n",
       "      <td>00346000002iW9lAAE</td>\n",
       "      <td>39 days</td>\n",
       "    </tr>\n",
       "    <tr>\n",
       "      <td>28</td>\n",
       "      <td>00346000002iW9lAAE</td>\n",
       "      <td>0 days</td>\n",
       "    </tr>\n",
       "    <tr>\n",
       "      <td>29</td>\n",
       "      <td>00346000002iW9lAAE</td>\n",
       "      <td>118 days</td>\n",
       "    </tr>\n",
       "    <tr>\n",
       "      <td>30</td>\n",
       "      <td>00346000002iW9lAAE</td>\n",
       "      <td>14 days</td>\n",
       "    </tr>\n",
       "    <tr>\n",
       "      <td>31</td>\n",
       "      <td>00346000002iW9lAAE</td>\n",
       "      <td>76 days</td>\n",
       "    </tr>\n",
       "    <tr>\n",
       "      <td>32</td>\n",
       "      <td>00346000002iW9lAAE</td>\n",
       "      <td>57 days</td>\n",
       "    </tr>\n",
       "    <tr>\n",
       "      <td>33</td>\n",
       "      <td>00346000002iW9lAAE</td>\n",
       "      <td>21 days</td>\n",
       "    </tr>\n",
       "    <tr>\n",
       "      <td>34</td>\n",
       "      <td>00346000002iW9lAAE</td>\n",
       "      <td>7 days</td>\n",
       "    </tr>\n",
       "    <tr>\n",
       "      <td>35</td>\n",
       "      <td>00346000002iW9lAAE</td>\n",
       "      <td>26 days</td>\n",
       "    </tr>\n",
       "    <tr>\n",
       "      <td>36</td>\n",
       "      <td>00346000002iW9lAAE</td>\n",
       "      <td>1 days</td>\n",
       "    </tr>\n",
       "    <tr>\n",
       "      <td>37</td>\n",
       "      <td>00346000002iW9lAAE</td>\n",
       "      <td>7 days</td>\n",
       "    </tr>\n",
       "    <tr>\n",
       "      <td>38</td>\n",
       "      <td>00346000002iW9lAAE</td>\n",
       "      <td>287 days</td>\n",
       "    </tr>\n",
       "    <tr>\n",
       "      <td>39</td>\n",
       "      <td>00346000002iW9mAAE</td>\n",
       "      <td>-1952 days</td>\n",
       "    </tr>\n",
       "  </tbody>\n",
       "</table>\n",
       "</div>"
      ],
      "text/plain": [
       "            Contact__c Date_of_Contact__c\n",
       "0   00346000002iW9lAAE                NaT\n",
       "1   00346000002iW9lAAE            18 days\n",
       "2   00346000002iW9lAAE           339 days\n",
       "3   00346000002iW9lAAE            46 days\n",
       "4   00346000002iW9lAAE             2 days\n",
       "5   00346000002iW9lAAE            58 days\n",
       "6   00346000002iW9lAAE             6 days\n",
       "7   00346000002iW9lAAE            27 days\n",
       "8   00346000002iW9lAAE            13 days\n",
       "9   00346000002iW9lAAE           155 days\n",
       "10  00346000002iW9lAAE            57 days\n",
       "11  00346000002iW9lAAE            69 days\n",
       "12  00346000002iW9lAAE            65 days\n",
       "13  00346000002iW9lAAE            14 days\n",
       "14  00346000002iW9lAAE            26 days\n",
       "15  00346000002iW9lAAE            63 days\n",
       "16  00346000002iW9lAAE             8 days\n",
       "17  00346000002iW9lAAE            19 days\n",
       "18  00346000002iW9lAAE             3 days\n",
       "19  00346000002iW9lAAE            98 days\n",
       "20  00346000002iW9lAAE            74 days\n",
       "21  00346000002iW9lAAE           273 days\n",
       "22  00346000002iW9lAAE             0 days\n",
       "23  00346000002iW9lAAE            64 days\n",
       "24  00346000002iW9lAAE             7 days\n",
       "25  00346000002iW9lAAE            23 days\n",
       "26  00346000002iW9lAAE           129 days\n",
       "27  00346000002iW9lAAE            39 days\n",
       "28  00346000002iW9lAAE             0 days\n",
       "29  00346000002iW9lAAE           118 days\n",
       "30  00346000002iW9lAAE            14 days\n",
       "31  00346000002iW9lAAE            76 days\n",
       "32  00346000002iW9lAAE            57 days\n",
       "33  00346000002iW9lAAE            21 days\n",
       "34  00346000002iW9lAAE             7 days\n",
       "35  00346000002iW9lAAE            26 days\n",
       "36  00346000002iW9lAAE             1 days\n",
       "37  00346000002iW9lAAE             7 days\n",
       "38  00346000002iW9lAAE           287 days\n",
       "39  00346000002iW9mAAE         -1952 days"
      ]
     },
     "execution_count": 16,
     "metadata": {},
     "output_type": "execute_result"
    }
   ],
   "source": [
    "df_temp = df_first_days.head(40).drop(['level_1'], axis=1)\n",
    "df_temp"
   ]
  },
  {
   "cell_type": "code",
   "execution_count": 17,
   "metadata": {},
   "outputs": [
    {
     "data": {
      "text/plain": [
       "1"
      ]
     },
     "execution_count": 17,
     "metadata": {},
     "output_type": "execute_result"
    }
   ],
   "source": [
    "# the first one is the only NULL\n",
    "df_first_days['Date_of_Contact__c'].isna().sum()"
   ]
  },
  {
   "cell_type": "code",
   "execution_count": 18,
   "metadata": {},
   "outputs": [],
   "source": [
    "# change the first value to a big negative value (does not affect later)\n",
    "df_first_days['Date_of_Contact__c'][0] = pd.to_timedelta(-1000, unit='D')"
   ]
  },
  {
   "cell_type": "code",
   "execution_count": 19,
   "metadata": {},
   "outputs": [],
   "source": [
    "# change time delta to integer (for later calculate)\n",
    "df_first_days['Date_of_Contact__c'] = pd.to_numeric(df_first_days['Date_of_Contact__c'].dt.days, downcast='integer')"
   ]
  },
  {
   "cell_type": "code",
   "execution_count": 63,
   "metadata": {},
   "outputs": [
    {
     "data": {
      "text/html": [
       "<div>\n",
       "<style scoped>\n",
       "    .dataframe tbody tr th:only-of-type {\n",
       "        vertical-align: middle;\n",
       "    }\n",
       "\n",
       "    .dataframe tbody tr th {\n",
       "        vertical-align: top;\n",
       "    }\n",
       "\n",
       "    .dataframe thead th {\n",
       "        text-align: right;\n",
       "    }\n",
       "</style>\n",
       "<table border=\"1\" class=\"dataframe\">\n",
       "  <thead>\n",
       "    <tr style=\"text-align: right;\">\n",
       "      <th></th>\n",
       "      <th>Contact__c</th>\n",
       "      <th>level_1</th>\n",
       "      <th>Date_of_Contact__c</th>\n",
       "    </tr>\n",
       "  </thead>\n",
       "  <tbody>\n",
       "    <tr>\n",
       "      <td>0</td>\n",
       "      <td>00346000002iW9lAAE</td>\n",
       "      <td>1215</td>\n",
       "      <td>-1000</td>\n",
       "    </tr>\n",
       "    <tr>\n",
       "      <td>1</td>\n",
       "      <td>00346000002iW9lAAE</td>\n",
       "      <td>1216</td>\n",
       "      <td>18</td>\n",
       "    </tr>\n",
       "    <tr>\n",
       "      <td>2</td>\n",
       "      <td>00346000002iW9lAAE</td>\n",
       "      <td>1220</td>\n",
       "      <td>339</td>\n",
       "    </tr>\n",
       "    <tr>\n",
       "      <td>3</td>\n",
       "      <td>00346000002iW9lAAE</td>\n",
       "      <td>1213</td>\n",
       "      <td>46</td>\n",
       "    </tr>\n",
       "    <tr>\n",
       "      <td>4</td>\n",
       "      <td>00346000002iW9lAAE</td>\n",
       "      <td>1209</td>\n",
       "      <td>2</td>\n",
       "    </tr>\n",
       "  </tbody>\n",
       "</table>\n",
       "</div>"
      ],
      "text/plain": [
       "           Contact__c  level_1  Date_of_Contact__c\n",
       "0  00346000002iW9lAAE     1215               -1000\n",
       "1  00346000002iW9lAAE     1216                  18\n",
       "2  00346000002iW9lAAE     1220                 339\n",
       "3  00346000002iW9lAAE     1213                  46\n",
       "4  00346000002iW9lAAE     1209                   2"
      ]
     },
     "execution_count": 63,
     "metadata": {},
     "output_type": "execute_result"
    }
   ],
   "source": [
    "df_first_days.head()"
   ]
  },
  {
   "cell_type": "code",
   "execution_count": 64,
   "metadata": {},
   "outputs": [],
   "source": [
    "# remove negative numbers (those numbers are the first row/contact of each student)\n",
    "df_first_days = df_first_days[df_first_days['Date_of_Contact__c'] > 0]"
   ]
  },
  {
   "cell_type": "code",
   "execution_count": 65,
   "metadata": {},
   "outputs": [
    {
     "data": {
      "text/html": [
       "<div>\n",
       "<style scoped>\n",
       "    .dataframe tbody tr th:only-of-type {\n",
       "        vertical-align: middle;\n",
       "    }\n",
       "\n",
       "    .dataframe tbody tr th {\n",
       "        vertical-align: top;\n",
       "    }\n",
       "\n",
       "    .dataframe thead th {\n",
       "        text-align: right;\n",
       "    }\n",
       "</style>\n",
       "<table border=\"1\" class=\"dataframe\">\n",
       "  <thead>\n",
       "    <tr style=\"text-align: right;\">\n",
       "      <th></th>\n",
       "      <th>Contact__c</th>\n",
       "      <th>Date_of_Contact__c</th>\n",
       "    </tr>\n",
       "  </thead>\n",
       "  <tbody>\n",
       "    <tr>\n",
       "      <td>0</td>\n",
       "      <td>00346000002iW9lAAE</td>\n",
       "      <td>33.0</td>\n",
       "    </tr>\n",
       "    <tr>\n",
       "      <td>1</td>\n",
       "      <td>00346000002iW9mAAE</td>\n",
       "      <td>44.5</td>\n",
       "    </tr>\n",
       "    <tr>\n",
       "      <td>2</td>\n",
       "      <td>00346000002iW9nAAE</td>\n",
       "      <td>30.0</td>\n",
       "    </tr>\n",
       "    <tr>\n",
       "      <td>3</td>\n",
       "      <td>00346000002iW9oAAE</td>\n",
       "      <td>75.0</td>\n",
       "    </tr>\n",
       "    <tr>\n",
       "      <td>4</td>\n",
       "      <td>00346000002iW9pAAE</td>\n",
       "      <td>36.0</td>\n",
       "    </tr>\n",
       "  </tbody>\n",
       "</table>\n",
       "</div>"
      ],
      "text/plain": [
       "           Contact__c  Date_of_Contact__c\n",
       "0  00346000002iW9lAAE                33.0\n",
       "1  00346000002iW9mAAE                44.5\n",
       "2  00346000002iW9nAAE                30.0\n",
       "3  00346000002iW9oAAE                75.0\n",
       "4  00346000002iW9pAAE                36.0"
      ]
     },
     "execution_count": 65,
     "metadata": {},
     "output_type": "execute_result"
    }
   ],
   "source": [
    "# the median of days between two contacts of each student\n",
    "df_first_median_days = pd.DataFrame(df_first_days.groupby('Contact__c')['Date_of_Contact__c'].median()).reset_index()\n",
    "df_first_median_days.head()"
   ]
  },
  {
   "cell_type": "code",
   "execution_count": 66,
   "metadata": {},
   "outputs": [],
   "source": [
    "# rename column name for further merge\n",
    "df_first_median_days.rename(columns={'Contact__c':'Id','Date_of_Contact__c':'days_diff'}, inplace=True)"
   ]
  },
  {
   "cell_type": "code",
   "execution_count": 67,
   "metadata": {},
   "outputs": [],
   "source": [
    "# merge\n",
    "# get a new dataframe with labels\n",
    "df_first_median_days_with_labels = df_first_median_days.merge(label, on='Id', how='inner')"
   ]
  },
  {
   "cell_type": "code",
   "execution_count": 68,
   "metadata": {},
   "outputs": [
    {
     "data": {
      "text/html": [
       "<div>\n",
       "<style scoped>\n",
       "    .dataframe tbody tr th:only-of-type {\n",
       "        vertical-align: middle;\n",
       "    }\n",
       "\n",
       "    .dataframe tbody tr th {\n",
       "        vertical-align: top;\n",
       "    }\n",
       "\n",
       "    .dataframe thead th {\n",
       "        text-align: right;\n",
       "    }\n",
       "</style>\n",
       "<table border=\"1\" class=\"dataframe\">\n",
       "  <thead>\n",
       "    <tr style=\"text-align: right;\">\n",
       "      <th></th>\n",
       "      <th>Id</th>\n",
       "      <th>days_diff</th>\n",
       "      <th>label</th>\n",
       "    </tr>\n",
       "  </thead>\n",
       "  <tbody>\n",
       "    <tr>\n",
       "      <td>0</td>\n",
       "      <td>00346000002iW9lAAE</td>\n",
       "      <td>33.0</td>\n",
       "      <td>0</td>\n",
       "    </tr>\n",
       "    <tr>\n",
       "      <td>1</td>\n",
       "      <td>00346000002iW9mAAE</td>\n",
       "      <td>44.5</td>\n",
       "      <td>0</td>\n",
       "    </tr>\n",
       "    <tr>\n",
       "      <td>2</td>\n",
       "      <td>00346000002iW9nAAE</td>\n",
       "      <td>30.0</td>\n",
       "      <td>1</td>\n",
       "    </tr>\n",
       "    <tr>\n",
       "      <td>3</td>\n",
       "      <td>00346000002iW9oAAE</td>\n",
       "      <td>75.0</td>\n",
       "      <td>1</td>\n",
       "    </tr>\n",
       "    <tr>\n",
       "      <td>4</td>\n",
       "      <td>00346000002iW9pAAE</td>\n",
       "      <td>36.0</td>\n",
       "      <td>1</td>\n",
       "    </tr>\n",
       "  </tbody>\n",
       "</table>\n",
       "</div>"
      ],
      "text/plain": [
       "                   Id  days_diff  label\n",
       "0  00346000002iW9lAAE       33.0      0\n",
       "1  00346000002iW9mAAE       44.5      0\n",
       "2  00346000002iW9nAAE       30.0      1\n",
       "3  00346000002iW9oAAE       75.0      1\n",
       "4  00346000002iW9pAAE       36.0      1"
      ]
     },
     "execution_count": 68,
     "metadata": {},
     "output_type": "execute_result"
    }
   ],
   "source": [
    "df_first_median_days_with_labels.head()"
   ]
  },
  {
   "cell_type": "code",
   "execution_count": 69,
   "metadata": {},
   "outputs": [
    {
     "data": {
      "text/plain": [
       "(677, 3)"
      ]
     },
     "execution_count": 69,
     "metadata": {},
     "output_type": "execute_result"
    }
   ],
   "source": [
    "# we finally get 677 students with labels\n",
    "df_first_median_days_with_labels.shape"
   ]
  },
  {
   "cell_type": "code",
   "execution_count": 70,
   "metadata": {},
   "outputs": [
    {
     "data": {
      "image/png": "[encoded data removed]",
      "text/plain": [
       "<Figure size 864x648 with 1 Axes>"
      ]
     },
     "metadata": {},
     "output_type": "display_data"
    }
   ],
   "source": [
    "sns.swarmplot('label', 'days_diff', data=df_first_median_days_with_labels)\n",
    "plt.axhline(42, ls='--', linewidth=2, color='red')\n",
    "plt.axhline(56, ls='--', linewidth=2, color='red')\n",
    "plt.title(\"days(median) between two communications\", fontsize= 15)\n",
    "sns.despine()"
   ]
  },
  {
   "cell_type": "code",
   "execution_count": null,
   "metadata": {},
   "outputs": [],
   "source": []
  },
  {
   "cell_type": "markdown",
   "metadata": {},
   "source": [
    "### Second try"
   ]
  },
  {
   "cell_type": "markdown",
   "metadata": {},
   "source": [
    "- remove Unsuccessful communication\n",
    "- remove contacts initiated by advisee"
   ]
  },
  {
   "cell_type": "code",
   "execution_count": 71,
   "metadata": {},
   "outputs": [],
   "source": [
    "df_second = contactNote[((contactNote['Comm_Status_c__c'] == 'Successful communication')|(contactNote['Comm_Status_c__c'] == 'Informational Outreach only')) & (contactNote['Initiated_by_alum__c'] == 0)]"
   ]
  },
  {
   "cell_type": "code",
   "execution_count": 72,
   "metadata": {},
   "outputs": [
    {
     "data": {
      "text/plain": [
       "(20285, 6)"
      ]
     },
     "execution_count": 72,
     "metadata": {},
     "output_type": "execute_result"
    }
   ],
   "source": [
    "df_second.shape"
   ]
  },
  {
   "cell_type": "code",
   "execution_count": 73,
   "metadata": {},
   "outputs": [],
   "source": [
    "df_second_days = df_second.groupby('Contact__c')['Date_of_Contact__c'].apply(lambda x: x.sort_values()).diff().reset_index() "
   ]
  },
  {
   "cell_type": "code",
   "execution_count": 74,
   "metadata": {},
   "outputs": [
    {
     "data": {
      "text/html": [
       "<div>\n",
       "<style scoped>\n",
       "    .dataframe tbody tr th:only-of-type {\n",
       "        vertical-align: middle;\n",
       "    }\n",
       "\n",
       "    .dataframe tbody tr th {\n",
       "        vertical-align: top;\n",
       "    }\n",
       "\n",
       "    .dataframe thead th {\n",
       "        text-align: right;\n",
       "    }\n",
       "</style>\n",
       "<table border=\"1\" class=\"dataframe\">\n",
       "  <thead>\n",
       "    <tr style=\"text-align: right;\">\n",
       "      <th></th>\n",
       "      <th>Contact__c</th>\n",
       "      <th>level_1</th>\n",
       "      <th>Date_of_Contact__c</th>\n",
       "    </tr>\n",
       "  </thead>\n",
       "  <tbody>\n",
       "    <tr>\n",
       "      <td>0</td>\n",
       "      <td>00346000002iW9lAAE</td>\n",
       "      <td>1215</td>\n",
       "      <td>NaT</td>\n",
       "    </tr>\n",
       "    <tr>\n",
       "      <td>1</td>\n",
       "      <td>00346000002iW9lAAE</td>\n",
       "      <td>1216</td>\n",
       "      <td>18 days</td>\n",
       "    </tr>\n",
       "    <tr>\n",
       "      <td>2</td>\n",
       "      <td>00346000002iW9lAAE</td>\n",
       "      <td>1213</td>\n",
       "      <td>385 days</td>\n",
       "    </tr>\n",
       "    <tr>\n",
       "      <td>3</td>\n",
       "      <td>00346000002iW9lAAE</td>\n",
       "      <td>1209</td>\n",
       "      <td>2 days</td>\n",
       "    </tr>\n",
       "    <tr>\n",
       "      <td>4</td>\n",
       "      <td>00346000002iW9lAAE</td>\n",
       "      <td>1207</td>\n",
       "      <td>58 days</td>\n",
       "    </tr>\n",
       "  </tbody>\n",
       "</table>\n",
       "</div>"
      ],
      "text/plain": [
       "           Contact__c  level_1 Date_of_Contact__c\n",
       "0  00346000002iW9lAAE     1215                NaT\n",
       "1  00346000002iW9lAAE     1216            18 days\n",
       "2  00346000002iW9lAAE     1213           385 days\n",
       "3  00346000002iW9lAAE     1209             2 days\n",
       "4  00346000002iW9lAAE     1207            58 days"
      ]
     },
     "execution_count": 74,
     "metadata": {},
     "output_type": "execute_result"
    }
   ],
   "source": [
    "df_second_days.head()"
   ]
  },
  {
   "cell_type": "code",
   "execution_count": 75,
   "metadata": {},
   "outputs": [
    {
     "data": {
      "text/plain": [
       "1"
      ]
     },
     "execution_count": 75,
     "metadata": {},
     "output_type": "execute_result"
    }
   ],
   "source": [
    "# the first one is the only NULL\n",
    "df_second_days['Date_of_Contact__c'].isna().sum()"
   ]
  },
  {
   "cell_type": "code",
   "execution_count": 76,
   "metadata": {},
   "outputs": [],
   "source": [
    "# change the first value to a big negative value (does not affect later)\n",
    "df_second_days['Date_of_Contact__c'][0] = pd.to_timedelta(-1000, unit='D')"
   ]
  },
  {
   "cell_type": "code",
   "execution_count": 77,
   "metadata": {},
   "outputs": [],
   "source": [
    "# change time delta to integer (for later calculate)\n",
    "df_second_days['Date_of_Contact__c'] = pd.to_numeric(df_second_days['Date_of_Contact__c'].dt.days, downcast='integer')"
   ]
  },
  {
   "cell_type": "code",
   "execution_count": 78,
   "metadata": {},
   "outputs": [
    {
     "data": {
      "text/html": [
       "<div>\n",
       "<style scoped>\n",
       "    .dataframe tbody tr th:only-of-type {\n",
       "        vertical-align: middle;\n",
       "    }\n",
       "\n",
       "    .dataframe tbody tr th {\n",
       "        vertical-align: top;\n",
       "    }\n",
       "\n",
       "    .dataframe thead th {\n",
       "        text-align: right;\n",
       "    }\n",
       "</style>\n",
       "<table border=\"1\" class=\"dataframe\">\n",
       "  <thead>\n",
       "    <tr style=\"text-align: right;\">\n",
       "      <th></th>\n",
       "      <th>Contact__c</th>\n",
       "      <th>level_1</th>\n",
       "      <th>Date_of_Contact__c</th>\n",
       "    </tr>\n",
       "  </thead>\n",
       "  <tbody>\n",
       "    <tr>\n",
       "      <td>0</td>\n",
       "      <td>00346000002iW9lAAE</td>\n",
       "      <td>1215</td>\n",
       "      <td>-1000</td>\n",
       "    </tr>\n",
       "    <tr>\n",
       "      <td>1</td>\n",
       "      <td>00346000002iW9lAAE</td>\n",
       "      <td>1216</td>\n",
       "      <td>18</td>\n",
       "    </tr>\n",
       "    <tr>\n",
       "      <td>2</td>\n",
       "      <td>00346000002iW9lAAE</td>\n",
       "      <td>1213</td>\n",
       "      <td>385</td>\n",
       "    </tr>\n",
       "    <tr>\n",
       "      <td>3</td>\n",
       "      <td>00346000002iW9lAAE</td>\n",
       "      <td>1209</td>\n",
       "      <td>2</td>\n",
       "    </tr>\n",
       "    <tr>\n",
       "      <td>4</td>\n",
       "      <td>00346000002iW9lAAE</td>\n",
       "      <td>1207</td>\n",
       "      <td>58</td>\n",
       "    </tr>\n",
       "  </tbody>\n",
       "</table>\n",
       "</div>"
      ],
      "text/plain": [
       "           Contact__c  level_1  Date_of_Contact__c\n",
       "0  00346000002iW9lAAE     1215               -1000\n",
       "1  00346000002iW9lAAE     1216                  18\n",
       "2  00346000002iW9lAAE     1213                 385\n",
       "3  00346000002iW9lAAE     1209                   2\n",
       "4  00346000002iW9lAAE     1207                  58"
      ]
     },
     "execution_count": 78,
     "metadata": {},
     "output_type": "execute_result"
    }
   ],
   "source": [
    "df_second_days.head()"
   ]
  },
  {
   "cell_type": "code",
   "execution_count": 79,
   "metadata": {},
   "outputs": [],
   "source": [
    "# remove negative numbers (those numbers are the first row/contact of each student)\n",
    "df_second_days = df_second_days[df_second_days['Date_of_Contact__c'] > 0]"
   ]
  },
  {
   "cell_type": "code",
   "execution_count": 80,
   "metadata": {},
   "outputs": [
    {
     "data": {
      "text/html": [
       "<div>\n",
       "<style scoped>\n",
       "    .dataframe tbody tr th:only-of-type {\n",
       "        vertical-align: middle;\n",
       "    }\n",
       "\n",
       "    .dataframe tbody tr th {\n",
       "        vertical-align: top;\n",
       "    }\n",
       "\n",
       "    .dataframe thead th {\n",
       "        text-align: right;\n",
       "    }\n",
       "</style>\n",
       "<table border=\"1\" class=\"dataframe\">\n",
       "  <thead>\n",
       "    <tr style=\"text-align: right;\">\n",
       "      <th></th>\n",
       "      <th>Contact__c</th>\n",
       "      <th>Date_of_Contact__c</th>\n",
       "    </tr>\n",
       "  </thead>\n",
       "  <tbody>\n",
       "    <tr>\n",
       "      <td>0</td>\n",
       "      <td>00346000002iW9lAAE</td>\n",
       "      <td>33.0</td>\n",
       "    </tr>\n",
       "    <tr>\n",
       "      <td>1</td>\n",
       "      <td>00346000002iW9mAAE</td>\n",
       "      <td>44.5</td>\n",
       "    </tr>\n",
       "    <tr>\n",
       "      <td>2</td>\n",
       "      <td>00346000002iW9nAAE</td>\n",
       "      <td>35.0</td>\n",
       "    </tr>\n",
       "    <tr>\n",
       "      <td>3</td>\n",
       "      <td>00346000002iW9oAAE</td>\n",
       "      <td>76.0</td>\n",
       "    </tr>\n",
       "    <tr>\n",
       "      <td>4</td>\n",
       "      <td>00346000002iW9pAAE</td>\n",
       "      <td>36.0</td>\n",
       "    </tr>\n",
       "  </tbody>\n",
       "</table>\n",
       "</div>"
      ],
      "text/plain": [
       "           Contact__c  Date_of_Contact__c\n",
       "0  00346000002iW9lAAE                33.0\n",
       "1  00346000002iW9mAAE                44.5\n",
       "2  00346000002iW9nAAE                35.0\n",
       "3  00346000002iW9oAAE                76.0\n",
       "4  00346000002iW9pAAE                36.0"
      ]
     },
     "execution_count": 80,
     "metadata": {},
     "output_type": "execute_result"
    }
   ],
   "source": [
    "# the median of days between two contacts of each student\n",
    "df_second_median_days = pd.DataFrame(df_second_days.groupby('Contact__c')['Date_of_Contact__c'].median()).reset_index()\n",
    "df_second_median_days.head()"
   ]
  },
  {
   "cell_type": "code",
   "execution_count": 81,
   "metadata": {},
   "outputs": [],
   "source": [
    "# rename column name for further merge\n",
    "df_second_median_days.rename(columns={'Contact__c':'Id','Date_of_Contact__c':'days_diff'}, inplace=True)"
   ]
  },
  {
   "cell_type": "code",
   "execution_count": 82,
   "metadata": {},
   "outputs": [],
   "source": [
    "# merge\n",
    "# get a new dataframe with labels\n",
    "df_second_median_days_with_labels = df_second_median_days.merge(label, on='Id', how='inner')"
   ]
  },
  {
   "cell_type": "code",
   "execution_count": 83,
   "metadata": {},
   "outputs": [
    {
     "data": {
      "text/plain": [
       "(677, 3)"
      ]
     },
     "execution_count": 83,
     "metadata": {},
     "output_type": "execute_result"
    }
   ],
   "source": [
    "# we finally get 677 students with labels\n",
    "df_second_median_days_with_labels.shape"
   ]
  },
  {
   "cell_type": "code",
   "execution_count": 84,
   "metadata": {},
   "outputs": [
    {
     "data": {
      "image/png": "[encoded data removed]",
      "text/plain": [
       "<Figure size 864x648 with 1 Axes>"
      ]
     },
     "metadata": {},
     "output_type": "display_data"
    }
   ],
   "source": [
    "sns.swarmplot('label', 'days_diff', data=df_second_median_days_with_labels)\n",
    "plt.axhline(42, ls='--', linewidth=2, color='red')\n",
    "plt.axhline(56, ls='--', linewidth=2, color='red')\n",
    "sns.despine()"
   ]
  },
  {
   "cell_type": "markdown",
   "metadata": {},
   "source": [
    "### Check correlation"
   ]
  },
  {
   "cell_type": "code",
   "execution_count": 85,
   "metadata": {},
   "outputs": [
    {
     "data": {
      "text/html": [
       "<div>\n",
       "<style scoped>\n",
       "    .dataframe tbody tr th:only-of-type {\n",
       "        vertical-align: middle;\n",
       "    }\n",
       "\n",
       "    .dataframe tbody tr th {\n",
       "        vertical-align: top;\n",
       "    }\n",
       "\n",
       "    .dataframe thead th {\n",
       "        text-align: right;\n",
       "    }\n",
       "</style>\n",
       "<table border=\"1\" class=\"dataframe\">\n",
       "  <thead>\n",
       "    <tr style=\"text-align: right;\">\n",
       "      <th></th>\n",
       "      <th>Id</th>\n",
       "      <th>College_Credits_Accumulated__c</th>\n",
       "      <th>Cumulative_College_GPA__c</th>\n",
       "      <th>Total_Credits_Required_to_Graduate__c</th>\n",
       "      <th>Pell_Eligible__c</th>\n",
       "      <th>HS_Final_GPA__c</th>\n",
       "      <th>Highest_ACT_Score__c</th>\n",
       "      <th>First_Generation_College_Student__c</th>\n",
       "      <th>Gender__c</th>\n",
       "      <th>EFC_from_FAFSA__c</th>\n",
       "      <th>Career_Path__c</th>\n",
       "      <th>College_Path__c</th>\n",
       "      <th>Active_T_Mobile_Plan__c</th>\n",
       "      <th>label</th>\n",
       "    </tr>\n",
       "  </thead>\n",
       "  <tbody>\n",
       "    <tr>\n",
       "      <td>0</td>\n",
       "      <td>00346000002iXekAAE</td>\n",
       "      <td>48.0</td>\n",
       "      <td>2.29</td>\n",
       "      <td>120.0</td>\n",
       "      <td>0</td>\n",
       "      <td>3.33</td>\n",
       "      <td>25.0</td>\n",
       "      <td>0</td>\n",
       "      <td>1.0</td>\n",
       "      <td>1264.0</td>\n",
       "      <td>0</td>\n",
       "      <td>1</td>\n",
       "      <td>1.0</td>\n",
       "      <td>0</td>\n",
       "    </tr>\n",
       "    <tr>\n",
       "      <td>1</td>\n",
       "      <td>00346000002iXcbAAE</td>\n",
       "      <td>6.0</td>\n",
       "      <td>1.10</td>\n",
       "      <td>120.0</td>\n",
       "      <td>0</td>\n",
       "      <td>1.98</td>\n",
       "      <td>13.0</td>\n",
       "      <td>0</td>\n",
       "      <td>0.0</td>\n",
       "      <td>0.0</td>\n",
       "      <td>1</td>\n",
       "      <td>0</td>\n",
       "      <td>0.0</td>\n",
       "      <td>0</td>\n",
       "    </tr>\n",
       "    <tr>\n",
       "      <td>2</td>\n",
       "      <td>00346000002iXbiAAE</td>\n",
       "      <td>39.0</td>\n",
       "      <td>1.92</td>\n",
       "      <td>120.0</td>\n",
       "      <td>0</td>\n",
       "      <td>2.50</td>\n",
       "      <td>18.0</td>\n",
       "      <td>0</td>\n",
       "      <td>1.0</td>\n",
       "      <td>24170.0</td>\n",
       "      <td>1</td>\n",
       "      <td>0</td>\n",
       "      <td>0.0</td>\n",
       "      <td>0</td>\n",
       "    </tr>\n",
       "    <tr>\n",
       "      <td>3</td>\n",
       "      <td>00346000002iXaSAAU</td>\n",
       "      <td>108.0</td>\n",
       "      <td>3.51</td>\n",
       "      <td>120.0</td>\n",
       "      <td>0</td>\n",
       "      <td>2.87</td>\n",
       "      <td>20.0</td>\n",
       "      <td>0</td>\n",
       "      <td>0.0</td>\n",
       "      <td>0.0</td>\n",
       "      <td>0</td>\n",
       "      <td>1</td>\n",
       "      <td>1.0</td>\n",
       "      <td>1</td>\n",
       "    </tr>\n",
       "    <tr>\n",
       "      <td>4</td>\n",
       "      <td>00346000002iXaWAAU</td>\n",
       "      <td>124.0</td>\n",
       "      <td>2.51</td>\n",
       "      <td>120.0</td>\n",
       "      <td>0</td>\n",
       "      <td>2.46</td>\n",
       "      <td>21.0</td>\n",
       "      <td>0</td>\n",
       "      <td>1.0</td>\n",
       "      <td>0.0</td>\n",
       "      <td>0</td>\n",
       "      <td>1</td>\n",
       "      <td>0.0</td>\n",
       "      <td>1</td>\n",
       "    </tr>\n",
       "  </tbody>\n",
       "</table>\n",
       "</div>"
      ],
      "text/plain": [
       "                   Id  College_Credits_Accumulated__c  \\\n",
       "0  00346000002iXekAAE                            48.0   \n",
       "1  00346000002iXcbAAE                             6.0   \n",
       "2  00346000002iXbiAAE                            39.0   \n",
       "3  00346000002iXaSAAU                           108.0   \n",
       "4  00346000002iXaWAAU                           124.0   \n",
       "\n",
       "   Cumulative_College_GPA__c  Total_Credits_Required_to_Graduate__c  \\\n",
       "0                       2.29                                  120.0   \n",
       "1                       1.10                                  120.0   \n",
       "2                       1.92                                  120.0   \n",
       "3                       3.51                                  120.0   \n",
       "4                       2.51                                  120.0   \n",
       "\n",
       "   Pell_Eligible__c  HS_Final_GPA__c  Highest_ACT_Score__c  \\\n",
       "0                 0             3.33                  25.0   \n",
       "1                 0             1.98                  13.0   \n",
       "2                 0             2.50                  18.0   \n",
       "3                 0             2.87                  20.0   \n",
       "4                 0             2.46                  21.0   \n",
       "\n",
       "   First_Generation_College_Student__c  Gender__c  EFC_from_FAFSA__c  \\\n",
       "0                                    0        1.0             1264.0   \n",
       "1                                    0        0.0                0.0   \n",
       "2                                    0        1.0            24170.0   \n",
       "3                                    0        0.0                0.0   \n",
       "4                                    0        1.0                0.0   \n",
       "\n",
       "   Career_Path__c  College_Path__c  Active_T_Mobile_Plan__c  label  \n",
       "0               0                1                      1.0      0  \n",
       "1               1                0                      0.0      0  \n",
       "2               1                0                      0.0      0  \n",
       "3               0                1                      1.0      1  \n",
       "4               0                1                      0.0      1  "
      ]
     },
     "execution_count": 85,
     "metadata": {},
     "output_type": "execute_result"
    }
   ],
   "source": [
    "df.head()"
   ]
  },
  {
   "cell_type": "code",
   "execution_count": 86,
   "metadata": {},
   "outputs": [],
   "source": [
    "#merge\n",
    "#get a new dataframe with labels\n",
    "df = df.merge(df_first_median_days_with_labels, on='Id', how='inner')"
   ]
  },
  {
   "cell_type": "code",
   "execution_count": 87,
   "metadata": {},
   "outputs": [],
   "source": [
    "del df['label_x']\n",
    "df.rename(columns = {'label_y':'label'}, inplace = True)"
   ]
  },
  {
   "cell_type": "code",
   "execution_count": 88,
   "metadata": {},
   "outputs": [
    {
     "data": {
      "text/plain": [
       "(427, 15)"
      ]
     },
     "execution_count": 88,
     "metadata": {},
     "output_type": "execute_result"
    }
   ],
   "source": [
    "# 427 students with labels left\n",
    "df.shape"
   ]
  },
  {
   "cell_type": "code",
   "execution_count": 89,
   "metadata": {},
   "outputs": [
    {
     "data": {
      "text/html": [
       "<div>\n",
       "<style scoped>\n",
       "    .dataframe tbody tr th:only-of-type {\n",
       "        vertical-align: middle;\n",
       "    }\n",
       "\n",
       "    .dataframe tbody tr th {\n",
       "        vertical-align: top;\n",
       "    }\n",
       "\n",
       "    .dataframe thead th {\n",
       "        text-align: right;\n",
       "    }\n",
       "</style>\n",
       "<table border=\"1\" class=\"dataframe\">\n",
       "  <thead>\n",
       "    <tr style=\"text-align: right;\">\n",
       "      <th></th>\n",
       "      <th>Id</th>\n",
       "      <th>College_Credits_Accumulated__c</th>\n",
       "      <th>Cumulative_College_GPA__c</th>\n",
       "      <th>Total_Credits_Required_to_Graduate__c</th>\n",
       "      <th>Pell_Eligible__c</th>\n",
       "      <th>HS_Final_GPA__c</th>\n",
       "      <th>Highest_ACT_Score__c</th>\n",
       "      <th>First_Generation_College_Student__c</th>\n",
       "      <th>Gender__c</th>\n",
       "      <th>EFC_from_FAFSA__c</th>\n",
       "      <th>Career_Path__c</th>\n",
       "      <th>College_Path__c</th>\n",
       "      <th>Active_T_Mobile_Plan__c</th>\n",
       "      <th>days_diff</th>\n",
       "      <th>label</th>\n",
       "    </tr>\n",
       "  </thead>\n",
       "  <tbody>\n",
       "    <tr>\n",
       "      <td>0</td>\n",
       "      <td>00346000002iXekAAE</td>\n",
       "      <td>48.0</td>\n",
       "      <td>2.29</td>\n",
       "      <td>120.0</td>\n",
       "      <td>0</td>\n",
       "      <td>3.33</td>\n",
       "      <td>25.0</td>\n",
       "      <td>0</td>\n",
       "      <td>1.0</td>\n",
       "      <td>1264.0</td>\n",
       "      <td>0</td>\n",
       "      <td>1</td>\n",
       "      <td>1.0</td>\n",
       "      <td>85.0</td>\n",
       "      <td>0</td>\n",
       "    </tr>\n",
       "    <tr>\n",
       "      <td>1</td>\n",
       "      <td>00346000002iXcbAAE</td>\n",
       "      <td>6.0</td>\n",
       "      <td>1.10</td>\n",
       "      <td>120.0</td>\n",
       "      <td>0</td>\n",
       "      <td>1.98</td>\n",
       "      <td>13.0</td>\n",
       "      <td>0</td>\n",
       "      <td>0.0</td>\n",
       "      <td>0.0</td>\n",
       "      <td>1</td>\n",
       "      <td>0</td>\n",
       "      <td>0.0</td>\n",
       "      <td>40.0</td>\n",
       "      <td>0</td>\n",
       "    </tr>\n",
       "    <tr>\n",
       "      <td>2</td>\n",
       "      <td>00346000002iXbiAAE</td>\n",
       "      <td>39.0</td>\n",
       "      <td>1.92</td>\n",
       "      <td>120.0</td>\n",
       "      <td>0</td>\n",
       "      <td>2.50</td>\n",
       "      <td>18.0</td>\n",
       "      <td>0</td>\n",
       "      <td>1.0</td>\n",
       "      <td>24170.0</td>\n",
       "      <td>1</td>\n",
       "      <td>0</td>\n",
       "      <td>0.0</td>\n",
       "      <td>42.0</td>\n",
       "      <td>0</td>\n",
       "    </tr>\n",
       "    <tr>\n",
       "      <td>3</td>\n",
       "      <td>00346000002iXaSAAU</td>\n",
       "      <td>108.0</td>\n",
       "      <td>3.51</td>\n",
       "      <td>120.0</td>\n",
       "      <td>0</td>\n",
       "      <td>2.87</td>\n",
       "      <td>20.0</td>\n",
       "      <td>0</td>\n",
       "      <td>0.0</td>\n",
       "      <td>0.0</td>\n",
       "      <td>0</td>\n",
       "      <td>1</td>\n",
       "      <td>1.0</td>\n",
       "      <td>37.0</td>\n",
       "      <td>1</td>\n",
       "    </tr>\n",
       "    <tr>\n",
       "      <td>4</td>\n",
       "      <td>00346000002iXaWAAU</td>\n",
       "      <td>124.0</td>\n",
       "      <td>2.51</td>\n",
       "      <td>120.0</td>\n",
       "      <td>0</td>\n",
       "      <td>2.46</td>\n",
       "      <td>21.0</td>\n",
       "      <td>0</td>\n",
       "      <td>1.0</td>\n",
       "      <td>0.0</td>\n",
       "      <td>0</td>\n",
       "      <td>1</td>\n",
       "      <td>0.0</td>\n",
       "      <td>73.0</td>\n",
       "      <td>1</td>\n",
       "    </tr>\n",
       "  </tbody>\n",
       "</table>\n",
       "</div>"
      ],
      "text/plain": [
       "                   Id  College_Credits_Accumulated__c  \\\n",
       "0  00346000002iXekAAE                            48.0   \n",
       "1  00346000002iXcbAAE                             6.0   \n",
       "2  00346000002iXbiAAE                            39.0   \n",
       "3  00346000002iXaSAAU                           108.0   \n",
       "4  00346000002iXaWAAU                           124.0   \n",
       "\n",
       "   Cumulative_College_GPA__c  Total_Credits_Required_to_Graduate__c  \\\n",
       "0                       2.29                                  120.0   \n",
       "1                       1.10                                  120.0   \n",
       "2                       1.92                                  120.0   \n",
       "3                       3.51                                  120.0   \n",
       "4                       2.51                                  120.0   \n",
       "\n",
       "   Pell_Eligible__c  HS_Final_GPA__c  Highest_ACT_Score__c  \\\n",
       "0                 0             3.33                  25.0   \n",
       "1                 0             1.98                  13.0   \n",
       "2                 0             2.50                  18.0   \n",
       "3                 0             2.87                  20.0   \n",
       "4                 0             2.46                  21.0   \n",
       "\n",
       "   First_Generation_College_Student__c  Gender__c  EFC_from_FAFSA__c  \\\n",
       "0                                    0        1.0             1264.0   \n",
       "1                                    0        0.0                0.0   \n",
       "2                                    0        1.0            24170.0   \n",
       "3                                    0        0.0                0.0   \n",
       "4                                    0        1.0                0.0   \n",
       "\n",
       "   Career_Path__c  College_Path__c  Active_T_Mobile_Plan__c  days_diff  label  \n",
       "0               0                1                      1.0       85.0      0  \n",
       "1               1                0                      0.0       40.0      0  \n",
       "2               1                0                      0.0       42.0      0  \n",
       "3               0                1                      1.0       37.0      1  \n",
       "4               0                1                      0.0       73.0      1  "
      ]
     },
     "execution_count": 89,
     "metadata": {},
     "output_type": "execute_result"
    }
   ],
   "source": [
    "df.head()"
   ]
  },
  {
   "cell_type": "code",
   "execution_count": 90,
   "metadata": {},
   "outputs": [
    {
     "data": {
      "text/plain": [
       "(14.5, -0.5)"
      ]
     },
     "execution_count": 90,
     "metadata": {},
     "output_type": "execute_result"
    },
    {
     "data": {
      "image/png": "[encoded data removed]",
      "text/plain": [
       "<Figure size 720x720 with 2 Axes>"
      ]
     },
     "metadata": {},
     "output_type": "display_data"
    }
   ],
   "source": [
    "# Correlations\n",
    "corr = df.corr()\n",
    "\n",
    "f, ax = plt.subplots(figsize=(10, 10))\n",
    "ax = sns.heatmap(\n",
    "    corr, \n",
    "    vmin=-1, vmax=1, center=0,\n",
    "    cmap=\"coolwarm\",\n",
    "    square=True,\n",
    "    annot=True\n",
    ")\n",
    "ax.set_xticklabels(\n",
    "    ax.get_xticklabels(),\n",
    "    rotation=45,\n",
    "    horizontalalignment='right'\n",
    ");\n",
    "\n",
    "bottom, top = ax.get_ylim()\n",
    "ax.set_ylim(bottom + 0.5, top - 0.5)"
   ]
  },
  {
   "cell_type": "markdown",
   "metadata": {},
   "source": [
    "**conclusion:**\n",
    "**contact interval has little correlation with students' success/persistence**"
   ]
  },
  {
   "cell_type": "code",
   "execution_count": 91,
   "metadata": {},
   "outputs": [],
   "source": [
    "corr1 = df[['days_diff', 'label']].corr()"
   ]
  },
  {
   "cell_type": "code",
   "execution_count": 92,
   "metadata": {},
   "outputs": [
    {
     "data": {
      "text/html": [
       "<div>\n",
       "<style scoped>\n",
       "    .dataframe tbody tr th:only-of-type {\n",
       "        vertical-align: middle;\n",
       "    }\n",
       "\n",
       "    .dataframe tbody tr th {\n",
       "        vertical-align: top;\n",
       "    }\n",
       "\n",
       "    .dataframe thead th {\n",
       "        text-align: right;\n",
       "    }\n",
       "</style>\n",
       "<table border=\"1\" class=\"dataframe\">\n",
       "  <thead>\n",
       "    <tr style=\"text-align: right;\">\n",
       "      <th></th>\n",
       "      <th>days_diff</th>\n",
       "      <th>label</th>\n",
       "    </tr>\n",
       "  </thead>\n",
       "  <tbody>\n",
       "    <tr>\n",
       "      <td>days_diff</td>\n",
       "      <td>1.000000</td>\n",
       "      <td>-0.035194</td>\n",
       "    </tr>\n",
       "    <tr>\n",
       "      <td>label</td>\n",
       "      <td>-0.035194</td>\n",
       "      <td>1.000000</td>\n",
       "    </tr>\n",
       "  </tbody>\n",
       "</table>\n",
       "</div>"
      ],
      "text/plain": [
       "           days_diff     label\n",
       "days_diff   1.000000 -0.035194\n",
       "label      -0.035194  1.000000"
      ]
     },
     "execution_count": 92,
     "metadata": {},
     "output_type": "execute_result"
    }
   ],
   "source": [
    "corr1"
   ]
  },
  {
   "cell_type": "code",
   "execution_count": null,
   "metadata": {},
   "outputs": [],
   "source": []
  }
 ],
 "metadata": {
  "kernelspec": {
   "display_name": "Python 3",
   "language": "python",
   "name": "python3"
  },
  "language_info": {
   "codemirror_mode": {
    "name": "ipython",
    "version": 3
   },
   "file_extension": ".py",
   "mimetype": "text/x-python",
   "name": "python",
   "nbconvert_exporter": "python",
   "pygments_lexer": "ipython3",
   "version": "3.7.4"
  },
  "toc": {
   "base_numbering": 1,
   "nav_menu": {},
   "number_sections": false,
   "sideBar": true,
   "skip_h1_title": false,
   "title_cell": "Table of Contents",
   "title_sidebar": "Contents",
   "toc_cell": false,
   "toc_position": {
    "height": "calc(100% - 180px)",
    "left": "10px",
    "top": "150px",
    "width": "216.390625px"
   },
   "toc_section_display": true,
   "toc_window_display": true
  }
 },
 "nbformat": 4,
 "nbformat_minor": 2
}
