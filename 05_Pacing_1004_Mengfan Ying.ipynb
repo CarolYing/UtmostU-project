{
 "cells": [
  {
   "cell_type": "code",
   "execution_count": 3,
   "metadata": {},
   "outputs": [],
   "source": [
    "#import packages\n",
    "import pandas as pd\n",
    "import numpy as np\n",
    "import matplotlib.pyplot as plt\n",
    "import seaborn as sns\n",
    "%matplotlib inline\n",
    "sns.set_style(\"darkgrid\")\n",
    "#sns.set(rc={'figure.figsize':(8,6)}) # adjust figure size\n",
    "\n",
    "#%precision 2\n",
    "\n",
    "pd.set_option('max_columns',200)\n",
    "\n",
    "# modeling packages\n",
    "from scipy.stats import norm\n",
    "from sklearn.preprocessing import StandardScaler\n",
    "from scipy import stats\n",
    "import warnings\n",
    "warnings.filterwarnings('ignore')"
   ]
  },
  {
   "cell_type": "code",
   "execution_count": 4,
   "metadata": {},
   "outputs": [],
   "source": [
    "import datetime"
   ]
  },
  {
   "cell_type": "markdown",
   "metadata": {},
   "source": [
    "## We found enrollment info in table \"contact_object\""
   ]
  },
  {
   "cell_type": "code",
   "execution_count": 10,
   "metadata": {},
   "outputs": [],
   "source": [
    "# read csv file -- contact object_new\n",
    "contact = pd.read_csv('DP- Contact Object 07-22-21.csv')"
   ]
  },
  {
   "cell_type": "code",
   "execution_count": 16,
   "metadata": {},
   "outputs": [
    {
     "data": {
      "text/plain": [
       "array(['8. Graduate of Program', '5.\\tEnrolled', '7.\\tNo longer enrolled',\n",
       "       '1.\\tExpressed Interest', '4.\\tNo longer interested',\n",
       "       '6.\\tDisengaged in less than 6 months', '1', nan], dtype=object)"
      ]
     },
     "execution_count": 16,
     "metadata": {},
     "output_type": "execute_result"
    }
   ],
   "source": [
    "# unique values in col 'stage'\n",
    "contact['Stage__c'].unique()"
   ]
  },
  {
   "cell_type": "code",
   "execution_count": 12,
   "metadata": {},
   "outputs": [],
   "source": [
    "# grab students whose stage is 'Graduate of Program'\n",
    "graduated_student_1 = contact[contact['Stage__c']=='8. Graduate of Program']\n",
    "# graduated_student_1.head()\n",
    "# graduated_student_1.shape # 244 rows\n",
    "# graduated_student_1['Id'].nunique() # 244 rows"
   ]
  },
  {
   "cell_type": "markdown",
   "metadata": {},
   "source": [
    "## We found enrollment info in table \"enrollment\""
   ]
  },
  {
   "cell_type": "code",
   "execution_count": 20,
   "metadata": {},
   "outputs": [],
   "source": [
    "# read csv file -- enrollment\n",
    "enrollment = pd.read_csv('df_Enrollment.csv')"
   ]
  },
  {
   "cell_type": "code",
   "execution_count": 21,
   "metadata": {},
   "outputs": [
    {
     "data": {
      "text/plain": [
       "array(['Attending', 'Withdrew', 'Graduated', 'Transferred out',\n",
       "       'Did not matriculate', 'Matriculating'], dtype=object)"
      ]
     },
     "execution_count": 21,
     "metadata": {},
     "output_type": "execute_result"
    }
   ],
   "source": [
    "# unique values in col 'stage'\n",
    "enrollment['Status__c'].unique()"
   ]
  },
  {
   "cell_type": "code",
   "execution_count": 26,
   "metadata": {},
   "outputs": [
    {
     "data": {
      "text/plain": [
       "209"
      ]
     },
     "execution_count": 26,
     "metadata": {},
     "output_type": "execute_result"
    }
   ],
   "source": [
    "# grab students whose Status is 'Graduated'\n",
    "graduated_student_2 = enrollment[enrollment['Status__c']=='Graduated']\n",
    "# graduated_student_2.head()\n",
    "# graduated_student_2.shape # 233 rows\n",
    "# graduated_student_2['Student__c'].nunique() # 209 rows  # some students graduared more than once"
   ]
  },
  {
   "cell_type": "code",
   "execution_count": 33,
   "metadata": {},
   "outputs": [
    {
     "name": "stdout",
     "output_type": "stream",
     "text": [
      "<class 'pandas.core.frame.DataFrame'>\n",
      "RangeIndex: 2061 entries, 0 to 2060\n",
      "Data columns (total 11 columns):\n",
      "Student__c               2061 non-null object\n",
      "Id                       2061 non-null object\n",
      "CreatedDate              2061 non-null object\n",
      "College__c               2061 non-null object\n",
      "Date_Last_Verified__c    1925 non-null object\n",
      "Degree_Type__c           1998 non-null object\n",
      "End_Date__c              1520 non-null datetime64[ns]\n",
      "Major_Text__c            162 non-null object\n",
      "Start_Date__c            2002 non-null datetime64[ns]\n",
      "Status__c                2061 non-null object\n",
      "Withdrawal_code__c       634 non-null object\n",
      "dtypes: datetime64[ns](2), object(9)\n",
      "memory usage: 177.2+ KB\n"
     ]
    }
   ],
   "source": [
    "enrollment.info()"
   ]
  },
  {
   "cell_type": "code",
   "execution_count": 37,
   "metadata": {
    "scrolled": true
   },
   "outputs": [],
   "source": [
    "# change string to datetime\n",
    "graduated_student_2['Start_Date__c'] = pd.to_datetime(enrollment['Start_Date__c'])"
   ]
  },
  {
   "cell_type": "code",
   "execution_count": 38,
   "metadata": {},
   "outputs": [],
   "source": [
    "graduated_student_2['End_Date__c'] = pd.to_datetime(enrollment['End_Date__c'])"
   ]
  },
  {
   "cell_type": "code",
   "execution_count": 53,
   "metadata": {},
   "outputs": [],
   "source": [
    "# years to graduate\n",
    "difference = pd.DataFrame((graduated_student_2['End_Date__c'] - graduated_student_2['Start_Date__c']).dt.days / 365)\n",
    "difference.columns =['years_to_graduate']"
   ]
  },
  {
   "cell_type": "code",
   "execution_count": 54,
   "metadata": {},
   "outputs": [
    {
     "data": {
      "text/html": [
       "<div>\n",
       "<style scoped>\n",
       "    .dataframe tbody tr th:only-of-type {\n",
       "        vertical-align: middle;\n",
       "    }\n",
       "\n",
       "    .dataframe tbody tr th {\n",
       "        vertical-align: top;\n",
       "    }\n",
       "\n",
       "    .dataframe thead th {\n",
       "        text-align: right;\n",
       "    }\n",
       "</style>\n",
       "<table border=\"1\" class=\"dataframe\">\n",
       "  <thead>\n",
       "    <tr style=\"text-align: right;\">\n",
       "      <th></th>\n",
       "      <th>years_to_graduate</th>\n",
       "    </tr>\n",
       "  </thead>\n",
       "  <tbody>\n",
       "    <tr>\n",
       "      <td>17</td>\n",
       "      <td>1.928767</td>\n",
       "    </tr>\n",
       "    <tr>\n",
       "      <td>18</td>\n",
       "      <td>1.950685</td>\n",
       "    </tr>\n",
       "    <tr>\n",
       "      <td>19</td>\n",
       "      <td>1.950685</td>\n",
       "    </tr>\n",
       "    <tr>\n",
       "      <td>20</td>\n",
       "      <td>1.942466</td>\n",
       "    </tr>\n",
       "    <tr>\n",
       "      <td>21</td>\n",
       "      <td>1.298630</td>\n",
       "    </tr>\n",
       "  </tbody>\n",
       "</table>\n",
       "</div>"
      ],
      "text/plain": [
       "    years_to_graduate\n",
       "17           1.928767\n",
       "18           1.950685\n",
       "19           1.950685\n",
       "20           1.942466\n",
       "21           1.298630"
      ]
     },
     "execution_count": 54,
     "metadata": {},
     "output_type": "execute_result"
    }
   ],
   "source": [
    "difference.head()"
   ]
  },
  {
   "cell_type": "code",
   "execution_count": 55,
   "metadata": {},
   "outputs": [],
   "source": [
    "graduated_student = pd.concat([graduated_student_2,difference], axis=1)"
   ]
  },
  {
   "cell_type": "code",
   "execution_count": 56,
   "metadata": {},
   "outputs": [
    {
     "data": {
      "text/html": [
       "<div>\n",
       "<style scoped>\n",
       "    .dataframe tbody tr th:only-of-type {\n",
       "        vertical-align: middle;\n",
       "    }\n",
       "\n",
       "    .dataframe tbody tr th {\n",
       "        vertical-align: top;\n",
       "    }\n",
       "\n",
       "    .dataframe thead th {\n",
       "        text-align: right;\n",
       "    }\n",
       "</style>\n",
       "<table border=\"1\" class=\"dataframe\">\n",
       "  <thead>\n",
       "    <tr style=\"text-align: right;\">\n",
       "      <th></th>\n",
       "      <th>Student__c</th>\n",
       "      <th>Id</th>\n",
       "      <th>CreatedDate</th>\n",
       "      <th>College__c</th>\n",
       "      <th>Date_Last_Verified__c</th>\n",
       "      <th>Degree_Type__c</th>\n",
       "      <th>End_Date__c</th>\n",
       "      <th>Major_Text__c</th>\n",
       "      <th>Start_Date__c</th>\n",
       "      <th>Status__c</th>\n",
       "      <th>Withdrawal_code__c</th>\n",
       "      <th>years_to_graduate</th>\n",
       "    </tr>\n",
       "  </thead>\n",
       "  <tbody>\n",
       "    <tr>\n",
       "      <td>17</td>\n",
       "      <td>00346000002iWAkAAM</td>\n",
       "      <td>a0046000001UbWjAAK</td>\n",
       "      <td>3/15/17 15:45</td>\n",
       "      <td>00146000004iTjpAAE</td>\n",
       "      <td>11/18/19 0:00</td>\n",
       "      <td>Associate's</td>\n",
       "      <td>2017-12-23</td>\n",
       "      <td>ARRUPE COLLEGE-LIBERAL ARTS</td>\n",
       "      <td>2016-01-19</td>\n",
       "      <td>Graduated</td>\n",
       "      <td>NaN</td>\n",
       "      <td>1.928767</td>\n",
       "    </tr>\n",
       "    <tr>\n",
       "      <td>18</td>\n",
       "      <td>0034600000iXknHAAS</td>\n",
       "      <td>a0046000004IpjkAAC</td>\n",
       "      <td>12/20/17 23:53</td>\n",
       "      <td>00146000004iTjpAAE</td>\n",
       "      <td>11/18/19 0:00</td>\n",
       "      <td>Associate's</td>\n",
       "      <td>2019-08-10</td>\n",
       "      <td>ARRUPE COLLEGE-LIBERAL ARTS</td>\n",
       "      <td>2017-08-28</td>\n",
       "      <td>Graduated</td>\n",
       "      <td>NaN</td>\n",
       "      <td>1.950685</td>\n",
       "    </tr>\n",
       "    <tr>\n",
       "      <td>19</td>\n",
       "      <td>00346000002iXcPAAU</td>\n",
       "      <td>a0046000001UbXGAA0</td>\n",
       "      <td>3/15/17 15:45</td>\n",
       "      <td>00146000004iTjpAAE</td>\n",
       "      <td>11/18/19 0:00</td>\n",
       "      <td>Associate's</td>\n",
       "      <td>2018-08-11</td>\n",
       "      <td>ARRUPE COLLEGE-SOCIAL AND BEHAVIORAL SCIENCES</td>\n",
       "      <td>2016-08-29</td>\n",
       "      <td>Graduated</td>\n",
       "      <td>NaN</td>\n",
       "      <td>1.950685</td>\n",
       "    </tr>\n",
       "    <tr>\n",
       "      <td>20</td>\n",
       "      <td>00346000002iXZtAAM</td>\n",
       "      <td>a0046000006EzBVAA0</td>\n",
       "      <td>12/5/18 4:46</td>\n",
       "      <td>00146000004iTQ3AAM</td>\n",
       "      <td>11/18/19 0:00</td>\n",
       "      <td>Associate's</td>\n",
       "      <td>2017-08-04</td>\n",
       "      <td>ARTS &amp; SCIENCES</td>\n",
       "      <td>2015-08-26</td>\n",
       "      <td>Graduated</td>\n",
       "      <td>NaN</td>\n",
       "      <td>1.942466</td>\n",
       "    </tr>\n",
       "    <tr>\n",
       "      <td>21</td>\n",
       "      <td>00346000002iXbCAAU</td>\n",
       "      <td>a0046000001Uc2KAAS</td>\n",
       "      <td>3/15/17 15:46</td>\n",
       "      <td>00146000004iTjuAAE</td>\n",
       "      <td>11/18/19 0:00</td>\n",
       "      <td>Associate's</td>\n",
       "      <td>2017-12-16</td>\n",
       "      <td>ASSOCIATE IN ARTS-AA</td>\n",
       "      <td>2016-08-29</td>\n",
       "      <td>Graduated</td>\n",
       "      <td>NaN</td>\n",
       "      <td>1.298630</td>\n",
       "    </tr>\n",
       "  </tbody>\n",
       "</table>\n",
       "</div>"
      ],
      "text/plain": [
       "            Student__c                  Id     CreatedDate  \\\n",
       "17  00346000002iWAkAAM  a0046000001UbWjAAK   3/15/17 15:45   \n",
       "18  0034600000iXknHAAS  a0046000004IpjkAAC  12/20/17 23:53   \n",
       "19  00346000002iXcPAAU  a0046000001UbXGAA0   3/15/17 15:45   \n",
       "20  00346000002iXZtAAM  a0046000006EzBVAA0    12/5/18 4:46   \n",
       "21  00346000002iXbCAAU  a0046000001Uc2KAAS   3/15/17 15:46   \n",
       "\n",
       "            College__c Date_Last_Verified__c Degree_Type__c End_Date__c  \\\n",
       "17  00146000004iTjpAAE         11/18/19 0:00    Associate's  2017-12-23   \n",
       "18  00146000004iTjpAAE         11/18/19 0:00    Associate's  2019-08-10   \n",
       "19  00146000004iTjpAAE         11/18/19 0:00    Associate's  2018-08-11   \n",
       "20  00146000004iTQ3AAM         11/18/19 0:00    Associate's  2017-08-04   \n",
       "21  00146000004iTjuAAE         11/18/19 0:00    Associate's  2017-12-16   \n",
       "\n",
       "                                    Major_Text__c Start_Date__c  Status__c  \\\n",
       "17                    ARRUPE COLLEGE-LIBERAL ARTS    2016-01-19  Graduated   \n",
       "18                    ARRUPE COLLEGE-LIBERAL ARTS    2017-08-28  Graduated   \n",
       "19  ARRUPE COLLEGE-SOCIAL AND BEHAVIORAL SCIENCES    2016-08-29  Graduated   \n",
       "20                                ARTS & SCIENCES    2015-08-26  Graduated   \n",
       "21                           ASSOCIATE IN ARTS-AA    2016-08-29  Graduated   \n",
       "\n",
       "   Withdrawal_code__c  years_to_graduate  \n",
       "17                NaN           1.928767  \n",
       "18                NaN           1.950685  \n",
       "19                NaN           1.950685  \n",
       "20                NaN           1.942466  \n",
       "21                NaN           1.298630  "
      ]
     },
     "execution_count": 56,
     "metadata": {},
     "output_type": "execute_result"
    }
   ],
   "source": [
    "graduated_student.head()"
   ]
  },
  {
   "cell_type": "code",
   "execution_count": 57,
   "metadata": {},
   "outputs": [
    {
     "data": {
      "text/plain": [
       "array([\"Associate's\", \"Associate's or Certificate (TBD)\", \"Bachelor's\",\n",
       "       'Certificate', \"Master's\", 'Trade/Vocational'], dtype=object)"
      ]
     },
     "execution_count": 57,
     "metadata": {},
     "output_type": "execute_result"
    }
   ],
   "source": [
    "graduated_student['Degree_Type__c'].unique()"
   ]
  },
  {
   "cell_type": "code",
   "execution_count": 60,
   "metadata": {},
   "outputs": [
    {
     "data": {
      "text/plain": [
       "<matplotlib.axes._subplots.AxesSubplot at 0x7fb1bb5fe9d0>"
      ]
     },
     "execution_count": 60,
     "metadata": {},
     "output_type": "execute_result"
    },
    {
     "data": {
      "image/png": "[encoded data removed]",
      "text/plain": [
       "<Figure size 432x288 with 1 Axes>"
      ]
     },
     "metadata": {
      "needs_background": "light"
     },
     "output_type": "display_data"
    }
   ],
   "source": [
    "sns.countplot(y=\"Degree_Type__c\", \n",
    "              data=graduated_student,\n",
    "              order = graduated_student['Degree_Type__c'].value_counts().index)"
   ]
  },
  {
   "cell_type": "markdown",
   "metadata": {},
   "source": [
    "### create some sub datasets"
   ]
  },
  {
   "cell_type": "code",
   "execution_count": 61,
   "metadata": {},
   "outputs": [],
   "source": [
    "# students who persue Bachelor's degree\n",
    "bachelor = graduated_student[graduated_student['Degree_Type__c'] == 'Bachelor\\'s']\n",
    "# students who persue Associate's\n",
    "associate = graduated_student[graduated_student['Degree_Type__c'] == 'Associate\\'s']\n",
    "# students who persue Associate's or Certificate (TBD)\n",
    "tbd = graduated_student[graduated_student['Degree_Type__c'] == \"Associate's or Certificate (TBD)\"]\n",
    "# students who persue Master's degree\n",
    "master = graduated_student[graduated_student['Degree_Type__c'] == \"Master's\"]"
   ]
  },
  {
   "cell_type": "code",
   "execution_count": 85,
   "metadata": {},
   "outputs": [
    {
     "data": {
      "image/png": "[encoded data removed]",
      "text/plain": [
       "<Figure size 864x720 with 4 Axes>"
      ]
     },
     "metadata": {
      "needs_background": "light"
     },
     "output_type": "display_data"
    }
   ],
   "source": [
    "# plot\n",
    "fig = plt.figure(figsize=(12,10))\n",
    "\n",
    "ax1 = fig.add_subplot(221)\n",
    "ax1.set_title(\"Bachelor\")\n",
    "ax1 = sns.boxplot(y=bachelor[\"years_to_graduate\"])\n",
    "ax1 = sns.swarmplot(y=bachelor[\"years_to_graduate\"], color=\".25\")\n",
    "\n",
    "ax2 = fig.add_subplot(222)\n",
    "ax2.set_title(\"Associate\")\n",
    "ax2 = sns.boxplot(y=associate[\"years_to_graduate\"])\n",
    "ax2 = sns.swarmplot(y=associate[\"years_to_graduate\"], color=\".25\")\n",
    "\n",
    "ax3 = fig.add_subplot(223)\n",
    "ax3.set_title(\"TBD\")\n",
    "ax3 = sns.boxplot(y=tbd[\"years_to_graduate\"])\n",
    "ax3 = sns.swarmplot(y=tbd[\"years_to_graduate\"], color=\".25\")\n",
    "\n",
    "ax4 = fig.add_subplot(224)\n",
    "ax4.set_title(\"Master's\")\n",
    "ax4 = sns.boxplot(y=master[\"years_to_graduate\"])\n",
    "ax4 = sns.swarmplot(y=master[\"years_to_graduate\"], color=\".25\")"
   ]
  },
  {
   "cell_type": "markdown",
   "metadata": {},
   "source": [
    "### students who persue Certificate"
   ]
  },
  {
   "cell_type": "code",
   "execution_count": 73,
   "metadata": {},
   "outputs": [],
   "source": [
    "certificate = graduated_student[graduated_student['Degree_Type__c'] == \"Certificate\"]"
   ]
  },
  {
   "cell_type": "code",
   "execution_count": 74,
   "metadata": {},
   "outputs": [
    {
     "data": {
      "image/png": "[encoded data removed]",
      "text/plain": [
       "<Figure size 432x288 with 1 Axes>"
      ]
     },
     "metadata": {
      "needs_background": "light"
     },
     "output_type": "display_data"
    }
   ],
   "source": [
    "ax = sns.boxplot(y=certificate[\"years_to_graduate\"])\n",
    "ax = sns.swarmplot(y=certificate[\"years_to_graduate\"], color=\".25\")"
   ]
  },
  {
   "cell_type": "markdown",
   "metadata": {},
   "source": [
    "### students who persue Trade/Vocational"
   ]
  },
  {
   "cell_type": "code",
   "execution_count": 75,
   "metadata": {},
   "outputs": [],
   "source": [
    "trade = graduated_student[graduated_student['Degree_Type__c'] == \"Trade/Vocational\"]"
   ]
  },
  {
   "cell_type": "code",
   "execution_count": 76,
   "metadata": {},
   "outputs": [
    {
     "data": {
      "image/png": "[encoded data removed]",
      "text/plain": [
       "<Figure size 432x288 with 1 Axes>"
      ]
     },
     "metadata": {
      "needs_background": "light"
     },
     "output_type": "display_data"
    }
   ],
   "source": [
    "ax = sns.boxplot(y=trade[\"years_to_graduate\"])\n",
    "ax = sns.swarmplot(y=trade[\"years_to_graduate\"], color=\".25\")"
   ]
  },
  {
   "cell_type": "markdown",
   "metadata": {},
   "source": [
    "# NSC data"
   ]
  },
  {
   "cell_type": "code",
   "execution_count": 5,
   "metadata": {},
   "outputs": [],
   "source": [
    "# read the file\n",
    "nsc = pd.read_excel('UtmostU NSC Data_For DePaul.xlsx', 'Sheet1')"
   ]
  },
  {
   "cell_type": "code",
   "execution_count": 5,
   "metadata": {},
   "outputs": [],
   "source": [
    "# convert to timestamp\n",
    "nsc['Enrollment End'] = pd.to_datetime(nsc['Enrollment End'])\n",
    "nsc['Enrollment Begin'] = pd.to_datetime(nsc['Enrollment Begin'])"
   ]
  },
  {
   "cell_type": "code",
   "execution_count": 6,
   "metadata": {},
   "outputs": [
    {
     "data": {
      "text/plain": [
       "(7234, 16)"
      ]
     },
     "execution_count": 6,
     "metadata": {},
     "output_type": "execute_result"
    }
   ],
   "source": [
    "nsc.shape"
   ]
  },
  {
   "cell_type": "code",
   "execution_count": 123,
   "metadata": {},
   "outputs": [],
   "source": [
    "# write as csv file\n",
    "# nsc.to_csv('NSC.csv', encoding='utf-8', index=False)"
   ]
  },
  {
   "cell_type": "code",
   "execution_count": 10,
   "metadata": {},
   "outputs": [
    {
     "data": {
      "text/html": [
       "<div>\n",
       "<style scoped>\n",
       "    .dataframe tbody tr th:only-of-type {\n",
       "        vertical-align: middle;\n",
       "    }\n",
       "\n",
       "    .dataframe tbody tr th {\n",
       "        vertical-align: top;\n",
       "    }\n",
       "\n",
       "    .dataframe thead th {\n",
       "        text-align: right;\n",
       "    }\n",
       "</style>\n",
       "<table border=\"1\" class=\"dataframe\">\n",
       "  <thead>\n",
       "    <tr style=\"text-align: right;\">\n",
       "      <th></th>\n",
       "      <th>Fellow ID</th>\n",
       "      <th>College Code/Branch</th>\n",
       "      <th>College Name</th>\n",
       "      <th>College State</th>\n",
       "      <th>2-year / 4-year</th>\n",
       "      <th>Public / Private</th>\n",
       "      <th>Enrollment Begin</th>\n",
       "      <th>Enrollment End</th>\n",
       "      <th>Enrollment Status</th>\n",
       "      <th>Class Level</th>\n",
       "      <th>Enrollment Major 1</th>\n",
       "      <th>Graduated?</th>\n",
       "      <th>Graduation Date</th>\n",
       "      <th>Degree Title</th>\n",
       "      <th>Degree Major 1</th>\n",
       "      <th>Degree Major 2</th>\n",
       "    </tr>\n",
       "  </thead>\n",
       "  <tbody>\n",
       "    <tr>\n",
       "      <td>0</td>\n",
       "      <td>00346000002iXXG</td>\n",
       "      <td>001709-00</td>\n",
       "      <td>LINCOLN COLLEGE</td>\n",
       "      <td>IL</td>\n",
       "      <td>4</td>\n",
       "      <td>Private</td>\n",
       "      <td>8/19/2013</td>\n",
       "      <td>12/14/2013</td>\n",
       "      <td>Full-time</td>\n",
       "      <td>NaN</td>\n",
       "      <td>Health Sciences &amp; Technologies</td>\n",
       "      <td>N</td>\n",
       "      <td>NaN</td>\n",
       "      <td>NaN</td>\n",
       "      <td>NaN</td>\n",
       "      <td>NaN</td>\n",
       "    </tr>\n",
       "    <tr>\n",
       "      <td>1</td>\n",
       "      <td>00346000002iXXG</td>\n",
       "      <td>001709-00</td>\n",
       "      <td>LINCOLN COLLEGE</td>\n",
       "      <td>IL</td>\n",
       "      <td>4</td>\n",
       "      <td>Private</td>\n",
       "      <td>1/2/2014</td>\n",
       "      <td>5/31/2014</td>\n",
       "      <td>Full-time</td>\n",
       "      <td>NaN</td>\n",
       "      <td>Health Sciences &amp; Technologies</td>\n",
       "      <td>N</td>\n",
       "      <td>NaN</td>\n",
       "      <td>NaN</td>\n",
       "      <td>NaN</td>\n",
       "      <td>NaN</td>\n",
       "    </tr>\n",
       "    <tr>\n",
       "      <td>2</td>\n",
       "      <td>00346000002iXdj</td>\n",
       "      <td>009767-00</td>\n",
       "      <td>CITY OF CHICAGO - OLIVE-HARVEY COLLEGE</td>\n",
       "      <td>IL</td>\n",
       "      <td>2</td>\n",
       "      <td>Public</td>\n",
       "      <td>6/3/2015</td>\n",
       "      <td>7/26/2015</td>\n",
       "      <td>Half-time</td>\n",
       "      <td>Freshman</td>\n",
       "      <td>NaN</td>\n",
       "      <td>N</td>\n",
       "      <td>NaN</td>\n",
       "      <td>NaN</td>\n",
       "      <td>NaN</td>\n",
       "      <td>NaN</td>\n",
       "    </tr>\n",
       "    <tr>\n",
       "      <td>3</td>\n",
       "      <td>00346000002iXdj</td>\n",
       "      <td>009767-00</td>\n",
       "      <td>CITY OF CHICAGO - OLIVE-HARVEY COLLEGE</td>\n",
       "      <td>IL</td>\n",
       "      <td>2</td>\n",
       "      <td>Public</td>\n",
       "      <td>1/19/2016</td>\n",
       "      <td>5/14/2016</td>\n",
       "      <td>Full-time</td>\n",
       "      <td>Freshman</td>\n",
       "      <td>NaN</td>\n",
       "      <td>N</td>\n",
       "      <td>NaN</td>\n",
       "      <td>NaN</td>\n",
       "      <td>NaN</td>\n",
       "      <td>NaN</td>\n",
       "    </tr>\n",
       "    <tr>\n",
       "      <td>4</td>\n",
       "      <td>00346000002iXdj</td>\n",
       "      <td>009767-00</td>\n",
       "      <td>CITY OF CHICAGO - OLIVE-HARVEY COLLEGE</td>\n",
       "      <td>IL</td>\n",
       "      <td>2</td>\n",
       "      <td>Public</td>\n",
       "      <td>8/29/2016</td>\n",
       "      <td>12/17/2016</td>\n",
       "      <td>Full-time</td>\n",
       "      <td>Sophomore</td>\n",
       "      <td>NaN</td>\n",
       "      <td>N</td>\n",
       "      <td>NaN</td>\n",
       "      <td>NaN</td>\n",
       "      <td>NaN</td>\n",
       "      <td>NaN</td>\n",
       "    </tr>\n",
       "  </tbody>\n",
       "</table>\n",
       "</div>"
      ],
      "text/plain": [
       "         Fellow ID College Code/Branch  \\\n",
       "0  00346000002iXXG           001709-00   \n",
       "1  00346000002iXXG           001709-00   \n",
       "2  00346000002iXdj           009767-00   \n",
       "3  00346000002iXdj           009767-00   \n",
       "4  00346000002iXdj           009767-00   \n",
       "\n",
       "                             College Name College State  2-year / 4-year  \\\n",
       "0                         LINCOLN COLLEGE            IL                4   \n",
       "1                         LINCOLN COLLEGE            IL                4   \n",
       "2  CITY OF CHICAGO - OLIVE-HARVEY COLLEGE            IL                2   \n",
       "3  CITY OF CHICAGO - OLIVE-HARVEY COLLEGE            IL                2   \n",
       "4  CITY OF CHICAGO - OLIVE-HARVEY COLLEGE            IL                2   \n",
       "\n",
       "  Public / Private Enrollment Begin Enrollment End Enrollment Status  \\\n",
       "0          Private        8/19/2013     12/14/2013         Full-time   \n",
       "1          Private         1/2/2014      5/31/2014         Full-time   \n",
       "2           Public         6/3/2015      7/26/2015         Half-time   \n",
       "3           Public        1/19/2016      5/14/2016         Full-time   \n",
       "4           Public        8/29/2016     12/17/2016         Full-time   \n",
       "\n",
       "  Class Level              Enrollment Major 1 Graduated? Graduation Date  \\\n",
       "0         NaN  Health Sciences & Technologies          N             NaN   \n",
       "1         NaN  Health Sciences & Technologies          N             NaN   \n",
       "2    Freshman                             NaN          N             NaN   \n",
       "3    Freshman                             NaN          N             NaN   \n",
       "4   Sophomore                             NaN          N             NaN   \n",
       "\n",
       "  Degree Title Degree Major 1 Degree Major 2  \n",
       "0          NaN            NaN            NaN  \n",
       "1          NaN            NaN            NaN  \n",
       "2          NaN            NaN            NaN  \n",
       "3          NaN            NaN            NaN  \n",
       "4          NaN            NaN            NaN  "
      ]
     },
     "execution_count": 10,
     "metadata": {},
     "output_type": "execute_result"
    }
   ],
   "source": [
    "nsc.head()"
   ]
  },
  {
   "cell_type": "markdown",
   "metadata": {},
   "source": [
    "# EDA"
   ]
  },
  {
   "cell_type": "code",
   "execution_count": 151,
   "metadata": {
    "scrolled": false
   },
   "outputs": [
    {
     "name": "stdout",
     "output_type": "stream",
     "text": [
      "<class 'pandas.core.frame.DataFrame'>\n",
      "RangeIndex: 7234 entries, 0 to 7233\n",
      "Data columns (total 16 columns):\n",
      "Fellow ID              7234 non-null object\n",
      "College Code/Branch    7234 non-null object\n",
      "College Name           7234 non-null object\n",
      "College State          7234 non-null object\n",
      "2-year / 4-year        7234 non-null int64\n",
      "Public / Private       7234 non-null object\n",
      "Enrollment Begin       6875 non-null datetime64[ns]\n",
      "Enrollment End         6875 non-null datetime64[ns]\n",
      "Enrollment Status      7234 non-null object\n",
      "Class Level            6102 non-null object\n",
      "Enrollment Major 1     4013 non-null object\n",
      "Graduated?             7234 non-null object\n",
      "Graduation Date        359 non-null object\n",
      "Degree Title           320 non-null object\n",
      "Degree Major 1         317 non-null object\n",
      "Degree Major 2         5 non-null object\n",
      "dtypes: datetime64[ns](2), int64(1), object(13)\n",
      "memory usage: 904.4+ KB\n"
     ]
    }
   ],
   "source": [
    "#nsc.shape\n",
    "nsc.info()"
   ]
  },
  {
   "cell_type": "markdown",
   "metadata": {},
   "source": [
    "*Notes: 7234 rows, 16 cols*"
   ]
  },
  {
   "cell_type": "code",
   "execution_count": 154,
   "metadata": {},
   "outputs": [
    {
     "data": {
      "text/plain": [
       "1029"
      ]
     },
     "execution_count": 154,
     "metadata": {},
     "output_type": "execute_result"
    }
   ],
   "source": [
    "nsc['Fellow ID'].nunique() # 1029 unique Fellow IDs"
   ]
  },
  {
   "cell_type": "markdown",
   "metadata": {},
   "source": [
    "### Check missing values"
   ]
  },
  {
   "cell_type": "code",
   "execution_count": 15,
   "metadata": {},
   "outputs": [
    {
     "data": {
      "text/plain": [
       "<matplotlib.axes._subplots.AxesSubplot at 0x7f89dfd90bd0>"
      ]
     },
     "execution_count": 15,
     "metadata": {},
     "output_type": "execute_result"
    },
    {
     "data": {
      "image/png": "[encoded data removed]",
      "text/plain": [
       "<Figure size 720x432 with 1 Axes>"
      ]
     },
     "metadata": {},
     "output_type": "display_data"
    }
   ],
   "source": [
    "sns.set(rc={'figure.figsize':(10,6)}) # adjust figure size\n",
    "sns.heatmap(nsc.isnull(), cbar=False)"
   ]
  },
  {
   "cell_type": "code",
   "execution_count": 17,
   "metadata": {
    "scrolled": false
   },
   "outputs": [
    {
     "data": {
      "text/html": [
       "<div>\n",
       "<style scoped>\n",
       "    .dataframe tbody tr th:only-of-type {\n",
       "        vertical-align: middle;\n",
       "    }\n",
       "\n",
       "    .dataframe tbody tr th {\n",
       "        vertical-align: top;\n",
       "    }\n",
       "\n",
       "    .dataframe thead th {\n",
       "        text-align: right;\n",
       "    }\n",
       "</style>\n",
       "<table border=\"1\" class=\"dataframe\">\n",
       "  <thead>\n",
       "    <tr style=\"text-align: right;\">\n",
       "      <th></th>\n",
       "      <th>Total Missing</th>\n",
       "      <th>Percent</th>\n",
       "    </tr>\n",
       "  </thead>\n",
       "  <tbody>\n",
       "    <tr>\n",
       "      <td>Degree Major 2</td>\n",
       "      <td>7229</td>\n",
       "      <td>0.999309</td>\n",
       "    </tr>\n",
       "    <tr>\n",
       "      <td>Degree Major 1</td>\n",
       "      <td>6917</td>\n",
       "      <td>0.956179</td>\n",
       "    </tr>\n",
       "    <tr>\n",
       "      <td>Degree Title</td>\n",
       "      <td>6914</td>\n",
       "      <td>0.955764</td>\n",
       "    </tr>\n",
       "    <tr>\n",
       "      <td>Graduation Date</td>\n",
       "      <td>6875</td>\n",
       "      <td>0.950373</td>\n",
       "    </tr>\n",
       "    <tr>\n",
       "      <td>Enrollment Major 1</td>\n",
       "      <td>3221</td>\n",
       "      <td>0.445259</td>\n",
       "    </tr>\n",
       "    <tr>\n",
       "      <td>Class Level</td>\n",
       "      <td>1132</td>\n",
       "      <td>0.156483</td>\n",
       "    </tr>\n",
       "    <tr>\n",
       "      <td>Enrollment End</td>\n",
       "      <td>359</td>\n",
       "      <td>0.049627</td>\n",
       "    </tr>\n",
       "    <tr>\n",
       "      <td>Enrollment Begin</td>\n",
       "      <td>359</td>\n",
       "      <td>0.049627</td>\n",
       "    </tr>\n",
       "    <tr>\n",
       "      <td>Graduated?</td>\n",
       "      <td>0</td>\n",
       "      <td>0.000000</td>\n",
       "    </tr>\n",
       "    <tr>\n",
       "      <td>Enrollment Status</td>\n",
       "      <td>0</td>\n",
       "      <td>0.000000</td>\n",
       "    </tr>\n",
       "    <tr>\n",
       "      <td>Public / Private</td>\n",
       "      <td>0</td>\n",
       "      <td>0.000000</td>\n",
       "    </tr>\n",
       "    <tr>\n",
       "      <td>2-year / 4-year</td>\n",
       "      <td>0</td>\n",
       "      <td>0.000000</td>\n",
       "    </tr>\n",
       "    <tr>\n",
       "      <td>College State</td>\n",
       "      <td>0</td>\n",
       "      <td>0.000000</td>\n",
       "    </tr>\n",
       "    <tr>\n",
       "      <td>College Name</td>\n",
       "      <td>0</td>\n",
       "      <td>0.000000</td>\n",
       "    </tr>\n",
       "    <tr>\n",
       "      <td>College Code/Branch</td>\n",
       "      <td>0</td>\n",
       "      <td>0.000000</td>\n",
       "    </tr>\n",
       "    <tr>\n",
       "      <td>Fellow ID</td>\n",
       "      <td>0</td>\n",
       "      <td>0.000000</td>\n",
       "    </tr>\n",
       "  </tbody>\n",
       "</table>\n",
       "</div>"
      ],
      "text/plain": [
       "                     Total Missing   Percent\n",
       "Degree Major 2                7229  0.999309\n",
       "Degree Major 1                6917  0.956179\n",
       "Degree Title                  6914  0.955764\n",
       "Graduation Date               6875  0.950373\n",
       "Enrollment Major 1            3221  0.445259\n",
       "Class Level                   1132  0.156483\n",
       "Enrollment End                 359  0.049627\n",
       "Enrollment Begin               359  0.049627\n",
       "Graduated?                       0  0.000000\n",
       "Enrollment Status                0  0.000000\n",
       "Public / Private                 0  0.000000\n",
       "2-year / 4-year                  0  0.000000\n",
       "College State                    0  0.000000\n",
       "College Name                     0  0.000000\n",
       "College Code/Branch              0  0.000000\n",
       "Fellow ID                        0  0.000000"
      ]
     },
     "execution_count": 17,
     "metadata": {},
     "output_type": "execute_result"
    }
   ],
   "source": [
    "total = nsc.isnull().sum().sort_values(ascending=False)\n",
    "percent = (nsc.isnull().sum()/nsc.isnull().count()).sort_values(ascending=False)\n",
    "missing_data = pd.concat([total, percent], axis=1, keys=['Total Missing', 'Percent'])\n",
    "missing_data "
   ]
  },
  {
   "cell_type": "markdown",
   "metadata": {},
   "source": [
    "**some notes (Shayna):**\n",
    "- Row F(Public / Private?), “Class Level”?, may not be super helpful\n",
    "- In columns that indicate graduation date, there will be no information in rows G-K, but rather, the information will be in rows M-P.\n",
    "- Rows I-K (Enrollment Status, Class Level, Enrollment Major 1) Can leave that as null"
   ]
  },
  {
   "cell_type": "markdown",
   "metadata": {},
   "source": [
    "**other notes:**\n",
    "*in most cases, if a fellow graduated, there will be a graduation date, as well as degree title and major. but: Graduation Date(359)> Degree Title(320)?*\n",
    "- because some students have more than one graduation dates (but very close), and only one of the graudation date has a degree title\n",
    "- very few have a graduation date but no degree title (00346000002iXeF)"
   ]
  },
  {
   "cell_type": "code",
   "execution_count": 28,
   "metadata": {},
   "outputs": [],
   "source": [
    "# check each fellow\n",
    "#temp = nsc.loc[nsc['Fellow ID'] == '00346000002iXeF']\n",
    "#temp"
   ]
  },
  {
   "cell_type": "code",
   "execution_count": null,
   "metadata": {},
   "outputs": [],
   "source": [
    "# some students'education journey\n",
    "# struggled students:\n",
    "# 00346000002iWAo\n",
    "# 00346000002iXaN (2 -> 4)\n",
    "\n",
    "# Normal students:\n",
    "# 00346000002iXYO\n",
    "# 00346000002iXXi\n",
    "\n",
    "# Motivated students (master)\n",
    "# 00346000002iXXI\n",
    "\n",
    "# 4 -> 2:\n",
    "# 00346000002iXa3\n",
    "\n",
    "# 2 -> 4:\n",
    "# 0034p00001iGQ6m\n",
    "\n",
    "# 4 -> 2 -> 4:\n",
    "# 00346000002iXdj"
   ]
  },
  {
   "cell_type": "markdown",
   "metadata": {},
   "source": [
    "# Data clean log"
   ]
  },
  {
   "cell_type": "code",
   "execution_count": 9,
   "metadata": {},
   "outputs": [],
   "source": [
    "# make a copy\n",
    "nsc_copy = nsc.copy()"
   ]
  },
  {
   "cell_type": "code",
   "execution_count": 10,
   "metadata": {},
   "outputs": [
    {
     "data": {
      "text/plain": [
       "(7234, 16)"
      ]
     },
     "execution_count": 10,
     "metadata": {},
     "output_type": "execute_result"
    }
   ],
   "source": [
    "nsc_copy.shape"
   ]
  },
  {
   "cell_type": "markdown",
   "metadata": {},
   "source": [
    "### 1) Remove rows whose class level is *High School Scholar*"
   ]
  },
  {
   "cell_type": "code",
   "execution_count": 11,
   "metadata": {},
   "outputs": [],
   "source": [
    "# drop rows whose class level is High School Scholar\n",
    "nsc_copy = nsc_copy.drop(nsc_copy[(nsc_copy['Class Level'] == 'High School Scholar')].index)"
   ]
  },
  {
   "cell_type": "code",
   "execution_count": 12,
   "metadata": {},
   "outputs": [],
   "source": [
    "# nsc_copy.shape\n",
    "# 17 rows removed"
   ]
  },
  {
   "cell_type": "markdown",
   "metadata": {},
   "source": [
    "### 2) For *students* who have both advanced certificate and basic certificate, only keep advanced certificate "
   ]
  },
  {
   "cell_type": "code",
   "execution_count": 13,
   "metadata": {},
   "outputs": [],
   "source": [
    "certificate = nsc[nsc['Degree Title'].str.contains(\"CERT\", na=False)]"
   ]
  },
  {
   "cell_type": "code",
   "execution_count": 14,
   "metadata": {},
   "outputs": [
    {
     "data": {
      "text/plain": [
       "(40, 16)"
      ]
     },
     "execution_count": 14,
     "metadata": {},
     "output_type": "execute_result"
    }
   ],
   "source": [
    "# there are 40 rows in total. All these fellows got at least one certificate. \n",
    "# DIPLOMA --> certificate (00346000002iXcS) only one fellow\n",
    "certificate.shape"
   ]
  },
  {
   "cell_type": "code",
   "execution_count": 15,
   "metadata": {},
   "outputs": [
    {
     "data": {
      "text/plain": [
       "BASIC CERTIFICATE            30\n",
       "CERTIFICATE                   4\n",
       "ADVANCED CERTIFICATE          3\n",
       "UNDERGRADUATE CERTIFICATE     1\n",
       "CERTIFICATE IN WRITING        1\n",
       "CERT                          1\n",
       "Name: Degree Title, dtype: int64"
      ]
     },
     "execution_count": 15,
     "metadata": {},
     "output_type": "execute_result"
    }
   ],
   "source": [
    "certificate['Degree Title'].value_counts()"
   ]
  },
  {
   "cell_type": "code",
   "execution_count": 16,
   "metadata": {},
   "outputs": [
    {
     "data": {
      "text/html": [
       "<div>\n",
       "<style scoped>\n",
       "    .dataframe tbody tr th:only-of-type {\n",
       "        vertical-align: middle;\n",
       "    }\n",
       "\n",
       "    .dataframe tbody tr th {\n",
       "        vertical-align: top;\n",
       "    }\n",
       "\n",
       "    .dataframe thead th {\n",
       "        text-align: right;\n",
       "    }\n",
       "</style>\n",
       "<table border=\"1\" class=\"dataframe\">\n",
       "  <thead>\n",
       "    <tr style=\"text-align: right;\">\n",
       "      <th></th>\n",
       "      <th>Fellow ID</th>\n",
       "      <th>College Code/Branch</th>\n",
       "      <th>College Name</th>\n",
       "      <th>College State</th>\n",
       "      <th>2-year / 4-year</th>\n",
       "      <th>Public / Private</th>\n",
       "      <th>Enrollment Begin</th>\n",
       "      <th>Enrollment End</th>\n",
       "      <th>Enrollment Status</th>\n",
       "      <th>Class Level</th>\n",
       "      <th>Enrollment Major 1</th>\n",
       "      <th>Graduated?</th>\n",
       "      <th>Graduation Date</th>\n",
       "      <th>Degree Title</th>\n",
       "      <th>Degree Major 1</th>\n",
       "      <th>Degree Major 2</th>\n",
       "    </tr>\n",
       "  </thead>\n",
       "  <tbody>\n",
       "    <tr>\n",
       "      <td>376</td>\n",
       "      <td>0034p00001iGQ6m</td>\n",
       "      <td>001650-00</td>\n",
       "      <td>CITY OF CHICAGO - MALCOLM X COLLEGE</td>\n",
       "      <td>IL</td>\n",
       "      <td>2</td>\n",
       "      <td>Public</td>\n",
       "      <td>NaN</td>\n",
       "      <td>NaN</td>\n",
       "      <td></td>\n",
       "      <td>NaN</td>\n",
       "      <td>NaN</td>\n",
       "      <td>Y</td>\n",
       "      <td>5/15/2021</td>\n",
       "      <td>ADVANCED CERTIFICATE</td>\n",
       "      <td>Education</td>\n",
       "      <td>NaN</td>\n",
       "    </tr>\n",
       "    <tr>\n",
       "      <td>982</td>\n",
       "      <td>0034600001EXcUB</td>\n",
       "      <td>001654-00</td>\n",
       "      <td>CITY OF CHICAGO - KENNEDY-KING COLLEGE</td>\n",
       "      <td>IL</td>\n",
       "      <td>2</td>\n",
       "      <td>Public</td>\n",
       "      <td>NaN</td>\n",
       "      <td>NaN</td>\n",
       "      <td></td>\n",
       "      <td>NaN</td>\n",
       "      <td>NaN</td>\n",
       "      <td>Y</td>\n",
       "      <td>12/14/2019</td>\n",
       "      <td>ADVANCED CERTIFICATE</td>\n",
       "      <td>Repair, Production, &amp; Construction</td>\n",
       "      <td>NaN</td>\n",
       "    </tr>\n",
       "    <tr>\n",
       "      <td>2764</td>\n",
       "      <td>00346000002iXd2</td>\n",
       "      <td>009767-00</td>\n",
       "      <td>CITY OF CHICAGO - OLIVE-HARVEY COLLEGE</td>\n",
       "      <td>IL</td>\n",
       "      <td>2</td>\n",
       "      <td>Public</td>\n",
       "      <td>NaN</td>\n",
       "      <td>NaN</td>\n",
       "      <td></td>\n",
       "      <td>NaN</td>\n",
       "      <td>NaN</td>\n",
       "      <td>Y</td>\n",
       "      <td>5/11/2019</td>\n",
       "      <td>ADVANCED CERTIFICATE</td>\n",
       "      <td>Education</td>\n",
       "      <td>NaN</td>\n",
       "    </tr>\n",
       "  </tbody>\n",
       "</table>\n",
       "</div>"
      ],
      "text/plain": [
       "            Fellow ID College Code/Branch  \\\n",
       "376   0034p00001iGQ6m           001650-00   \n",
       "982   0034600001EXcUB           001654-00   \n",
       "2764  00346000002iXd2           009767-00   \n",
       "\n",
       "                                College Name College State  2-year / 4-year  \\\n",
       "376      CITY OF CHICAGO - MALCOLM X COLLEGE            IL                2   \n",
       "982   CITY OF CHICAGO - KENNEDY-KING COLLEGE            IL                2   \n",
       "2764  CITY OF CHICAGO - OLIVE-HARVEY COLLEGE            IL                2   \n",
       "\n",
       "     Public / Private Enrollment Begin Enrollment End Enrollment Status  \\\n",
       "376            Public              NaN            NaN                     \n",
       "982            Public              NaN            NaN                     \n",
       "2764           Public              NaN            NaN                     \n",
       "\n",
       "     Class Level Enrollment Major 1 Graduated? Graduation Date  \\\n",
       "376          NaN                NaN          Y       5/15/2021   \n",
       "982          NaN                NaN          Y      12/14/2019   \n",
       "2764         NaN                NaN          Y       5/11/2019   \n",
       "\n",
       "              Degree Title                      Degree Major 1 Degree Major 2  \n",
       "376   ADVANCED CERTIFICATE                           Education            NaN  \n",
       "982   ADVANCED CERTIFICATE  Repair, Production, & Construction            NaN  \n",
       "2764  ADVANCED CERTIFICATE                           Education            NaN  "
      ]
     },
     "execution_count": 16,
     "metadata": {},
     "output_type": "execute_result"
    }
   ],
   "source": [
    "# find the fellows who earned advanced certificate\n",
    "fellow_ad_cert = nsc.loc[nsc['Degree Title'] == 'ADVANCED CERTIFICATE']\n",
    "fellow_ad_cert"
   ]
  },
  {
   "cell_type": "code",
   "execution_count": 17,
   "metadata": {},
   "outputs": [],
   "source": [
    "# drop rows\n",
    "nsc_copy = nsc_copy.drop(nsc_copy[(nsc_copy['Fellow ID'] == '0034p00001iGQ6m') & (nsc_copy['Degree Title'] == 'BASIC CERTIFICATE')].index)\n",
    "nsc_copy = nsc_copy.drop(nsc_copy[(nsc_copy['Fellow ID'] == '0034600001EXcUB') & (nsc_copy['Degree Title'] == 'BASIC CERTIFICATE')].index)\n",
    "nsc_copy = nsc_copy.drop(nsc_copy[(nsc_copy['Fellow ID'] == '00346000002iXd2') & (nsc_copy['Degree Title'] == 'BASIC CERTIFICATE')].index)"
   ]
  },
  {
   "cell_type": "code",
   "execution_count": 18,
   "metadata": {},
   "outputs": [],
   "source": [
    "# nsc_copy.shape\n",
    "# 5 rows removed"
   ]
  },
  {
   "cell_type": "markdown",
   "metadata": {},
   "source": [
    "### 3) remove rows which have graudation date but no degree type"
   ]
  },
  {
   "cell_type": "code",
   "execution_count": 19,
   "metadata": {},
   "outputs": [],
   "source": [
    "graduated_fellow = nsc.loc[nsc['Graduated?'] == 'Y']"
   ]
  },
  {
   "cell_type": "code",
   "execution_count": 20,
   "metadata": {},
   "outputs": [],
   "source": [
    "# graduated_fellow.head()"
   ]
  },
  {
   "cell_type": "code",
   "execution_count": 21,
   "metadata": {},
   "outputs": [],
   "source": [
    "# fellows who have more than one graduation records\n",
    "counts = graduated_fellow['Fellow ID'].value_counts()\n",
    "graduated_fellow_more_than_one = graduated_fellow[graduated_fellow['Fellow ID'].isin(counts.index[counts > 1])]"
   ]
  },
  {
   "cell_type": "code",
   "execution_count": 22,
   "metadata": {},
   "outputs": [
    {
     "data": {
      "text/plain": [
       "array(['0034p00001huqzw', '00346000002iXbP', '00346000002iXf4',\n",
       "       '0034p00001iGQ6m', '00346000002iXan', '00346000002iXes',\n",
       "       '00346000002iXXW', '00346000002iXcp', '00346000002iXZM',\n",
       "       '0034p00001iGQ5v', '00346000002iXZR', '0034600001EXcUB',\n",
       "       '00346000002iXXU', '0034p00001iGQ61', '00346000002iXXI',\n",
       "       '00346000002iXZF', '00346000002iXev', '00346000002iXZt',\n",
       "       '00346000002iXco', '00346000002iXXB', '00346000002iXYx',\n",
       "       '00346000002iXa3', '00346000002iWAj', '0034p00001jVylT',\n",
       "       '00346000002iWOw', '00346000002iXd2', '00346000002iXZZ',\n",
       "       '00346000002iW9n', '00346000002iXaZ', '00346000002iXbo',\n",
       "       '00346000002iXcJ', '00346000002iXaO', '0034p00001huJkF',\n",
       "       '00346000002iXZb', '00346000002iXbZ', '00346000002iXaD',\n",
       "       '00346000002iXbN', '00346000002iXZc', '00346000002iXZq',\n",
       "       '00346000002iWAF', '00346000002iXdX', '0034p00001iGQ5e',\n",
       "       '00346000002iXaE', '00346000002iXcP', '0034600000iXknH',\n",
       "       '00346000002iXbL', '0034600001EXcSe', '00346000002iXf9',\n",
       "       '00346000002iXZW', '00346000002iXX5', '00346000002iXcF',\n",
       "       '00346000002iXWu', '00346000002iWAc', '00346000002iXXg',\n",
       "       '00346000002iXcS', '00346000002iXbj', '00346000002iXaS',\n",
       "       '0034p00001jVEU8', '00346000002iXf6', '00346000002iXYX',\n",
       "       '00346000002iXWt', '00346000002iXbQ', '0034p00001iGQ5n',\n",
       "       '00346000002iXXo', '00346000002iXa6', '00346000002iWAA',\n",
       "       '00346000002iXdq'], dtype=object)"
      ]
     },
     "execution_count": 22,
     "metadata": {},
     "output_type": "execute_result"
    }
   ],
   "source": [
    "graduated_fellow_more_than_one['Fellow ID'].unique()"
   ]
  },
  {
   "cell_type": "markdown",
   "metadata": {},
   "source": [
    "**We found that if there is a graduation date but no degree title, in most cases, this is because the graduation date is trying to record the last date of the last semester. There will be another row recording both actuall graduation date and degree title. Therefore, we can remove those rows which have graduation date but no degree title.**"
   ]
  },
  {
   "cell_type": "code",
   "execution_count": 23,
   "metadata": {},
   "outputs": [],
   "source": [
    "# drop those rows which have a graduation date but no degree title\n",
    "nsc_copy = nsc_copy.drop(nsc_copy[(nsc_copy['Graduated?'] == 'Y') & (nsc_copy['Degree Title'].isnull())].index)"
   ]
  },
  {
   "cell_type": "code",
   "execution_count": 24,
   "metadata": {},
   "outputs": [],
   "source": [
    "# nsc_copy.shape\n",
    "# 39 rows removed"
   ]
  },
  {
   "cell_type": "markdown",
   "metadata": {},
   "source": [
    "**the following fellows are removed:**\n",
    "['0034p00001jVEU7', '0034600001EXcSa', '00346000002iWAv', '00346000002iXbv', '00346000002iXeF']\n",
    "\n",
    "*they only have one record which has a graduation date but no degree type. They cannot be used to compute duration anyways. So removed.*"
   ]
  },
  {
   "cell_type": "markdown",
   "metadata": {},
   "source": [
    "**conclusion:**\n",
    "- removed 17 rows --> high school scholar\n",
    "- removed 5 rows --> basic certificate\n",
    "- removed 39 rows --> have graduation date but no degree type (most are reduplications)"
   ]
  },
  {
   "cell_type": "code",
   "execution_count": 35,
   "metadata": {},
   "outputs": [],
   "source": [
    "# write as csv file\n",
    "# nsc_copy.to_csv('NSC_new_version_1025.csv', encoding='utf-8', index=False)"
   ]
  },
  {
   "cell_type": "markdown",
   "metadata": {},
   "source": [
    "# Pacing"
   ]
  },
  {
   "cell_type": "markdown",
   "metadata": {},
   "source": [
    "### Tracking start date of their first semester as a college student"
   ]
  },
  {
   "cell_type": "code",
   "execution_count": 246,
   "metadata": {},
   "outputs": [],
   "source": [
    "first_semester = nsc.loc[nsc.groupby(nsc['Fellow ID'], as_index = False)['Enrollment Begin'].idxmin()]"
   ]
  },
  {
   "cell_type": "code",
   "execution_count": 266,
   "metadata": {
    "scrolled": false
   },
   "outputs": [
    {
     "data": {
      "text/html": [
       "<div>\n",
       "<style scoped>\n",
       "    .dataframe tbody tr th:only-of-type {\n",
       "        vertical-align: middle;\n",
       "    }\n",
       "\n",
       "    .dataframe tbody tr th {\n",
       "        vertical-align: top;\n",
       "    }\n",
       "\n",
       "    .dataframe thead th {\n",
       "        text-align: right;\n",
       "    }\n",
       "</style>\n",
       "<table border=\"1\" class=\"dataframe\">\n",
       "  <thead>\n",
       "    <tr style=\"text-align: right;\">\n",
       "      <th></th>\n",
       "      <th>Fellow ID</th>\n",
       "      <th>College Code/Branch</th>\n",
       "      <th>College Name</th>\n",
       "      <th>College State</th>\n",
       "      <th>2-year / 4-year</th>\n",
       "      <th>Public / Private</th>\n",
       "      <th>Enrollment Begin</th>\n",
       "      <th>Enrollment End</th>\n",
       "      <th>Enrollment Status</th>\n",
       "      <th>Class Level</th>\n",
       "      <th>Enrollment Major 1</th>\n",
       "      <th>Graduated?</th>\n",
       "      <th>Graduation Date</th>\n",
       "      <th>Degree Title</th>\n",
       "      <th>Degree Major 1</th>\n",
       "      <th>Degree Major 2</th>\n",
       "      <th>Month</th>\n",
       "      <th>Year</th>\n",
       "      <th>First_semester_start</th>\n",
       "    </tr>\n",
       "  </thead>\n",
       "  <tbody>\n",
       "    <tr>\n",
       "      <td>5049</td>\n",
       "      <td>00346000002iW9l</td>\n",
       "      <td>001674-00</td>\n",
       "      <td>EASTERN ILLINOIS UNIVERSITY</td>\n",
       "      <td>IL</td>\n",
       "      <td>4</td>\n",
       "      <td>Public</td>\n",
       "      <td>2013-08-14</td>\n",
       "      <td>2013-12-16</td>\n",
       "      <td>Full-time</td>\n",
       "      <td>NaN</td>\n",
       "      <td>NaN</td>\n",
       "      <td>N</td>\n",
       "      <td>NaN</td>\n",
       "      <td>NaN</td>\n",
       "      <td>NaN</td>\n",
       "      <td>NaN</td>\n",
       "      <td>8</td>\n",
       "      <td>2013</td>\n",
       "      <td>2013-08-01</td>\n",
       "    </tr>\n",
       "    <tr>\n",
       "      <td>5041</td>\n",
       "      <td>00346000002iW9m</td>\n",
       "      <td>001594-00</td>\n",
       "      <td>SPELMAN COLLEGE</td>\n",
       "      <td>GA</td>\n",
       "      <td>4</td>\n",
       "      <td>Private</td>\n",
       "      <td>2013-08-21</td>\n",
       "      <td>2013-12-13</td>\n",
       "      <td>Full-time</td>\n",
       "      <td>NaN</td>\n",
       "      <td>NaN</td>\n",
       "      <td>N</td>\n",
       "      <td>NaN</td>\n",
       "      <td>NaN</td>\n",
       "      <td>NaN</td>\n",
       "      <td>NaN</td>\n",
       "      <td>8</td>\n",
       "      <td>2013</td>\n",
       "      <td>2013-08-01</td>\n",
       "    </tr>\n",
       "    <tr>\n",
       "      <td>2972</td>\n",
       "      <td>00346000002iW9n</td>\n",
       "      <td>001775-00</td>\n",
       "      <td>UNIVERSITY OF ILLINOIS @ URBANA</td>\n",
       "      <td>IL</td>\n",
       "      <td>4</td>\n",
       "      <td>Public</td>\n",
       "      <td>2013-08-26</td>\n",
       "      <td>2013-12-20</td>\n",
       "      <td>Full-time</td>\n",
       "      <td>NaN</td>\n",
       "      <td>NaN</td>\n",
       "      <td>N</td>\n",
       "      <td>NaN</td>\n",
       "      <td>NaN</td>\n",
       "      <td>NaN</td>\n",
       "      <td>NaN</td>\n",
       "      <td>8</td>\n",
       "      <td>2013</td>\n",
       "      <td>2013-08-01</td>\n",
       "    </tr>\n",
       "    <tr>\n",
       "      <td>5332</td>\n",
       "      <td>00346000002iW9o</td>\n",
       "      <td>002920-00</td>\n",
       "      <td>DUKE UNIVERSITY</td>\n",
       "      <td>NC</td>\n",
       "      <td>4</td>\n",
       "      <td>Private</td>\n",
       "      <td>2013-08-26</td>\n",
       "      <td>2013-12-30</td>\n",
       "      <td>Full-time</td>\n",
       "      <td>NaN</td>\n",
       "      <td>NaN</td>\n",
       "      <td>N</td>\n",
       "      <td>NaN</td>\n",
       "      <td>NaN</td>\n",
       "      <td>NaN</td>\n",
       "      <td>NaN</td>\n",
       "      <td>8</td>\n",
       "      <td>2013</td>\n",
       "      <td>2013-08-01</td>\n",
       "    </tr>\n",
       "    <tr>\n",
       "      <td>4670</td>\n",
       "      <td>00346000002iW9p</td>\n",
       "      <td>001674-00</td>\n",
       "      <td>EASTERN ILLINOIS UNIVERSITY</td>\n",
       "      <td>IL</td>\n",
       "      <td>4</td>\n",
       "      <td>Public</td>\n",
       "      <td>2013-08-14</td>\n",
       "      <td>2013-12-16</td>\n",
       "      <td>Full-time</td>\n",
       "      <td>NaN</td>\n",
       "      <td>NaN</td>\n",
       "      <td>N</td>\n",
       "      <td>NaN</td>\n",
       "      <td>NaN</td>\n",
       "      <td>NaN</td>\n",
       "      <td>NaN</td>\n",
       "      <td>8</td>\n",
       "      <td>2013</td>\n",
       "      <td>2013-08-01</td>\n",
       "    </tr>\n",
       "  </tbody>\n",
       "</table>\n",
       "</div>"
      ],
      "text/plain": [
       "            Fellow ID College Code/Branch                     College Name  \\\n",
       "5049  00346000002iW9l           001674-00      EASTERN ILLINOIS UNIVERSITY   \n",
       "5041  00346000002iW9m           001594-00                  SPELMAN COLLEGE   \n",
       "2972  00346000002iW9n           001775-00  UNIVERSITY OF ILLINOIS @ URBANA   \n",
       "5332  00346000002iW9o           002920-00                  DUKE UNIVERSITY   \n",
       "4670  00346000002iW9p           001674-00      EASTERN ILLINOIS UNIVERSITY   \n",
       "\n",
       "     College State  2-year / 4-year Public / Private Enrollment Begin  \\\n",
       "5049            IL                4           Public       2013-08-14   \n",
       "5041            GA                4          Private       2013-08-21   \n",
       "2972            IL                4           Public       2013-08-26   \n",
       "5332            NC                4          Private       2013-08-26   \n",
       "4670            IL                4           Public       2013-08-14   \n",
       "\n",
       "     Enrollment End Enrollment Status Class Level Enrollment Major 1  \\\n",
       "5049     2013-12-16         Full-time         NaN                NaN   \n",
       "5041     2013-12-13         Full-time         NaN                NaN   \n",
       "2972     2013-12-20         Full-time         NaN                NaN   \n",
       "5332     2013-12-30         Full-time         NaN                NaN   \n",
       "4670     2013-12-16         Full-time         NaN                NaN   \n",
       "\n",
       "     Graduated? Graduation Date Degree Title Degree Major 1 Degree Major 2  \\\n",
       "5049          N             NaN          NaN            NaN            NaN   \n",
       "5041          N             NaN          NaN            NaN            NaN   \n",
       "2972          N             NaN          NaN            NaN            NaN   \n",
       "5332          N             NaN          NaN            NaN            NaN   \n",
       "4670          N             NaN          NaN            NaN            NaN   \n",
       "\n",
       "      Month  Year First_semester_start  \n",
       "5049      8  2013           2013-08-01  \n",
       "5041      8  2013           2013-08-01  \n",
       "2972      8  2013           2013-08-01  \n",
       "5332      8  2013           2013-08-01  \n",
       "4670      8  2013           2013-08-01  "
      ]
     },
     "execution_count": 266,
     "metadata": {},
     "output_type": "execute_result"
    }
   ],
   "source": [
    "first_semester.head()"
   ]
  },
  {
   "cell_type": "code",
   "execution_count": 247,
   "metadata": {},
   "outputs": [
    {
     "data": {
      "text/plain": [
       "5049   2013-08-14\n",
       "5041   2013-08-21\n",
       "2972   2013-08-26\n",
       "5332   2013-08-26\n",
       "4670   2013-08-14\n",
       "          ...    \n",
       "3049   2021-08-23\n",
       "3086   2021-08-30\n",
       "6045   2021-08-23\n",
       "1495   2021-08-23\n",
       "3936   2021-08-25\n",
       "Name: Enrollment Begin, Length: 1029, dtype: datetime64[ns]"
      ]
     },
     "execution_count": 247,
     "metadata": {},
     "output_type": "execute_result"
    }
   ],
   "source": [
    "# each fellow start date of their first semester\n",
    "first_semester['Enrollment Begin']"
   ]
  },
  {
   "cell_type": "code",
   "execution_count": 253,
   "metadata": {},
   "outputs": [],
   "source": [
    "# aggregate to month\n",
    "first_semester['First_semester_start'] = first_semester['Enrollment Begin'].dt.strftime('%Y-%m')"
   ]
  },
  {
   "cell_type": "code",
   "execution_count": 257,
   "metadata": {},
   "outputs": [],
   "source": [
    "first_semester['First_semester_start'] = pd.to_datetime(first_semester['First_semester_start'])"
   ]
  },
  {
   "cell_type": "code",
   "execution_count": 263,
   "metadata": {},
   "outputs": [
    {
     "data": {
      "image/png": "[encoded data removed]",
      "text/plain": [
       "<Figure size 864x576 with 1 Axes>"
      ]
     },
     "metadata": {},
     "output_type": "display_data"
    }
   ],
   "source": [
    "# this is a countplot: each fellow start date of their first semester\n",
    "plt.figure(figsize=(12,8))\n",
    "graph = sns.countplot(x=\"First_semester_start\", data=first_semester)\n",
    "graph.set_xticklabels(graph.get_xticklabels(), rotation=90)\n",
    "plt.show()"
   ]
  },
  {
   "cell_type": "markdown",
   "metadata": {},
   "source": [
    "**Conclusion**\n",
    "- We found that the first-semester-start-date ranges from 2012/01 to 2021/08\n",
    "- Most fellows enroll in Aug or Sept\n",
    "- 2017 and 2020 has the lowest enrollments"
   ]
  },
  {
   "cell_type": "code",
   "execution_count": null,
   "metadata": {},
   "outputs": [],
   "source": []
  },
  {
   "cell_type": "markdown",
   "metadata": {},
   "source": [
    "### Track number of actual degrees and certificates received"
   ]
  },
  {
   "cell_type": "code",
   "execution_count": 42,
   "metadata": {
    "scrolled": false
   },
   "outputs": [
    {
     "data": {
      "text/plain": [
       "array([nan, 'ASSOCIATE IN ARTS', 'ASSOCIATE OF ARTS', 'GECC CREDENTIAL',\n",
       "       'BACHELOR OF ARTS', 'BACHELOR OF SOCIAL WORK',\n",
       "       'BACHELOR OF SCIENCE', 'CERT', 'BASIC CERTIFICATE',\n",
       "       'ADVANCED CERTIFICATE', 'BA  LIBERAL ARTS AND SCIENCE', 'B.A.',\n",
       "       'MASTER OF SCIENCE', 'MASTER OF ARTS IN SPORTS ADMIN',\n",
       "       'ASSOCIATE IN APPLIED SCIENCE', 'ASSOCIATE IN GENERAL STUDIES',\n",
       "       'ARTIUM BACCALAUREI', 'MASTER OF EDUCATION', 'MASTER OF ARTS',\n",
       "       'BS  LIBERAL ARTS AND SCIENCE', 'MASTER OF ARTS IN TEACHING',\n",
       "       'B.S. IN BUSINESS ADMINISTRATION', 'MASTER OF SOCIAL WORK',\n",
       "       'ASSOCIATE IN SCIENCE', 'BACHELOR OF GENERAL STUDIES',\n",
       "       'ASSOCIATE OF SCIENCE', 'BACHELOR OF SCIENCE IN EDUCATION',\n",
       "       'BACHELOR OF FINE ARTS', 'CERTIFICATE IN WRITING', 'BA',\n",
       "       'BACHELOR OF ARTS EDUCATION', 'JURIS DOCTOR', 'CERTIFICATE', 'MPH',\n",
       "       'BS', 'BACHELOR OF SCIENCE IN ENGINEERING INDUST & OPER E',\n",
       "       'ASSOCIATE OF APPLIED SCIENCE', 'B.A. IN BEHAVIORAL SCIENCES',\n",
       "       'MASTER OF SCIENCE IN EDUCATION', 'BS  EDUCATION & SOCIAL POLICY',\n",
       "       'BACHELOR OF APPLIED SCIENCE', 'MSED', 'MBA', 'BACHELOR OF SWK',\n",
       "       'BACH OF SCI IN BUSINESS ADMIN',\n",
       "       'BACHELOR OF SCIENCE IN CHEMICAL ENGINEERING', 'DIPLOMA',\n",
       "       'BS-PERSONAL FINANCE', 'BACHELOR OF HEALTH SCIENCE',\n",
       "       'BACHELOR HEALTH SCIENCE', 'UNDERGRADUATE CERTIFICATE',\n",
       "       'BACHELOR OF BUSINESS ADMIN', 'BSB/FP', 'BS IN JOURNALISM',\n",
       "       'MINOR DEGREE'], dtype=object)"
      ]
     },
     "execution_count": 42,
     "metadata": {},
     "output_type": "execute_result"
    }
   ],
   "source": [
    "nsc['Degree Title'].unique()"
   ]
  },
  {
   "cell_type": "markdown",
   "metadata": {},
   "source": [
    "- *GECC CREDENTIAL: the General Education Core Curriculum (GECC) Credential is an award provided by a community college for completion of the 37 to 41 credit hours which satisfy the GECC of the Illinois Articulation Initiative (IAI).*\n",
    "- *BSB/FP: Bachelor of Science in Business / Bachelor of Science in Financial Planning*\n",
    "- *MPH: A Master of Public Health*\n",
    "- *ARTIUM BACCALAUREI --> Bachelor of Arts*\n",
    "- *DIPLOMA --> certificate (00346000002iXcS) only one fellow*\n",
    "- *MINOR DEGREE: An academic minor degree is a university or college student's secondary declared academic discipline or field of study for their undergraduate degree. ... Minor degree refers to a supplemental second discipline of study and concentration that often complements the major. (00346000002iWAA)*"
   ]
  },
  {
   "cell_type": "code",
   "execution_count": 76,
   "metadata": {},
   "outputs": [],
   "source": [
    "# create a df contians 'Degree Title'\n",
    "contian_Degree_Title = nsc.loc[nsc['Degree Title'].notnull()]\n",
    "\n",
    "# contian_Degree_Title['Degree Title'].nunique() -- 54 unique values \n",
    "# contian_Degree_Title['Fellow ID'].nunique() -- 258(/340) unique values: some fellows may have more than one degree"
   ]
  },
  {
   "cell_type": "code",
   "execution_count": 73,
   "metadata": {},
   "outputs": [],
   "source": [
    "# combine degrees into five big categories: bachelor; associate; master; certificate; JD\n"
   ]
  },
  {
   "cell_type": "code",
   "execution_count": 84,
   "metadata": {},
   "outputs": [],
   "source": [
    "def classify(x):\n",
    "    if x[0] == 'M' and x[1] != 'I':\n",
    "        return 'Master'\n",
    "    elif x[0] == 'A' and x[1] == 'S':\n",
    "        return 'Associate'\n",
    "    elif 'CERT' in x  or 'DIPLOMA' in x:\n",
    "        return 'Certificate'\n",
    "    elif 'JURIS' in x:\n",
    "        return 'JD'\n",
    "    elif x == 'MINOR DEGREE':\n",
    "        return 'MINOR DEGREE'\n",
    "    elif x == 'GECC CREDENTIAL':\n",
    "        return 'GECC CREDENTIAL'\n",
    "    else:\n",
    "        return 'Bachelor'"
   ]
  },
  {
   "cell_type": "code",
   "execution_count": 85,
   "metadata": {},
   "outputs": [],
   "source": [
    "contian_Degree_Title['gen_degree'] = contian_Degree_Title['Degree Title'].apply(classify)"
   ]
  },
  {
   "cell_type": "code",
   "execution_count": 89,
   "metadata": {},
   "outputs": [],
   "source": [
    "# check\n",
    "#contian_Degree_Title[contian_Degree_Title['gen_degree'] == 'MINOR DEGREE']"
   ]
  },
  {
   "cell_type": "code",
   "execution_count": 91,
   "metadata": {},
   "outputs": [],
   "source": [
    "# contian_Degree_Title.head(10)"
   ]
  },
  {
   "cell_type": "code",
   "execution_count": 104,
   "metadata": {},
   "outputs": [
    {
     "data": {
      "image/png": "[encoded data removed]",
      "text/plain": [
       "<Figure size 720x432 with 1 Axes>"
      ]
     },
     "metadata": {},
     "output_type": "display_data"
    }
   ],
   "source": [
    "ax = sns.countplot(y=\"gen_degree\", \n",
    "              data=contian_Degree_Title,\n",
    "              order = contian_Degree_Title['gen_degree'].value_counts().index)\n",
    "\n",
    "for p in ax.patches:\n",
    "    width = p.get_width()    # get bar length\n",
    "    ax.text(width + 1,       # set the text at 1 unit right of the bar\n",
    "            p.get_y() + p.get_height() / 2, # get Y coordinate + X coordinate / 2\n",
    "            '{:1.2f}'.format(width), # set variable to display, 2 decimals\n",
    "            ha = 'left',   # horizontal alignment\n",
    "            va = 'center')  # vertical alignment"
   ]
  },
  {
   "cell_type": "markdown",
   "metadata": {},
   "source": [
    "### Fellows who have grduation record"
   ]
  },
  {
   "cell_type": "code",
   "execution_count": 106,
   "metadata": {},
   "outputs": [],
   "source": [
    "graduated_fellow = nsc.loc[nsc['Graduated?'] == 'Y']"
   ]
  },
  {
   "cell_type": "code",
   "execution_count": 267,
   "metadata": {},
   "outputs": [
    {
     "data": {
      "text/html": [
       "<div>\n",
       "<style scoped>\n",
       "    .dataframe tbody tr th:only-of-type {\n",
       "        vertical-align: middle;\n",
       "    }\n",
       "\n",
       "    .dataframe tbody tr th {\n",
       "        vertical-align: top;\n",
       "    }\n",
       "\n",
       "    .dataframe thead th {\n",
       "        text-align: right;\n",
       "    }\n",
       "</style>\n",
       "<table border=\"1\" class=\"dataframe\">\n",
       "  <thead>\n",
       "    <tr style=\"text-align: right;\">\n",
       "      <th></th>\n",
       "      <th>Fellow ID</th>\n",
       "      <th>College Code/Branch</th>\n",
       "      <th>College Name</th>\n",
       "      <th>College State</th>\n",
       "      <th>2-year / 4-year</th>\n",
       "      <th>Public / Private</th>\n",
       "      <th>Enrollment Begin</th>\n",
       "      <th>Enrollment End</th>\n",
       "      <th>Enrollment Status</th>\n",
       "      <th>Class Level</th>\n",
       "      <th>Enrollment Major 1</th>\n",
       "      <th>Graduated?</th>\n",
       "      <th>Graduation Date</th>\n",
       "      <th>Degree Title</th>\n",
       "      <th>Degree Major 1</th>\n",
       "      <th>Degree Major 2</th>\n",
       "    </tr>\n",
       "  </thead>\n",
       "  <tbody>\n",
       "    <tr>\n",
       "      <td>8</td>\n",
       "      <td>00346000002iXdj</td>\n",
       "      <td>009767-00</td>\n",
       "      <td>CITY OF CHICAGO - OLIVE-HARVEY COLLEGE</td>\n",
       "      <td>IL</td>\n",
       "      <td>2</td>\n",
       "      <td>Public</td>\n",
       "      <td>NaN</td>\n",
       "      <td>NaN</td>\n",
       "      <td></td>\n",
       "      <td>NaN</td>\n",
       "      <td>NaN</td>\n",
       "      <td>Y</td>\n",
       "      <td>5/12/2018</td>\n",
       "      <td>ASSOCIATE IN ARTS</td>\n",
       "      <td>Graphic, Visual &amp; Performing Arts</td>\n",
       "      <td>NaN</td>\n",
       "    </tr>\n",
       "    <tr>\n",
       "      <td>30</td>\n",
       "      <td>0034600001EXcSL</td>\n",
       "      <td>001709-00</td>\n",
       "      <td>LINCOLN COLLEGE</td>\n",
       "      <td>IL</td>\n",
       "      <td>4</td>\n",
       "      <td>Private</td>\n",
       "      <td>NaN</td>\n",
       "      <td>NaN</td>\n",
       "      <td></td>\n",
       "      <td>NaN</td>\n",
       "      <td>NaN</td>\n",
       "      <td>Y</td>\n",
       "      <td>8/8/2020</td>\n",
       "      <td>ASSOCIATE OF ARTS</td>\n",
       "      <td>General Studies</td>\n",
       "      <td>NaN</td>\n",
       "    </tr>\n",
       "    <tr>\n",
       "      <td>48</td>\n",
       "      <td>0034p00001huqzw</td>\n",
       "      <td>001649-00</td>\n",
       "      <td>CITY OF CHICAGO - RICHARD J. DALEY COLLEGE</td>\n",
       "      <td>IL</td>\n",
       "      <td>2</td>\n",
       "      <td>Public</td>\n",
       "      <td>NaN</td>\n",
       "      <td>NaN</td>\n",
       "      <td></td>\n",
       "      <td>NaN</td>\n",
       "      <td>NaN</td>\n",
       "      <td>Y</td>\n",
       "      <td>5/15/2021</td>\n",
       "      <td>ASSOCIATE IN ARTS</td>\n",
       "      <td>Accounting, Economics &amp; Finance</td>\n",
       "      <td>NaN</td>\n",
       "    </tr>\n",
       "    <tr>\n",
       "      <td>49</td>\n",
       "      <td>0034p00001huqzw</td>\n",
       "      <td>001649-00</td>\n",
       "      <td>CITY OF CHICAGO - RICHARD J. DALEY COLLEGE</td>\n",
       "      <td>IL</td>\n",
       "      <td>2</td>\n",
       "      <td>Public</td>\n",
       "      <td>NaN</td>\n",
       "      <td>NaN</td>\n",
       "      <td></td>\n",
       "      <td>NaN</td>\n",
       "      <td>NaN</td>\n",
       "      <td>Y</td>\n",
       "      <td>5/15/2021</td>\n",
       "      <td>GECC CREDENTIAL</td>\n",
       "      <td>General Studies</td>\n",
       "      <td>NaN</td>\n",
       "    </tr>\n",
       "    <tr>\n",
       "      <td>61</td>\n",
       "      <td>00346000002iXbP</td>\n",
       "      <td>001652-00</td>\n",
       "      <td>CITY OF CHICAGO - HAROLD WASHINGTON COLLEGE</td>\n",
       "      <td>IL</td>\n",
       "      <td>2</td>\n",
       "      <td>Public</td>\n",
       "      <td>NaN</td>\n",
       "      <td>NaN</td>\n",
       "      <td></td>\n",
       "      <td>NaN</td>\n",
       "      <td>NaN</td>\n",
       "      <td>Y</td>\n",
       "      <td>12/14/2019</td>\n",
       "      <td>GECC CREDENTIAL</td>\n",
       "      <td>General Studies</td>\n",
       "      <td>NaN</td>\n",
       "    </tr>\n",
       "  </tbody>\n",
       "</table>\n",
       "</div>"
      ],
      "text/plain": [
       "          Fellow ID College Code/Branch  \\\n",
       "8   00346000002iXdj           009767-00   \n",
       "30  0034600001EXcSL           001709-00   \n",
       "48  0034p00001huqzw           001649-00   \n",
       "49  0034p00001huqzw           001649-00   \n",
       "61  00346000002iXbP           001652-00   \n",
       "\n",
       "                                   College Name College State  \\\n",
       "8        CITY OF CHICAGO - OLIVE-HARVEY COLLEGE            IL   \n",
       "30                              LINCOLN COLLEGE            IL   \n",
       "48   CITY OF CHICAGO - RICHARD J. DALEY COLLEGE            IL   \n",
       "49   CITY OF CHICAGO - RICHARD J. DALEY COLLEGE            IL   \n",
       "61  CITY OF CHICAGO - HAROLD WASHINGTON COLLEGE            IL   \n",
       "\n",
       "    2-year / 4-year Public / Private Enrollment Begin Enrollment End  \\\n",
       "8                 2           Public              NaN            NaN   \n",
       "30                4          Private              NaN            NaN   \n",
       "48                2           Public              NaN            NaN   \n",
       "49                2           Public              NaN            NaN   \n",
       "61                2           Public              NaN            NaN   \n",
       "\n",
       "   Enrollment Status Class Level Enrollment Major 1 Graduated?  \\\n",
       "8                            NaN                NaN          Y   \n",
       "30                           NaN                NaN          Y   \n",
       "48                           NaN                NaN          Y   \n",
       "49                           NaN                NaN          Y   \n",
       "61                           NaN                NaN          Y   \n",
       "\n",
       "   Graduation Date       Degree Title                     Degree Major 1  \\\n",
       "8        5/12/2018  ASSOCIATE IN ARTS  Graphic, Visual & Performing Arts   \n",
       "30        8/8/2020  ASSOCIATE OF ARTS                    General Studies   \n",
       "48       5/15/2021  ASSOCIATE IN ARTS    Accounting, Economics & Finance   \n",
       "49       5/15/2021    GECC CREDENTIAL                    General Studies   \n",
       "61      12/14/2019    GECC CREDENTIAL                    General Studies   \n",
       "\n",
       "   Degree Major 2  \n",
       "8             NaN  \n",
       "30            NaN  \n",
       "48            NaN  \n",
       "49            NaN  \n",
       "61            NaN  "
      ]
     },
     "execution_count": 267,
     "metadata": {},
     "output_type": "execute_result"
    }
   ],
   "source": [
    "graduated_fellow.head()"
   ]
  },
  {
   "cell_type": "code",
   "execution_count": 111,
   "metadata": {},
   "outputs": [],
   "source": [
    "# graduated_fellow['Fellow ID'].nunique() -- 263 unique IDs"
   ]
  },
  {
   "cell_type": "code",
   "execution_count": 113,
   "metadata": {},
   "outputs": [],
   "source": [
    "# graduated_fellow.count() -- 359 total records"
   ]
  },
  {
   "cell_type": "code",
   "execution_count": 116,
   "metadata": {},
   "outputs": [],
   "source": [
    "# fellows who have more than one graduation records\n",
    "counts = graduated_fellow['Fellow ID'].value_counts()\n",
    "graduated_fellow_more_than_one = graduated_fellow[graduated_fellow['Fellow ID'].isin(counts.index[counts > 1])]"
   ]
  },
  {
   "cell_type": "code",
   "execution_count": 119,
   "metadata": {},
   "outputs": [
    {
     "data": {
      "text/plain": [
       "array(['0034p00001huqzw', '00346000002iXbP', '00346000002iXf4',\n",
       "       '0034p00001iGQ6m', '00346000002iXan', '00346000002iXes',\n",
       "       '00346000002iXXW', '00346000002iXcp', '00346000002iXZM',\n",
       "       '0034p00001iGQ5v', '00346000002iXZR', '0034600001EXcUB',\n",
       "       '00346000002iXXU', '0034p00001iGQ61', '00346000002iXXI',\n",
       "       '00346000002iXZF', '00346000002iXev', '00346000002iXZt',\n",
       "       '00346000002iXco', '00346000002iXXB', '00346000002iXYx',\n",
       "       '00346000002iXa3', '00346000002iWAj', '0034p00001jVylT',\n",
       "       '00346000002iWOw', '00346000002iXd2', '00346000002iXZZ',\n",
       "       '00346000002iW9n', '00346000002iXaZ', '00346000002iXbo',\n",
       "       '00346000002iXcJ', '00346000002iXaO', '0034p00001huJkF',\n",
       "       '00346000002iXZb', '00346000002iXbZ', '00346000002iXaD',\n",
       "       '00346000002iXbN', '00346000002iXZc', '00346000002iXZq',\n",
       "       '00346000002iWAF', '00346000002iXdX', '0034p00001iGQ5e',\n",
       "       '00346000002iXaE', '00346000002iXcP', '0034600000iXknH',\n",
       "       '00346000002iXbL', '0034600001EXcSe', '00346000002iXf9',\n",
       "       '00346000002iXZW', '00346000002iXX5', '00346000002iXcF',\n",
       "       '00346000002iXWu', '00346000002iWAc', '00346000002iXXg',\n",
       "       '00346000002iXcS', '00346000002iXbj', '00346000002iXaS',\n",
       "       '0034p00001jVEU8', '00346000002iXf6', '00346000002iXYX',\n",
       "       '00346000002iXWt', '00346000002iXbQ', '0034p00001iGQ5n',\n",
       "       '00346000002iXXo', '00346000002iXa6', '00346000002iWAA',\n",
       "       '00346000002iXdq'], dtype=object)"
      ]
     },
     "execution_count": 119,
     "metadata": {},
     "output_type": "execute_result"
    }
   ],
   "source": [
    "graduated_fellow_more_than_one['Fellow ID'].unique()"
   ]
  },
  {
   "cell_type": "markdown",
   "metadata": {},
   "source": [
    "**We found that if there is a graduation date but no degree title, in most cases, this is because the graduation date is trying to record the last date of the last semester. There will be another row recording both actuall graduation date and degree title. Therefore, we can remove those rows which have graduation date but no degree title.**"
   ]
  },
  {
   "cell_type": "code",
   "execution_count": 137,
   "metadata": {},
   "outputs": [],
   "source": [
    "# this is a test... Make a copy\n",
    "graduated_fellow_copy = graduated_fellow.copy()"
   ]
  },
  {
   "cell_type": "code",
   "execution_count": 138,
   "metadata": {},
   "outputs": [
    {
     "data": {
      "text/plain": [
       "(359, 16)"
      ]
     },
     "execution_count": 138,
     "metadata": {},
     "output_type": "execute_result"
    }
   ],
   "source": [
    "graduated_fellow_copy.shape"
   ]
  },
  {
   "cell_type": "code",
   "execution_count": 140,
   "metadata": {},
   "outputs": [],
   "source": [
    "# drop those rows which have a graduation date but no degree title\n",
    "graduated_fellow_copy = graduated_fellow_copy.drop(graduated_fellow_copy[(graduated_fellow_copy['Graduated?'] == 'Y') & (graduated_fellow_copy['Degree Title'].isnull())].index)"
   ]
  },
  {
   "cell_type": "code",
   "execution_count": 141,
   "metadata": {},
   "outputs": [
    {
     "data": {
      "text/plain": [
       "(320, 16)"
      ]
     },
     "execution_count": 141,
     "metadata": {},
     "output_type": "execute_result"
    }
   ],
   "source": [
    "# 39 rows are removed\n",
    "graduated_fellow_copy.shape"
   ]
  },
  {
   "cell_type": "code",
   "execution_count": 277,
   "metadata": {},
   "outputs": [
    {
     "data": {
      "text/plain": [
       "263"
      ]
     },
     "execution_count": 277,
     "metadata": {},
     "output_type": "execute_result"
    }
   ],
   "source": [
    "graduated_fellow['Fellow ID'].nunique()"
   ]
  },
  {
   "cell_type": "code",
   "execution_count": 271,
   "metadata": {},
   "outputs": [
    {
     "data": {
      "text/plain": [
       "258"
      ]
     },
     "execution_count": 271,
     "metadata": {},
     "output_type": "execute_result"
    }
   ],
   "source": [
    "# there are still 258 unique fellow IDs. (previously, there are 263)\n",
    "# the following fellows are removed:\n",
    "# ['0034p00001jVEU7', '0034600001EXcSa', '00346000002iWAv', '00346000002iXbv', '00346000002iXeF']\n",
    "graduated_fellow_copy['Fellow ID'].nunique()"
   ]
  },
  {
   "cell_type": "code",
   "execution_count": 278,
   "metadata": {},
   "outputs": [
    {
     "name": "stdout",
     "output_type": "stream",
     "text": [
      "['0034p00001jVEU7', '0034600001EXcSa', '00346000002iWAv', '00346000002iXbv', '00346000002iXeF']\n"
     ]
    }
   ],
   "source": [
    "# try to find these five fellows\n",
    "lst = []\n",
    "for i in graduated_fellow['Fellow ID'].unique():\n",
    "    if i not in (graduated_fellow_copy['Fellow ID'].unique()):\n",
    "        lst.append(i)\n",
    "\n",
    "print (lst)"
   ]
  },
  {
   "cell_type": "markdown",
   "metadata": {},
   "source": [
    "**Conclusion: This should be applied to the original dataset -- nsc (remove 39 rows)**"
   ]
  },
  {
   "cell_type": "code",
   "execution_count": 280,
   "metadata": {},
   "outputs": [
    {
     "data": {
      "text/plain": [
       "array(['00346000002iXdj', '0034600001EXcSL', '0034p00001huqzw',\n",
       "       '00346000002iXbP', '00346000002iXYO', '00346000002iXWs',\n",
       "       '00346000002iXYZ', '00346000002iXbC', '00346000002iXYw',\n",
       "       '00346000002iXZ1', '0034p00001jVESC', '00346000002iW9q',\n",
       "       '00346000002iWOP', '00346000002iXf4', '00346000002iWOV',\n",
       "       '00346000002iXaP', '0034p00001iGQ6m', '00346000002iXa9',\n",
       "       '00346000002iXan', '00346000002iXa5', '00346000002iXal',\n",
       "       '00346000002iXZD', '00346000002iXYl', '00346000002iXes',\n",
       "       '00346000002iXYH', '00346000002iXaL', '00346000002iXey',\n",
       "       '00346000002iXXW', '00346000002iXcp', '00346000002iXd4',\n",
       "       '00346000002iXZM', '0034p00001iGQ5v', '00346000002iXZR',\n",
       "       '0034p00001jVES9', '0034600001EXcUB', '00346000002iXaJ',\n",
       "       '00346000002iXd0', '00346000002iXef', '00346000002iXfS',\n",
       "       '00346000002iXcu', '00346000002iXXU', '00346000002iXZd',\n",
       "       '00346000002iWAy', '00346000002iXYS', '00346000002iXXp',\n",
       "       '0034600001YKVxj', '00346000002iXYK', '00346000002iXXL',\n",
       "       '00346000002iXbz', '0034600000iXknO', '0034600001YKVxq',\n",
       "       '00346000002iXed', '00346000002iXbJ', '0034p00001iGQ61',\n",
       "       '00346000002iXeH', '00346000002iXY3', '00346000002iXXI',\n",
       "       '0034p00001iGQ5k', '00346000002iXZu', '00346000002iXao',\n",
       "       '00346000002iXZF', '00346000002iXZB', '00346000002iXb6',\n",
       "       '00346000002iXZp', '00346000002iWBB', '00346000002iXY5',\n",
       "       '00346000002iXev', '00346000002iXYI', '00346000002iXat',\n",
       "       '00346000002iXcm', '00346000002iXbs', '00346000002iXZA',\n",
       "       '00346000002iXZt', '00346000002iXco', '00346000002iXYk',\n",
       "       '00346000002iXXf', '00346000002iXds', '00346000002iXX8',\n",
       "       '00346000002iXej', '00346000002iXXB', '0034p00001hurHw',\n",
       "       '00346000002iXeY', '00346000002iXYx', '00346000002iXa3',\n",
       "       '00346000002iXZ0', '00346000002iWAj', '00346000002iXcI',\n",
       "       '00346000002iXY6', '0034p00001jVylT', '00346000002iWAX',\n",
       "       '00346000002iWA2', '00346000002iXaz', '00346000002iWA6',\n",
       "       '00346000002iXZ9', '00346000002iXX9', '00346000002iWAe',\n",
       "       '00346000002iWOw', '0034600000iXkn6', '00346000002iXbF',\n",
       "       '0034600000iXkn8', '00346000002iXf8', '00346000002iXY4',\n",
       "       '00346000002iWBD', '00346000002iXd2', '00346000002iXfT',\n",
       "       '00346000002iWAQ', '00346000002iXXZ', '00346000002iXeS',\n",
       "       '00346000002iXYe', '00346000002iXZ6', '00346000002iXZZ',\n",
       "       '00346000002iW9n', '00346000002iXaI', '00346000002iXaZ',\n",
       "       '00346000002iXdC', '00346000002iXbd', '0034600000lBxVA',\n",
       "       '0034600000iXkne', '00346000002iXf0', '0034600000iXklm',\n",
       "       '00346000002iWAl', '0034600000iXknF', '00346000002iXaK',\n",
       "       '00346000002iXZ7', '00346000002iXbo', '00346000002iXcJ',\n",
       "       '00346000002iXXi', '00346000002iXaO', '0034600001a2svq',\n",
       "       '00346000002iXd1', '00346000002iXeM', '0034p00001huJkF',\n",
       "       '00346000002iXaA', '00346000002iWB8', '00346000002iWAk',\n",
       "       '00346000002iXZb', '00346000002iXX3', '0034p00001kMHRy',\n",
       "       '00346000002iXbZ', '00346000002iXaM', '00346000002iXaD',\n",
       "       '0034p00001f3ni9', '00346000002iXXJ', '00346000002iXbU',\n",
       "       '00346000002iXez', '00346000002iXXm', '00346000002iXbI',\n",
       "       '00346000002iXbN', '00346000002iXc5', '0034600001EXcTx',\n",
       "       '00346000002iXZc', '0034600000iXkmu', '00346000002iXZq',\n",
       "       '00346000002iXf5', '00346000002iWAF', '00346000002iXX0',\n",
       "       '00346000002iXYE', '00346000002iXZe', '00346000002iWA8',\n",
       "       '00346000002iXc9', '00346000002iXc0', '00346000002iWAY',\n",
       "       '00346000002iXdX', '0034p00001iGQ5e', '00346000002iWOD',\n",
       "       '00346000002iXaE', '00346000002iXep', '00346000002iW9p',\n",
       "       '00346000002iXaG', '00346000002iXdF', '00346000002iXcP',\n",
       "       '00346000002iXYv', '00346000002iXcr', '00346000002iXbm',\n",
       "       '00346000002iXZI', '0034600000iXknH', '00346000002iWAz',\n",
       "       '00346000002iXbL', '00346000002iXYu', '0034600001EXcSe',\n",
       "       '00346000002iXc3', '00346000002iXbY', '00346000002iXYW',\n",
       "       '0034p00001iGQ5s', '00346000002iXf9', '00346000002iXbS',\n",
       "       '00346000002iXdN', '00346000002iXZW', '00346000002iXYf',\n",
       "       '00346000002iWA1', '00346000002iW9r', '00346000002iW9o',\n",
       "       '00346000002iWB4', '00346000002iXX5', '0034600000iXkml',\n",
       "       '00346000002iXY2', '00346000002iXfB', '0034p00001jVESA',\n",
       "       '00346000002iWB5', '00346000002iXcF', '00346000002iXYT',\n",
       "       '00346000002iXfN', '00346000002iXcC', '00346000002iXYP',\n",
       "       '00346000002iXWu', '00346000002iWAc', '00346000002iXXg',\n",
       "       '00346000002iXbu', '00346000002iXcS', '00346000002iW9v',\n",
       "       '00346000002iXbH', '00346000002iXbk', '00346000002iXcH',\n",
       "       '00346000002iXZ4', '00346000002iXfH', '00346000002iXbj',\n",
       "       '00346000002iXaW', '00346000002iW9z', '00346000002iXe3',\n",
       "       '00346000002iXb2', '00346000002iXaS', '00346000002iXX2',\n",
       "       '00346000002iXdu', '0034600000iXkmY', '00346000002iXbc',\n",
       "       '00346000002iXeA', '00346000002iXc1', '00346000002iWAg',\n",
       "       '0034p00001jVEU8', '00346000002iXZG', '00346000002iXf6',\n",
       "       '00346000002iXcG', '00346000002iXYX', '00346000002iXXP',\n",
       "       '00346000002iWB3', '00346000002iXWt', '00346000002iXbQ',\n",
       "       '0034p00001iGQ5n', '00346000002iXe2', '00346000002iXXQ',\n",
       "       '00346000002iXX7', '00346000002iXWw', '00346000002iXXo',\n",
       "       '00346000002iXfA', '00346000002iXZ2', '00346000002iXa6',\n",
       "       '00346000002iXbT', '00346000002iXY8', '00346000002iXa0',\n",
       "       '00346000002iXZh', '00346000002iXYR', '00346000002iXYh',\n",
       "       '00346000002iWAA', '00346000002iXXc', '00346000002iXer',\n",
       "       '00346000002iXdq', '00346000002iXae', '00346000002iXeo'],\n",
       "      dtype=object)"
      ]
     },
     "execution_count": 280,
     "metadata": {},
     "output_type": "execute_result"
    }
   ],
   "source": [
    "graduated_fellow_copy['Fellow ID'].unique()"
   ]
  },
  {
   "cell_type": "markdown",
   "metadata": {},
   "source": [
    "### graduated fellows: how long time it takes to get a degree"
   ]
  },
  {
   "cell_type": "code",
   "execution_count": 26,
   "metadata": {},
   "outputs": [
    {
     "data": {
      "text/plain": [
       "(7173, 16)"
      ]
     },
     "execution_count": 26,
     "metadata": {},
     "output_type": "execute_result"
    }
   ],
   "source": [
    "nsc = nsc_copy\n",
    "nsc.shape"
   ]
  },
  {
   "cell_type": "code",
   "execution_count": 27,
   "metadata": {},
   "outputs": [],
   "source": [
    "# convert to timestamp\n",
    "nsc['Enrollment End'] = pd.to_datetime(nsc['Enrollment End'])\n",
    "nsc['Enrollment Begin'] = pd.to_datetime(nsc['Enrollment Begin'])"
   ]
  },
  {
   "cell_type": "markdown",
   "metadata": {},
   "source": [
    "### sub dataset --> only include fellows who have graduation record"
   ]
  },
  {
   "cell_type": "code",
   "execution_count": 158,
   "metadata": {},
   "outputs": [
    {
     "data": {
      "text/plain": [
       "(1287, 16)"
      ]
     },
     "execution_count": 158,
     "metadata": {},
     "output_type": "execute_result"
    }
   ],
   "source": [
    "temp = nsc.groupby([\"Fellow ID\", \"Graduated?\"]).count().reset_index()\n",
    "temp.shape"
   ]
  },
  {
   "cell_type": "code",
   "execution_count": 159,
   "metadata": {},
   "outputs": [],
   "source": [
    "graduate_fellow_id = temp.groupby('Fellow ID').filter(lambda x : x['Fellow ID'].shape[0]>=2)['Fellow ID'].unique()"
   ]
  },
  {
   "cell_type": "code",
   "execution_count": 160,
   "metadata": {},
   "outputs": [],
   "source": [
    "graduated_fellow = nsc[nsc['Fellow ID'].isin(graduate_fellow_id.tolist())]"
   ]
  },
  {
   "cell_type": "code",
   "execution_count": 161,
   "metadata": {},
   "outputs": [
    {
     "data": {
      "text/plain": [
       "(3285, 16)"
      ]
     },
     "execution_count": 161,
     "metadata": {},
     "output_type": "execute_result"
    }
   ],
   "source": [
    "# this dataset contains fellows who have at least one graduation record\n",
    "graduated_fellow.shape"
   ]
  },
  {
   "cell_type": "code",
   "execution_count": 162,
   "metadata": {},
   "outputs": [],
   "source": [
    "# try to find very close graduation date\n",
    "temp = graduated_fellow[graduated_fellow['Graduation Date'].notnull()]"
   ]
  },
  {
   "cell_type": "code",
   "execution_count": 120,
   "metadata": {},
   "outputs": [],
   "source": [
    "# 47 fellows have more than one graduation dates\n",
    "df = temp[temp['Fellow ID'].map(temp['Fellow ID'].value_counts() > 1)]\n",
    "df['Fellow ID'].nunique()"
   ]
  },
  {
   "cell_type": "code",
   "execution_count": 163,
   "metadata": {},
   "outputs": [],
   "source": [
    "temp['Data_lagged'] = (temp.sort_values(by=['Graduation Date'], ascending=True)\n",
    "                       .groupby(['Fellow ID'])['Graduation Date'].shift(1))"
   ]
  },
  {
   "cell_type": "code",
   "execution_count": 164,
   "metadata": {},
   "outputs": [],
   "source": [
    "temp['Data_lagged'] = pd.to_datetime(temp['Data_lagged'])\n",
    "temp['Graduation Date'] = pd.to_datetime(temp['Graduation Date'])"
   ]
  },
  {
   "cell_type": "code",
   "execution_count": 174,
   "metadata": {},
   "outputs": [],
   "source": [
    "temp['Diff'] = (temp['Data_lagged'] - temp['Graduation Date']).dt.days"
   ]
  },
  {
   "cell_type": "code",
   "execution_count": 175,
   "metadata": {},
   "outputs": [],
   "source": [
    "temp = temp.loc[(temp['Diff'] <= 10) & (temp['Diff'] >= 0)]"
   ]
  },
  {
   "cell_type": "code",
   "execution_count": 173,
   "metadata": {},
   "outputs": [
    {
     "data": {
      "text/plain": [
       "array(['0034p00001huqzw', '0034p00001iGQ61', '00346000002iXco',\n",
       "       '00346000002iXaZ', '0034p00001huJkF', '00346000002iXdX',\n",
       "       '0034600001EXcSe', '00346000002iWAc', '00346000002iXf6',\n",
       "       '00346000002iXXo', '00346000002iWAA'], dtype=object)"
      ]
     },
     "execution_count": 173,
     "metadata": {},
     "output_type": "execute_result"
    }
   ],
   "source": [
    "df = temp[(temp['Diff'] < 10) & (temp['Diff'] >= 0)]\n",
    "# df.shape\n",
    "# those fellows need to be cleaned\n",
    "df['Fellow ID'].unique()"
   ]
  },
  {
   "cell_type": "code",
   "execution_count": 193,
   "metadata": {},
   "outputs": [],
   "source": [
    "temp = graduated_fellow.loc[graduated_fellow['Fellow ID'] == '00346000002iWAA']\n",
    "# temp\n",
    "# remove index [49,1494, 2119, 3070, 3493, 4533, 4964, 5684, 6520, 6521, 6799, 7099, 7100, 7101]"
   ]
  },
  {
   "cell_type": "code",
   "execution_count": 194,
   "metadata": {},
   "outputs": [],
   "source": [
    "remove_index = [49,1494, 2119, 3070, 3493, 4533, 4964, 5684, 6520, 6521, 6799, 7099, 7100, 7101]\n",
    "graduated_fellow.drop(remove_index, inplace=True)"
   ]
  },
  {
   "cell_type": "code",
   "execution_count": 195,
   "metadata": {},
   "outputs": [
    {
     "data": {
      "text/plain": [
       "(3271, 16)"
      ]
     },
     "execution_count": 195,
     "metadata": {},
     "output_type": "execute_result"
    }
   ],
   "source": [
    "# this is the newest dataset for further analysis\n",
    "graduated_fellow.shape"
   ]
  },
  {
   "cell_type": "code",
   "execution_count": 348,
   "metadata": {},
   "outputs": [],
   "source": [
    "# demo\n",
    "# fellow id: 00346000002iXXI\n",
    "f1 = graduated_fellow.loc[graduated_fellow['Fellow ID'] == '00346000002iXXI']"
   ]
  },
  {
   "cell_type": "code",
   "execution_count": 349,
   "metadata": {},
   "outputs": [],
   "source": [
    "# convert to timestamp\n",
    "f1['Graduation Date'] = pd.to_datetime(nsc['Graduation Date'])"
   ]
  },
  {
   "cell_type": "code",
   "execution_count": 350,
   "metadata": {},
   "outputs": [],
   "source": [
    "# create a dict to store graduation date and degree type\n",
    "# grad_dict = {date1:degree2 , date2:degree2}"
   ]
  },
  {
   "cell_type": "code",
   "execution_count": 351,
   "metadata": {},
   "outputs": [],
   "source": [
    "contain_grad_date = f1[f1['Graduation Date'].notnull()]\n",
    "#contain_grad_date"
   ]
  },
  {
   "cell_type": "code",
   "execution_count": 352,
   "metadata": {},
   "outputs": [],
   "source": [
    "grad_dict =dict(zip(contain_grad_date['Graduation Date'], contain_grad_date['Degree Title']))"
   ]
  },
  {
   "cell_type": "code",
   "execution_count": 353,
   "metadata": {
    "scrolled": true
   },
   "outputs": [
    {
     "data": {
      "text/plain": [
       "{Timestamp('2021-09-03 00:00:00'): 'MASTER OF ARTS',\n",
       " Timestamp('2017-05-13 00:00:00'): 'BS  LIBERAL ARTS AND SCIENCE'}"
      ]
     },
     "execution_count": 353,
     "metadata": {},
     "output_type": "execute_result"
    }
   ],
   "source": [
    "grad_dict"
   ]
  },
  {
   "cell_type": "code",
   "execution_count": 354,
   "metadata": {},
   "outputs": [],
   "source": [
    "# a sorted list of graudation date:\n",
    "# x = end_date\n",
    "\n",
    "def test(x):\n",
    "    i = 0\n",
    "\n",
    "    while i <= (len(grad_dict) - 1): # 0 < 1\n",
    "\n",
    "        if x <= sorted(grad_dict.keys())[i]:\n",
    "            return grad_dict.get(pd.Timestamp(sorted(grad_dict.keys())[i]))\n",
    "        else:\n",
    "            i += 1"
   ]
  },
  {
   "cell_type": "code",
   "execution_count": 355,
   "metadata": {},
   "outputs": [],
   "source": [
    "end_date = f1[f1['Enrollment End'].notnull()]['Enrollment End'].tolist()"
   ]
  },
  {
   "cell_type": "code",
   "execution_count": 356,
   "metadata": {},
   "outputs": [
    {
     "data": {
      "text/plain": [
       "'MASTER OF ARTS'"
      ]
     },
     "execution_count": 356,
     "metadata": {},
     "output_type": "execute_result"
    }
   ],
   "source": [
    "test(end_date[6])"
   ]
  },
  {
   "cell_type": "code",
   "execution_count": 357,
   "metadata": {},
   "outputs": [],
   "source": [
    "f1['Degree Title'].fillna(f1['Enrollment End'].apply(lambda x: test(x)), inplace=True)\n",
    "#f1"
   ]
  },
  {
   "cell_type": "code",
   "execution_count": null,
   "metadata": {},
   "outputs": [],
   "source": [
    "# group by degree title, find the earliest enrollment start date for each group\n",
    "# make a dictionary using degree title as key, earliest date as value\n",
    "# start_dict = {date1:degree2 , date2:degree2}"
   ]
  },
  {
   "cell_type": "code",
   "execution_count": null,
   "metadata": {},
   "outputs": [],
   "source": [
    "# grad_dict = {date1:degree2 , date2:degree2}\n",
    "# use degree as key, diff as value, return a dictionary"
   ]
  },
  {
   "cell_type": "code",
   "execution_count": null,
   "metadata": {},
   "outputs": [],
   "source": []
  },
  {
   "cell_type": "code",
   "execution_count": null,
   "metadata": {},
   "outputs": [],
   "source": []
  },
  {
   "cell_type": "code",
   "execution_count": null,
   "metadata": {},
   "outputs": [],
   "source": []
  },
  {
   "cell_type": "code",
   "execution_count": null,
   "metadata": {},
   "outputs": [],
   "source": []
  },
  {
   "cell_type": "code",
   "execution_count": null,
   "metadata": {},
   "outputs": [],
   "source": []
  },
  {
   "cell_type": "code",
   "execution_count": null,
   "metadata": {},
   "outputs": [],
   "source": []
  },
  {
   "cell_type": "code",
   "execution_count": null,
   "metadata": {},
   "outputs": [],
   "source": []
  },
  {
   "cell_type": "code",
   "execution_count": null,
   "metadata": {},
   "outputs": [],
   "source": []
  },
  {
   "cell_type": "markdown",
   "metadata": {},
   "source": [
    "### all fellows: "
   ]
  }
 ],
 "metadata": {
  "kernelspec": {
   "display_name": "Python 3",
   "language": "python",
   "name": "python3"
  },
  "language_info": {
   "codemirror_mode": {
    "name": "ipython",
    "version": 3
   },
   "file_extension": ".py",
   "mimetype": "text/x-python",
   "name": "python",
   "nbconvert_exporter": "python",
   "pygments_lexer": "ipython3",
   "version": "3.7.4"
  },
  "toc": {
   "base_numbering": 1,
   "nav_menu": {},
   "number_sections": false,
   "sideBar": true,
   "skip_h1_title": false,
   "title_cell": "Table of Contents",
   "title_sidebar": "Contents",
   "toc_cell": false,
   "toc_position": {
    "height": "calc(100% - 180px)",
    "left": "10px",
    "top": "150px",
    "width": "242.2554473876953px"
   },
   "toc_section_display": true,
   "toc_window_display": false
  }
 },
 "nbformat": 4,
 "nbformat_minor": 2
}
